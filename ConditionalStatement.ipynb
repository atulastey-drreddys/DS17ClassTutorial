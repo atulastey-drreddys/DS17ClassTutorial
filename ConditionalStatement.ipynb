{
 "cells": [
  {
   "cell_type": "code",
   "execution_count": 3,
   "id": "a57b7d0e",
   "metadata": {},
   "outputs": [
    {
     "name": "stdout",
     "output_type": "stream",
     "text": [
      "<class 'str'>\n",
      "<class 'str'>\n",
      "5463452\n"
     ]
    }
   ],
   "source": [
    "a = input(\"enter your value of a\")\n",
    "b = input(\"enter your value of b\")\n",
    "print(type(a))\n",
    "print(type(b))\n",
    "Add = a + b\n",
    "print(Add)"
   ]
  },
  {
   "cell_type": "code",
   "execution_count": 6,
   "id": "f48019ea",
   "metadata": {},
   "outputs": [
    {
     "name": "stdout",
     "output_type": "stream",
     "text": [
      "<class 'int'>\n",
      "<class 'int'>\n",
      "Value of a 456\n",
      "Value of b 867\n",
      "Output 1323\n"
     ]
    }
   ],
   "source": [
    "a = int(input(\"enter your value of a\"))\n",
    "b = int(input(\"enter your value of b\"))\n",
    "print(type(a))\n",
    "print(type(b))\n",
    "print(\"Value of a\",a)\n",
    "print(\"Value of b\",b)\n",
    "Add = a + b\n",
    "print(\"Output\",Add)"
   ]
  },
  {
   "cell_type": "code",
   "execution_count": 9,
   "id": "7165dc11",
   "metadata": {},
   "outputs": [
    {
     "name": "stdout",
     "output_type": "stream",
     "text": [
      "<class 'float'>\n",
      "<class 'float'>\n",
      "Value of a 45.0\n",
      "Value of b 80.0\n",
      "Output 125.0\n"
     ]
    }
   ],
   "source": [
    "a = float(input(\"enter your value of a\"))\n",
    "b = float(input(\"enter your value of b\"))\n",
    "print(type(a))\n",
    "print(type(b))\n",
    "print(\"Value of a\",a)\n",
    "print(\"Value of b\",b)\n",
    "Add = a + b\n",
    "print(\"Output\",Add)"
   ]
  },
  {
   "cell_type": "code",
   "execution_count": 2,
   "id": "f07401a7",
   "metadata": {},
   "outputs": [
    {
     "name": "stdout",
     "output_type": "stream",
     "text": [
      "45334829\n"
     ]
    }
   ],
   "source": [
    "print(\"453\" + \"34829\")"
   ]
  },
  {
   "cell_type": "code",
   "execution_count": null,
   "id": "4a640b15",
   "metadata": {},
   "outputs": [
    {
     "name": "stdout",
     "output_type": "stream",
     "text": [
      "658.53\n"
     ]
    }
   ],
   "source": [
    "x = 424\n",
    "y = 234.53\n",
    "\n",
    "print(x + y)"
   ]
  },
  {
   "cell_type": "code",
   "execution_count": 10,
   "id": "3b635c4b",
   "metadata": {},
   "outputs": [
    {
     "ename": "TypeError",
     "evalue": "unsupported operand type(s) for +: 'int' and 'str'",
     "output_type": "error",
     "traceback": [
      "\u001b[31m---------------------------------------------------------------------------\u001b[39m",
      "\u001b[31mTypeError\u001b[39m                                 Traceback (most recent call last)",
      "\u001b[36mCell\u001b[39m\u001b[36m \u001b[39m\u001b[32mIn[10]\u001b[39m\u001b[32m, line 1\u001b[39m\n\u001b[32m----> \u001b[39m\u001b[32m1\u001b[39m y = \u001b[32;43m435\u001b[39;49m\u001b[43m \u001b[49m\u001b[43m+\u001b[49m\u001b[43m \u001b[49m\u001b[33;43m\"\u001b[39;49m\u001b[33;43mHello\u001b[39;49m\u001b[33;43m\"\u001b[39;49m\n\u001b[32m      2\u001b[39m \u001b[38;5;28mprint\u001b[39m(y)\n",
      "\u001b[31mTypeError\u001b[39m: unsupported operand type(s) for +: 'int' and 'str'"
     ]
    }
   ],
   "source": [
    "y = 435 + \"Hello\"\n",
    "print(y)"
   ]
  },
  {
   "cell_type": "code",
   "execution_count": 11,
   "id": "989a86c6",
   "metadata": {},
   "outputs": [
    {
     "name": "stdout",
     "output_type": "stream",
     "text": [
      "435Hello\n"
     ]
    }
   ],
   "source": [
    "y = \"435\" + \"Hello\"\n",
    "print(y)"
   ]
  },
  {
   "cell_type": "code",
   "execution_count": 12,
   "id": "bc637608",
   "metadata": {},
   "outputs": [
    {
     "name": "stdout",
     "output_type": "stream",
     "text": [
      "a is greater b\n"
     ]
    }
   ],
   "source": [
    "a = 56\n",
    "b = 45\n",
    "if a > b:\n",
    "    print(\"a is greater b\")\n",
    "    "
   ]
  },
  {
   "cell_type": "code",
   "execution_count": 13,
   "id": "b7540ae9",
   "metadata": {},
   "outputs": [],
   "source": [
    "a = 56\n",
    "b = 45\n",
    "if a < b:\n",
    "    print(\"a is less b\")"
   ]
  },
  {
   "cell_type": "code",
   "execution_count": 14,
   "id": "0e26e1e9",
   "metadata": {},
   "outputs": [
    {
     "name": "stdout",
     "output_type": "stream",
     "text": [
      "B is less than A\n"
     ]
    }
   ],
   "source": [
    "a = 56\n",
    "b = 45\n",
    "if a < b:\n",
    "    print(\"a is less b\")\n",
    "else:\n",
    "    print(\"B is less than A\")"
   ]
  },
  {
   "cell_type": "code",
   "execution_count": 18,
   "id": "9ddfbea4",
   "metadata": {},
   "outputs": [
    {
     "name": "stdout",
     "output_type": "stream",
     "text": [
      "Negative -2482\n"
     ]
    }
   ],
   "source": [
    "x = int(input(\"Enter your number x\",))\n",
    "\n",
    "if x > 0:\n",
    "    print(\"Positive\",x)\n",
    "else:\n",
    "    print(\"Negative\",x)"
   ]
  },
  {
   "cell_type": "code",
   "execution_count": 21,
   "id": "363c6252",
   "metadata": {},
   "outputs": [
    {
     "name": "stdout",
     "output_type": "stream",
     "text": [
      "Zero 0\n"
     ]
    }
   ],
   "source": [
    "x = int(input(\"Enter your number x\",))\n",
    "\n",
    "if x > 0:\n",
    "    print(\"Positive\",x)\n",
    "elif x < 0:\n",
    "    print(\"Negative\",x)\n",
    "else:\n",
    "    print(\"Zero\", x)"
   ]
  },
  {
   "cell_type": "code",
   "execution_count": 25,
   "id": "b894067d",
   "metadata": {},
   "outputs": [
    {
     "name": "stdout",
     "output_type": "stream",
     "text": [
      "Odd number 5\n"
     ]
    }
   ],
   "source": [
    "num = int(input())\n",
    "if num%2 == 0:\n",
    "    print(\"Even Number\", num)\n",
    "else:\n",
    "    print(\"Odd number\", num)"
   ]
  },
  {
   "cell_type": "code",
   "execution_count": null,
   "id": "5d9d1b71",
   "metadata": {},
   "outputs": [
    {
     "name": "stdout",
     "output_type": "stream",
     "text": [
      "Not eligible for voting\n"
     ]
    }
   ],
   "source": [
    "age = int(input())\n",
    "if age >= 18 and age < 100:\n",
    "    print(\"Eligible for voting\")\n",
    "else:\n",
    "    print(\"Not eligible for voting\") "
   ]
  },
  {
   "cell_type": "markdown",
   "id": "e1c88aa2",
   "metadata": {},
   "source": [
    "# Nested Conditional statement"
   ]
  },
  {
   "cell_type": "code",
   "execution_count": 1,
   "id": "47dbd53a",
   "metadata": {},
   "outputs": [
    {
     "name": "stdout",
     "output_type": "stream",
     "text": [
      "B is greater 65\n"
     ]
    }
   ],
   "source": [
    "a = int(input(\"Enter the value of a\"))\n",
    "b = int(input(\"Enter the value of b\"))\n",
    "c = int(input(\"Enter the value of c\"))\n",
    "\n",
    "if a > b and a>c:\n",
    "    print(\"A is greater\",a)\n",
    "elif b>a and b>c:\n",
    "    print(\"B is greater\",b)\n",
    "else:\n",
    "    print(\"C is greate\",c)"
   ]
  },
  {
   "cell_type": "code",
   "execution_count": 5,
   "id": "c3fdf596",
   "metadata": {},
   "outputs": [],
   "source": [
    "a = int(input(\"Enter the value of a\"))\n",
    "b = int(input(\"Enter the value of b\"))\n",
    "c = int(input(\"Enter the value of c\"))\n",
    "\n",
    "if a>b:\n",
    "    if a>c:\n",
    "        print(\"A is greate\")\n",
    "    else:\n",
    "        print(\"C is greate\")\n",
    "elif b>a:\n",
    "    if b>c:\n",
    "        print(\"B is greate\")\n",
    "    else:\n",
    "        print(\"C is greate\")"
   ]
  },
  {
   "cell_type": "code",
   "execution_count": 9,
   "id": "b629daff",
   "metadata": {},
   "outputs": [
    {
     "name": "stdout",
     "output_type": "stream",
     "text": [
      "Zero\n"
     ]
    }
   ],
   "source": [
    "num = int(input())\n",
    "if num != 0:\n",
    "    if num > 0:\n",
    "        print(\"Positive\")\n",
    "    else:\n",
    "        print(\"Nagative\")\n",
    "else:\n",
    "    print(\"Zero\")"
   ]
  },
  {
   "cell_type": "code",
   "execution_count": null,
   "id": "25b67bb7",
   "metadata": {},
   "outputs": [],
   "source": []
  }
 ],
 "metadata": {
  "kernelspec": {
   "display_name": "Python 3",
   "language": "python",
   "name": "python3"
  },
  "language_info": {
   "codemirror_mode": {
    "name": "ipython",
    "version": 3
   },
   "file_extension": ".py",
   "mimetype": "text/x-python",
   "name": "python",
   "nbconvert_exporter": "python",
   "pygments_lexer": "ipython3",
   "version": "3.11.9"
  }
 },
 "nbformat": 4,
 "nbformat_minor": 5
}
