{
 "cells": [
  {
   "cell_type": "code",
   "execution_count": 1,
   "id": "7502c548",
   "metadata": {},
   "outputs": [
    {
     "name": "stdout",
     "output_type": "stream",
     "text": [
      "{}\n",
      "<class 'dict'>\n"
     ]
    }
   ],
   "source": [
    "s1 = {}\n",
    "print(s1)\n",
    "print(type(s1))"
   ]
  },
  {
   "cell_type": "code",
   "execution_count": 2,
   "id": "3eb35185",
   "metadata": {},
   "outputs": [
    {
     "name": "stdout",
     "output_type": "stream",
     "text": [
      "set()\n",
      "<class 'set'>\n"
     ]
    }
   ],
   "source": [
    "s1 = set({})\n",
    "print(s1)\n",
    "print(type(s1))"
   ]
  },
  {
   "cell_type": "code",
   "execution_count": 16,
   "id": "21dc89cd",
   "metadata": {},
   "outputs": [
    {
     "name": "stdout",
     "output_type": "stream",
     "text": [
      "{64, 1, 'Ruby', False, 10, 43, 42, 13, 53, 'Python', 63}\n",
      "<class 'set'>\n",
      "11\n"
     ]
    }
   ],
   "source": [
    "s2 = {10,13,42,53,43,63,1,64,64,True,False, \"Python\",\"Ruby\",0}\n",
    "print(s2)\n",
    "print(type(s2))\n",
    "print(len(s2))"
   ]
  },
  {
   "cell_type": "code",
   "execution_count": 12,
   "id": "5bc8dcea",
   "metadata": {},
   "outputs": [
    {
     "ename": "TypeError",
     "evalue": "'set' object is not subscriptable",
     "output_type": "error",
     "traceback": [
      "\u001b[31m---------------------------------------------------------------------------\u001b[39m",
      "\u001b[31mTypeError\u001b[39m                                 Traceback (most recent call last)",
      "\u001b[36mCell\u001b[39m\u001b[36m \u001b[39m\u001b[32mIn[12]\u001b[39m\u001b[32m, line 1\u001b[39m\n\u001b[32m----> \u001b[39m\u001b[32m1\u001b[39m \u001b[43ms2\u001b[49m\u001b[43m[\u001b[49m\u001b[32;43m3\u001b[39;49m\u001b[43m]\u001b[49m\n",
      "\u001b[31mTypeError\u001b[39m: 'set' object is not subscriptable"
     ]
    }
   ],
   "source": [
    "s2[3]"
   ]
  },
  {
   "cell_type": "code",
   "execution_count": 25,
   "id": "8693de6e",
   "metadata": {},
   "outputs": [
    {
     "name": "stdout",
     "output_type": "stream",
     "text": [
      "[64, 1, 10, 43, 42, 13, 53, 63]\n"
     ]
    }
   ],
   "source": [
    "new_s = []\n",
    "for i in s2:\n",
    "    if  type(i) == int:\n",
    "        new_s.append(i)\n",
    "print(new_s)\n",
    "    "
   ]
  },
  {
   "cell_type": "markdown",
   "id": "2f273616",
   "metadata": {},
   "source": [
    "# Built-in Methods"
   ]
  },
  {
   "cell_type": "code",
   "execution_count": 29,
   "id": "5e0ff090",
   "metadata": {},
   "outputs": [
    {
     "data": {
      "text/plain": [
       "{'Car', 'Python', 'R', 'Ruby'}"
      ]
     },
     "execution_count": 29,
     "metadata": {},
     "output_type": "execute_result"
    }
   ],
   "source": [
    "# Add\n",
    "s5 = {\"Python\",\"Ruby\",\"R\"}\n",
    "s5.add(\"Car\")\n",
    "s5"
   ]
  },
  {
   "cell_type": "code",
   "execution_count": 30,
   "id": "b490224e",
   "metadata": {},
   "outputs": [
    {
     "data": {
      "text/plain": [
       "{'C', 'Java', 'Python', 'R', 'Ruby'}"
      ]
     },
     "execution_count": 30,
     "metadata": {},
     "output_type": "execute_result"
    }
   ],
   "source": [
    "# union\n",
    "s5 = {\"Python\",\"Ruby\",\"R\"}\n",
    "s6 = {\"C\",\"Python\",\"Java\"}\n",
    "\n",
    "s5.union(s6)\n"
   ]
  },
  {
   "cell_type": "code",
   "execution_count": 31,
   "id": "000862eb",
   "metadata": {},
   "outputs": [
    {
     "data": {
      "text/plain": [
       "{'Python'}"
      ]
     },
     "execution_count": 31,
     "metadata": {},
     "output_type": "execute_result"
    }
   ],
   "source": [
    "# intersection\n",
    "s5 = {\"Python\",\"Ruby\",\"R\"}\n",
    "s6 = {\"C\",\"Python\",\"Java\"}\n",
    "\n",
    "s5.intersection(s6)"
   ]
  },
  {
   "cell_type": "code",
   "execution_count": null,
   "id": "17a7d07f",
   "metadata": {},
   "outputs": [
    {
     "data": {
      "text/plain": [
       "False"
      ]
     },
     "execution_count": 32,
     "metadata": {},
     "output_type": "execute_result"
    }
   ],
   "source": [
    "# issubset\n",
    "s5 = {\"Python\",\"Ruby\",\"R\",\".Net\",\"PhP\",\"C\",\"Java\"}\n",
    "s6 = {\"C\",\"Python\",\"Java\"}\n",
    "\n",
    "s5.issubset(s6)"
   ]
  },
  {
   "cell_type": "code",
   "execution_count": 33,
   "id": "d687eb99",
   "metadata": {},
   "outputs": [
    {
     "data": {
      "text/plain": [
       "True"
      ]
     },
     "execution_count": 33,
     "metadata": {},
     "output_type": "execute_result"
    }
   ],
   "source": [
    "s6.issubset(s5)"
   ]
  },
  {
   "cell_type": "code",
   "execution_count": 34,
   "id": "f6b7760a",
   "metadata": {},
   "outputs": [
    {
     "data": {
      "text/plain": [
       "True"
      ]
     },
     "execution_count": 34,
     "metadata": {},
     "output_type": "execute_result"
    }
   ],
   "source": [
    "# issuperset\n",
    "s5 = {\"Python\",\"Ruby\",\"R\",\".Net\",\"PhP\",\"C\",\"Java\"}\n",
    "s6 = {\"C\",\"Python\",\"Java\"}\n",
    "\n",
    "s5.issuperset(s6)"
   ]
  },
  {
   "cell_type": "code",
   "execution_count": 35,
   "id": "f1dac423",
   "metadata": {},
   "outputs": [
    {
     "data": {
      "text/plain": [
       "False"
      ]
     },
     "execution_count": 35,
     "metadata": {},
     "output_type": "execute_result"
    }
   ],
   "source": [
    "s6.issuperset(s5)"
   ]
  },
  {
   "cell_type": "code",
   "execution_count": 36,
   "id": "979e5226",
   "metadata": {},
   "outputs": [
    {
     "data": {
      "text/plain": [
       "{'.Net', 'PhP', 'R', 'Ruby'}"
      ]
     },
     "execution_count": 36,
     "metadata": {},
     "output_type": "execute_result"
    }
   ],
   "source": [
    "# symmetric Difference\n",
    "s5 = {\"Python\",\"Ruby\",\"R\",\".Net\",\"PhP\",\"C\",\"Java\"}\n",
    "s6 = {\"C\",\"Python\",\"Java\"}\n",
    "\n",
    "s5.symmetric_difference(s6)"
   ]
  },
  {
   "cell_type": "code",
   "execution_count": 39,
   "id": "815b2dd7",
   "metadata": {},
   "outputs": [
    {
     "name": "stdout",
     "output_type": "stream",
     "text": [
      "{'Ruby', 'PhP', '.Net', 'R'}\n"
     ]
    }
   ],
   "source": [
    "# symmetric Difference update\n",
    "s5 = {\"Python\",\"Ruby\",\"R\",\".Net\",\"PhP\",\"C\",\"Java\"}\n",
    "s6 = {\"C\",\"Python\",\"Java\"}\n",
    "\n",
    "s5.symmetric_difference_update(s6)\n",
    "print(s5)"
   ]
  },
  {
   "cell_type": "code",
   "execution_count": 40,
   "id": "406aabde",
   "metadata": {},
   "outputs": [
    {
     "name": "stdout",
     "output_type": "stream",
     "text": [
      "{'Ruby', 'C', 'PhP', '.Net', 'Java', 'R', 'Python'}\n"
     ]
    }
   ],
   "source": [
    "s6.symmetric_difference_update(s5)\n",
    "print(s6)"
   ]
  },
  {
   "cell_type": "code",
   "execution_count": 41,
   "id": "ba65106e",
   "metadata": {},
   "outputs": [
    {
     "data": {
      "text/plain": [
       "{'.Net', 'C', 'Java', 'Python', 'R', 'Ruby'}"
      ]
     },
     "execution_count": 41,
     "metadata": {},
     "output_type": "execute_result"
    }
   ],
   "source": [
    "# Discard\n",
    "\n",
    "s5 = {\"Python\",\"Ruby\",\"R\",\".Net\",\"PhP\",\"C\",\"Java\"}\n",
    "s5.discard(\"PhP\")\n",
    "s5"
   ]
  },
  {
   "cell_type": "code",
   "execution_count": null,
   "id": "4babd869",
   "metadata": {},
   "outputs": [],
   "source": []
  }
 ],
 "metadata": {
  "kernelspec": {
   "display_name": "Python 3",
   "language": "python",
   "name": "python3"
  },
  "language_info": {
   "codemirror_mode": {
    "name": "ipython",
    "version": 3
   },
   "file_extension": ".py",
   "mimetype": "text/x-python",
   "name": "python",
   "nbconvert_exporter": "python",
   "pygments_lexer": "ipython3",
   "version": "3.11.9"
  }
 },
 "nbformat": 4,
 "nbformat_minor": 5
}
