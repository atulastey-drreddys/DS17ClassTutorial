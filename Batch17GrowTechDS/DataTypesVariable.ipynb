{
 "cells": [
  {
   "cell_type": "markdown",
   "id": "2ed00ade",
   "metadata": {},
   "source": [
    "# Data Types\n",
    "1) Text -- String\n",
    "2) Numeric -- Int, FLoat, complex\n",
    "3) Sequence -- List, Tuple, Range\n",
    "4) Mapping --> Dict\n",
    "5) Set --> Set, Frozenset\n",
    "6) Bool -> True, False\n",
    "7) Null--> None"
   ]
  },
  {
   "cell_type": "markdown",
   "id": "4cfc13de",
   "metadata": {},
   "source": [
    "# Varible"
   ]
  },
  {
   "cell_type": "code",
   "execution_count": null,
   "id": "787a4a42",
   "metadata": {},
   "outputs": [
    {
     "name": "stdout",
     "output_type": "stream",
     "text": [
      "Data SCience\n",
      "1392857996272\n"
     ]
    }
   ],
   "source": [
    "# Varible name must start with alphabat like A-Za-z\n",
    "var = \"Data SCience\"\n",
    "print(var)\n",
    "print(id(var))"
   ]
  },
  {
   "cell_type": "code",
   "execution_count": 4,
   "id": "1798f62d",
   "metadata": {},
   "outputs": [
    {
     "name": "stdout",
     "output_type": "stream",
     "text": [
      "Machine learning\n",
      "1392807046448\n"
     ]
    }
   ],
   "source": [
    "Var = \"Machine learning\"\n",
    "print(Var)\n",
    "print(id(Var))"
   ]
  },
  {
   "cell_type": "code",
   "execution_count": 5,
   "id": "d4db2a42",
   "metadata": {},
   "outputs": [
    {
     "name": "stdout",
     "output_type": "stream",
     "text": [
      "Hadoop\n"
     ]
    }
   ],
   "source": [
    "a1 = \"Hadoop\"\n",
    "print(a1)"
   ]
  },
  {
   "cell_type": "code",
   "execution_count": null,
   "id": "49963bec",
   "metadata": {},
   "outputs": [
    {
     "ename": "SyntaxError",
     "evalue": "invalid decimal literal (2454212022.py, line 1)",
     "output_type": "error",
     "traceback": [
      "  \u001b[36mCell\u001b[39m\u001b[36m \u001b[39m\u001b[32mIn[6]\u001b[39m\u001b[32m, line 1\u001b[39m\n\u001b[31m    \u001b[39m\u001b[31m4b = \"Kubernet\"\u001b[39m\n    ^\n\u001b[31mSyntaxError\u001b[39m\u001b[31m:\u001b[39m invalid decimal literal\n"
     ]
    }
   ],
   "source": [
    "# Varible name cannot start with numeical value\n",
    "4b = \"Kubernet\"\n",
    "print(4b)"
   ]
  },
  {
   "cell_type": "code",
   "execution_count": null,
   "id": "756a6020",
   "metadata": {},
   "outputs": [
    {
     "name": "stdout",
     "output_type": "stream",
     "text": [
      "Deep learning\n"
     ]
    }
   ],
   "source": [
    "# we can't use any special symbol except underscore(_)\n",
    "_ = \"Deep learning\"\n",
    "print(_)"
   ]
  },
  {
   "cell_type": "code",
   "execution_count": 8,
   "id": "22df5b4a",
   "metadata": {},
   "outputs": [
    {
     "ename": "SyntaxError",
     "evalue": "invalid syntax (1448760676.py, line 1)",
     "output_type": "error",
     "traceback": [
      "  \u001b[36mCell\u001b[39m\u001b[36m \u001b[39m\u001b[32mIn[8]\u001b[39m\u001b[32m, line 1\u001b[39m\n\u001b[31m    \u001b[39m\u001b[31m^ = \"NLP\"\u001b[39m\n    ^\n\u001b[31mSyntaxError\u001b[39m\u001b[31m:\u001b[39m invalid syntax\n"
     ]
    }
   ],
   "source": [
    "^ = \"NLP\"\n",
    "print(^)"
   ]
  },
  {
   "cell_type": "code",
   "execution_count": null,
   "id": "56ff2963",
   "metadata": {},
   "outputs": [
    {
     "ename": "SyntaxError",
     "evalue": "invalid syntax (3087640009.py, line 1)",
     "output_type": "error",
     "traceback": [
      "  \u001b[36mCell\u001b[39m\u001b[36m \u001b[39m\u001b[32mIn[9]\u001b[39m\u001b[32m, line 1\u001b[39m\n\u001b[31m    \u001b[39m\u001b[31mMy Name = \"Gen AI\"\u001b[39m\n       ^\n\u001b[31mSyntaxError\u001b[39m\u001b[31m:\u001b[39m invalid syntax\n"
     ]
    }
   ],
   "source": [
    "# we cant use white space in between variable name\n",
    "My Name = \"Gen AI\"\n",
    "print(My Name)"
   ]
  },
  {
   "cell_type": "code",
   "execution_count": 10,
   "id": "e2036475",
   "metadata": {},
   "outputs": [
    {
     "name": "stdout",
     "output_type": "stream",
     "text": [
      "Gen AI\n"
     ]
    }
   ],
   "source": [
    "MyName = \"Gen AI\"\n",
    "print(MyName)"
   ]
  },
  {
   "cell_type": "code",
   "execution_count": 12,
   "id": "023ea454",
   "metadata": {},
   "outputs": [
    {
     "name": "stdout",
     "output_type": "stream",
     "text": [
      "Gen AI\n"
     ]
    }
   ],
   "source": [
    "My_Name = \"Gen AI\"\n",
    "print(My_Name)"
   ]
  },
  {
   "cell_type": "code",
   "execution_count": 15,
   "id": "33a9db87",
   "metadata": {},
   "outputs": [
    {
     "ename": "SyntaxError",
     "evalue": "invalid syntax (3192980408.py, line 2)",
     "output_type": "error",
     "traceback": [
      "  \u001b[36mCell\u001b[39m\u001b[36m \u001b[39m\u001b[32mIn[15]\u001b[39m\u001b[32m, line 2\u001b[39m\n\u001b[31m    \u001b[39m\u001b[31mbreak = \"Mouse\"\u001b[39m\n          ^\n\u001b[31mSyntaxError\u001b[39m\u001b[31m:\u001b[39m invalid syntax\n"
     ]
    }
   ],
   "source": [
    "# we cant use keyword as a varible name\n",
    "break = \"Mouse\"\n",
    "print(break)"
   ]
  },
  {
   "cell_type": "code",
   "execution_count": 14,
   "id": "379cebac",
   "metadata": {},
   "outputs": [
    {
     "name": "stdout",
     "output_type": "stream",
     "text": [
      "Mouse\n"
     ]
    }
   ],
   "source": [
    "Break = \"Mouse\"\n",
    "print(Break)"
   ]
  },
  {
   "cell_type": "code",
   "execution_count": null,
   "id": "e39bc946",
   "metadata": {},
   "outputs": [],
   "source": [
    "eCommerce, iPhone, eBay\n",
    "my_name, my_computer\n",
    "MyNameAtul"
   ]
  },
  {
   "cell_type": "code",
   "execution_count": 17,
   "id": "d163c4ee",
   "metadata": {},
   "outputs": [
    {
     "name": "stdout",
     "output_type": "stream",
     "text": [
      "45\n",
      "<class 'int'>\n"
     ]
    }
   ],
   "source": [
    "x = 45\n",
    "print(x)\n",
    "print(type(x))"
   ]
  },
  {
   "cell_type": "code",
   "execution_count": 18,
   "id": "e581228f",
   "metadata": {},
   "outputs": [
    {
     "name": "stdout",
     "output_type": "stream",
     "text": [
      "45.53\n",
      "<class 'float'>\n"
     ]
    }
   ],
   "source": [
    "x = 45.53\n",
    "print(x)\n",
    "print(type(x))"
   ]
  },
  {
   "cell_type": "code",
   "execution_count": null,
   "id": "8c72e3cb",
   "metadata": {},
   "outputs": [
    {
     "name": "stdout",
     "output_type": "stream",
     "text": [
      "(45+63j)\n",
      "<class 'complex'>\n"
     ]
    }
   ],
   "source": [
    "x = 45 + 63j\n",
    "print(x)\n",
    "print(type(x))"
   ]
  },
  {
   "cell_type": "code",
   "execution_count": 20,
   "id": "8892569d",
   "metadata": {},
   "outputs": [
    {
     "name": "stdout",
     "output_type": "stream",
     "text": [
      "Gen AI\n",
      "<class 'str'>\n"
     ]
    }
   ],
   "source": [
    "My_Name = \"Gen AI\"\n",
    "print(My_Name)\n",
    "print(type(My_Name))"
   ]
  },
  {
   "cell_type": "code",
   "execution_count": 21,
   "id": "7ef8a6b4",
   "metadata": {},
   "outputs": [
    {
     "ename": "NameError",
     "evalue": "name 'Sam' is not defined",
     "output_type": "error",
     "traceback": [
      "\u001b[31m---------------------------------------------------------------------------\u001b[39m",
      "\u001b[31mNameError\u001b[39m                                 Traceback (most recent call last)",
      "\u001b[36mCell\u001b[39m\u001b[36m \u001b[39m\u001b[32mIn[21]\u001b[39m\u001b[32m, line 1\u001b[39m\n\u001b[32m----> \u001b[39m\u001b[32m1\u001b[39m Name  = \u001b[43mSam\u001b[49m \n\u001b[32m      2\u001b[39m \u001b[38;5;28mprint\u001b[39m(Name)\n",
      "\u001b[31mNameError\u001b[39m: name 'Sam' is not defined"
     ]
    }
   ],
   "source": [
    "Name  = Sam \n",
    "print(Name)"
   ]
  },
  {
   "cell_type": "code",
   "execution_count": 23,
   "id": "55bd8afd",
   "metadata": {},
   "outputs": [
    {
     "name": "stdout",
     "output_type": "stream",
     "text": [
      "Altman\n",
      "<class 'str'>\n"
     ]
    }
   ],
   "source": [
    "Sam = \"Altman\"\n",
    "Name  = Sam \n",
    "print(Name)\n",
    "print(type(Name))\n"
   ]
  },
  {
   "cell_type": "code",
   "execution_count": 26,
   "id": "8f7b4022",
   "metadata": {},
   "outputs": [
    {
     "name": "stdout",
     "output_type": "stream",
     "text": [
      "Hello, Dear all data scientist\n",
      "<class 'str'>\n"
     ]
    }
   ],
   "source": [
    "sent1 = \"Hello, Dear all data scientist\"\n",
    "print(sent1)\n",
    "print(type(sent1))"
   ]
  },
  {
   "cell_type": "code",
   "execution_count": 28,
   "id": "299fb54c",
   "metadata": {},
   "outputs": [
    {
     "name": "stdout",
     "output_type": "stream",
     "text": [
      "[234, 435, 4563.45, 'Hello', 'Python', True, False, None]\n",
      "<class 'list'>\n"
     ]
    }
   ],
   "source": [
    "# sequence (List, Tuple, Range)\n",
    "\n",
    "x = [234, 435, 4563.45, \"Hello\", \"Python\", True, False, None]\n",
    "print(x)\n",
    "print(type(x))"
   ]
  },
  {
   "cell_type": "code",
   "execution_count": 29,
   "id": "6fc684f9",
   "metadata": {},
   "outputs": [
    {
     "name": "stdout",
     "output_type": "stream",
     "text": [
      "(453, 234, 53, 'X', 'Y', 'Z')\n",
      "<class 'tuple'>\n"
     ]
    }
   ],
   "source": [
    "y = (453,234,53,\"X\",\"Y\",\"Z\")\n",
    "print(y)\n",
    "print(type(y))"
   ]
  },
  {
   "cell_type": "code",
   "execution_count": 30,
   "id": "5708afb6",
   "metadata": {},
   "outputs": [
    {
     "name": "stdout",
     "output_type": "stream",
     "text": [
      "p\n",
      "y\n",
      "t\n",
      "h\n",
      "o\n",
      "n\n"
     ]
    }
   ],
   "source": [
    "x = \"python\"\n",
    "for i in x:\n",
    "    print(i)"
   ]
  },
  {
   "cell_type": "code",
   "execution_count": 31,
   "id": "78ec14e2",
   "metadata": {},
   "outputs": [
    {
     "ename": "TypeError",
     "evalue": "'int' object is not iterable",
     "output_type": "error",
     "traceback": [
      "\u001b[31m---------------------------------------------------------------------------\u001b[39m",
      "\u001b[31mTypeError\u001b[39m                                 Traceback (most recent call last)",
      "\u001b[36mCell\u001b[39m\u001b[36m \u001b[39m\u001b[32mIn[31]\u001b[39m\u001b[32m, line 2\u001b[39m\n\u001b[32m      1\u001b[39m y = \u001b[32m34535\u001b[39m\n\u001b[32m----> \u001b[39m\u001b[32m2\u001b[39m \u001b[38;5;28;43;01mfor\u001b[39;49;00m\u001b[43m \u001b[49m\u001b[43mj\u001b[49m\u001b[43m \u001b[49m\u001b[38;5;129;43;01min\u001b[39;49;00m\u001b[43m \u001b[49m\u001b[43my\u001b[49m\u001b[43m:\u001b[49m\n\u001b[32m      3\u001b[39m \u001b[43m    \u001b[49m\u001b[38;5;28;43mprint\u001b[39;49m\u001b[43m(\u001b[49m\u001b[43mj\u001b[49m\u001b[43m)\u001b[49m\n",
      "\u001b[31mTypeError\u001b[39m: 'int' object is not iterable"
     ]
    }
   ],
   "source": [
    "y = 34535\n",
    "for j in y:\n",
    "    print(j)"
   ]
  },
  {
   "cell_type": "code",
   "execution_count": 32,
   "id": "755f23ab",
   "metadata": {},
   "outputs": [
    {
     "name": "stdout",
     "output_type": "stream",
     "text": [
      "range(0, 5)\n"
     ]
    }
   ],
   "source": [
    "# Syntax (start, stop, step)\n",
    "a = range(5)\n",
    "print(a)"
   ]
  },
  {
   "cell_type": "code",
   "execution_count": 34,
   "id": "f3e187c9",
   "metadata": {},
   "outputs": [
    {
     "name": "stdout",
     "output_type": "stream",
     "text": [
      "[0, 1, 2, 3, 4]\n",
      "5\n"
     ]
    }
   ],
   "source": [
    "b = list(range(5))\n",
    "print(b)\n",
    "print(len(b))"
   ]
  },
  {
   "cell_type": "code",
   "execution_count": 36,
   "id": "57406035",
   "metadata": {},
   "outputs": [
    {
     "name": "stdout",
     "output_type": "stream",
     "text": [
      "[4, 5, 6, 7, 8, 9, 10, 11, 12, 13, 14, 15]\n",
      "12\n"
     ]
    }
   ],
   "source": [
    "c = list(range(4,16))\n",
    "print(c)\n",
    "print(len(c))"
   ]
  },
  {
   "cell_type": "code",
   "execution_count": 37,
   "id": "eab1cbf9",
   "metadata": {},
   "outputs": [
    {
     "name": "stdout",
     "output_type": "stream",
     "text": [
      "[4, 6, 8, 10, 12, 14]\n",
      "6\n"
     ]
    }
   ],
   "source": [
    "c = list(range(4,16,2))\n",
    "print(c)\n",
    "print(len(c))"
   ]
  },
  {
   "cell_type": "code",
   "execution_count": 38,
   "id": "eb9cdabb",
   "metadata": {},
   "outputs": [
    {
     "name": "stdout",
     "output_type": "stream",
     "text": [
      "[4, 7, 10, 13]\n",
      "4\n"
     ]
    }
   ],
   "source": [
    "c = list(range(4,16,3))\n",
    "print(c)\n",
    "print(len(c))"
   ]
  },
  {
   "cell_type": "code",
   "execution_count": 39,
   "id": "4799c2bf",
   "metadata": {},
   "outputs": [
    {
     "name": "stdout",
     "output_type": "stream",
     "text": [
      "{3456, 453, 234, 3245, 63}\n",
      "<class 'set'>\n"
     ]
    }
   ],
   "source": [
    "# Mapping\n",
    "d1 = {453,3456,234,63,3245}\n",
    "print(d1)\n",
    "print(type(d1))"
   ]
  },
  {
   "cell_type": "code",
   "execution_count": 40,
   "id": "ae7d8061",
   "metadata": {},
   "outputs": [
    {
     "name": "stdout",
     "output_type": "stream",
     "text": [
      "{'Name': 'harish', 'Age': 23}\n"
     ]
    }
   ],
   "source": [
    "d2 = {\"Name\":\"harish\",\"Age\":23}\n",
    "print(d2)"
   ]
  },
  {
   "cell_type": "code",
   "execution_count": 42,
   "id": "f96ec953",
   "metadata": {},
   "outputs": [
    {
     "name": "stdout",
     "output_type": "stream",
     "text": [
      "True\n",
      "<class 'bool'>\n"
     ]
    }
   ],
   "source": [
    "T = True\n",
    "print(T)\n",
    "print(type(T))"
   ]
  },
  {
   "cell_type": "code",
   "execution_count": 43,
   "id": "78b970c6",
   "metadata": {},
   "outputs": [
    {
     "name": "stdout",
     "output_type": "stream",
     "text": [
      "False\n",
      "<class 'bool'>\n"
     ]
    }
   ],
   "source": [
    "T = False\n",
    "print(T)\n",
    "print(type(T))"
   ]
  },
  {
   "cell_type": "code",
   "execution_count": 45,
   "id": "dc346ea5",
   "metadata": {},
   "outputs": [
    {
     "name": "stdout",
     "output_type": "stream",
     "text": [
      "honey\n"
     ]
    }
   ],
   "source": [
    "true = \"honey\"\n",
    "g = true \n",
    "print(g)"
   ]
  },
  {
   "cell_type": "code",
   "execution_count": 47,
   "id": "bc59b754",
   "metadata": {},
   "outputs": [
    {
     "name": "stdout",
     "output_type": "stream",
     "text": [
      "None\n"
     ]
    }
   ],
   "source": [
    "X = None\n",
    "print(X)"
   ]
  },
  {
   "cell_type": "code",
   "execution_count": null,
   "id": "7417a699",
   "metadata": {},
   "outputs": [],
   "source": []
  }
 ],
 "metadata": {
  "kernelspec": {
   "display_name": "Python 3",
   "language": "python",
   "name": "python3"
  },
  "language_info": {
   "codemirror_mode": {
    "name": "ipython",
    "version": 3
   },
   "file_extension": ".py",
   "mimetype": "text/x-python",
   "name": "python",
   "nbconvert_exporter": "python",
   "pygments_lexer": "ipython3",
   "version": "3.11.9"
  }
 },
 "nbformat": 4,
 "nbformat_minor": 5
}
