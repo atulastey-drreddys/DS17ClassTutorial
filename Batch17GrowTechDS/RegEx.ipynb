{
 "cells": [
  {
   "cell_type": "code",
   "execution_count": 1,
   "id": "7685483b",
   "metadata": {},
   "outputs": [],
   "source": [
    "import re"
   ]
  },
  {
   "cell_type": "code",
   "execution_count": 3,
   "id": "7f01aa67",
   "metadata": {},
   "outputs": [
    {
     "name": "stdout",
     "output_type": "stream",
     "text": [
      "<re.Match object; span=(0, 5), match='Hello'>\n"
     ]
    }
   ],
   "source": [
    "sent = \"Hello you are a data scientist\"\n",
    "\n",
    "pattern = \"Hello\"\n",
    "\n",
    "result = re.match(pattern,sent)\n",
    "\n",
    "print(result)"
   ]
  },
  {
   "cell_type": "code",
   "execution_count": 4,
   "id": "2cca0ff4",
   "metadata": {},
   "outputs": [
    {
     "name": "stdout",
     "output_type": "stream",
     "text": [
      "<re.Match object; span=(0, 9), match='Hello you'>\n"
     ]
    }
   ],
   "source": [
    "sent = \"Hello you are a data scientist\"\n",
    "\n",
    "pattern = \"Hello you\"\n",
    "\n",
    "result = re.match(pattern,sent)\n",
    "\n",
    "print(result)"
   ]
  },
  {
   "cell_type": "code",
   "execution_count": 9,
   "id": "a0527cca",
   "metadata": {},
   "outputs": [
    {
     "name": "stdout",
     "output_type": "stream",
     "text": [
      "<re.Match object; span=(0, 2), match='He'>\n"
     ]
    }
   ],
   "source": [
    "sent = \"Hello you are a data scientist\"\n",
    "\n",
    "pattern = \"He\"\n",
    "\n",
    "result = re.match(pattern,sent)\n",
    "\n",
    "print(result)\n"
   ]
  },
  {
   "cell_type": "code",
   "execution_count": 14,
   "id": "061255be",
   "metadata": {},
   "outputs": [
    {
     "name": "stdout",
     "output_type": "stream",
     "text": [
      "<re.Match object; span=(0, 5), match='Hello'>\n",
      "(0, 5)\n",
      "0\n",
      "5\n",
      "Hello\n"
     ]
    }
   ],
   "source": [
    "sent = \"Hello you are a data scientist\"\n",
    "\n",
    "pattern = \"Hello\"\n",
    "\n",
    "result = re.match(pattern,sent)\n",
    "\n",
    "print(result)\n",
    "print(result.span())\n",
    "print(result.start())\n",
    "print(result.end())\n",
    "print(result.group())"
   ]
  },
  {
   "cell_type": "code",
   "execution_count": 17,
   "id": "3fd448ad",
   "metadata": {},
   "outputs": [
    {
     "name": "stdout",
     "output_type": "stream",
     "text": [
      "None\n",
      "<re.Match object; span=(10, 13), match='are'>\n"
     ]
    }
   ],
   "source": [
    "sent = \"Hello you are a data scientist\"\n",
    "\n",
    "pattern = \"are\"\n",
    "\n",
    "match_res = re.match(pattern, sent)\n",
    "result = re.search(pattern,sent)\n",
    "print(match_res)\n",
    "print(result)"
   ]
  },
  {
   "cell_type": "code",
   "execution_count": null,
   "id": "ed4a816d",
   "metadata": {},
   "outputs": [
    {
     "name": "stdout",
     "output_type": "stream",
     "text": [
      "Hello you are a data Analyst\n"
     ]
    }
   ],
   "source": [
    "sent = \"Hello you are a data scientist\"\n",
    "result = re.sub(\"scientist\",\"Analyst\",sent)\n",
    "print(result)"
   ]
  },
  {
   "cell_type": "code",
   "execution_count": 24,
   "id": "317cc88f",
   "metadata": {},
   "outputs": [
    {
     "name": "stdout",
     "output_type": "stream",
     "text": [
      "Hello you are a pharmacetical scientist\n"
     ]
    }
   ],
   "source": [
    "sent = \"Hello you are a data scientist\"\n",
    "result = re.sub(\"data\",\"pharmacetical\",sent)\n",
    "print(result)"
   ]
  },
  {
   "cell_type": "code",
   "execution_count": 25,
   "id": "590f0369",
   "metadata": {},
   "outputs": [
    {
     "name": "stdout",
     "output_type": "stream",
     "text": [
      "['very', 'very']\n"
     ]
    }
   ],
   "source": [
    "# findall\n",
    "\n",
    "x = \"Rose are very beautiful. Python is a very powerful language\"\n",
    "pattern = 'very'\n",
    "\n",
    "result = re.findall(pattern,x)\n",
    "print(result)"
   ]
  },
  {
   "cell_type": "code",
   "execution_count": 26,
   "id": "401be80d",
   "metadata": {},
   "outputs": [
    {
     "name": "stdout",
     "output_type": "stream",
     "text": [
      "['very']\n"
     ]
    }
   ],
   "source": [
    "x = \"Rose are very beautiful. Python is a Very powerful language\"\n",
    "pattern = 'very'\n",
    "\n",
    "result = re.findall(pattern,x)\n",
    "print(result)"
   ]
  },
  {
   "cell_type": "code",
   "execution_count": 31,
   "id": "66ba946f",
   "metadata": {},
   "outputs": [
    {
     "name": "stdout",
     "output_type": "stream",
     "text": [
      "['very', 'Very']\n"
     ]
    }
   ],
   "source": [
    "x = \"Rose are very beautiful. Python is a Very powerful language\"\n",
    "pattern = 'very'\n",
    "\n",
    "result = re.findall(pattern,x,re.IGNORECASE)\n",
    "print(result)"
   ]
  },
  {
   "cell_type": "code",
   "execution_count": 34,
   "id": "8a7cf4ce",
   "metadata": {},
   "outputs": [
    {
     "name": "stdout",
     "output_type": "stream",
     "text": [
      "['7409457848']\n"
     ]
    }
   ],
   "source": [
    "sent1 = \"Hello your contact Number is 7409457848\"\n",
    "pattern = \"\\d+\"\n",
    "\n",
    "result = re.findall(pattern,sent1)\n",
    "print(result)"
   ]
  },
  {
   "cell_type": "code",
   "execution_count": 35,
   "id": "ba409fb9",
   "metadata": {},
   "outputs": [
    {
     "name": "stdout",
     "output_type": "stream",
     "text": [
      "['7409457848', '453']\n"
     ]
    }
   ],
   "source": [
    "sent1 = \"Hello your contact Number is 7409457848, and your house number 453\"\n",
    "pattern = \"\\d+\"\n",
    "\n",
    "result = re.findall(pattern,sent1)\n",
    "print(result)"
   ]
  },
  {
   "cell_type": "code",
   "execution_count": 36,
   "id": "635e195f",
   "metadata": {},
   "outputs": [
    {
     "name": "stdout",
     "output_type": "stream",
     "text": [
      "['Hello your contact Number is ', ', and your house number ']\n"
     ]
    }
   ],
   "source": [
    "sent1 = \"Hello your contact Number is 7409457848, and your house number 453\"\n",
    "pattern = \"\\D+\"\n",
    "\n",
    "result = re.findall(pattern,sent1)\n",
    "print(result)"
   ]
  },
  {
   "cell_type": "code",
   "execution_count": null,
   "id": "d5531f6d",
   "metadata": {},
   "outputs": [
    {
     "name": "stdout",
     "output_type": "stream",
     "text": [
      "['Hello', 'your', 'contact', 'Number', 'is', '7409457848', 'and', 'your', 'house', 'number', '453']\n"
     ]
    }
   ],
   "source": [
    "sent1 = \"Hello your contact Number is 7409457848, and your house number 453\"\n",
    "pattern = \"\\w+\" # word\n",
    "\n",
    "result = re.findall(pattern,sent1)\n",
    "print(result)"
   ]
  },
  {
   "cell_type": "code",
   "execution_count": null,
   "id": "57dc544d",
   "metadata": {},
   "outputs": [
    {
     "name": "stdout",
     "output_type": "stream",
     "text": [
      "[' ', ' ', ' @  ', ' ', ' ', ', ', ' & ', ' ', ' ', ' ']\n"
     ]
    }
   ],
   "source": [
    "sent1 = \"Hello your contact @  Number is 7409457848, and & your house number 453\"\n",
    "pattern = \"\\W+\" # non-word\n",
    "\n",
    "result = re.findall(pattern,sent1)\n",
    "print(result)"
   ]
  },
  {
   "cell_type": "code",
   "execution_count": 42,
   "id": "f9f3f318",
   "metadata": {},
   "outputs": [
    {
     "name": "stdout",
     "output_type": "stream",
     "text": [
      "[' ', '         ', ' ', '  ', ' ', ' ', ' ', ' ', ' ', ' ', ' ', ' ']\n"
     ]
    }
   ],
   "source": [
    "sent1 = \"Hello your         contact @  Number is 7409457848, and & your house number 453\"\n",
    "pattern = \"\\s+\"\n",
    "\n",
    "result = re.findall(pattern,sent1)\n",
    "print(result)"
   ]
  },
  {
   "cell_type": "code",
   "execution_count": 43,
   "id": "550ae739",
   "metadata": {},
   "outputs": [
    {
     "name": "stdout",
     "output_type": "stream",
     "text": [
      "['Hello', 'your', 'c', 'on', 'tact', '@', 'Number', 'is', '7409457848,', 'and', '&', 'your', 'house', 'number', '453']\n"
     ]
    }
   ],
   "source": [
    "sent1 = \"Hello your c on tact @  Number is 7409457848, and & your house number 453\"\n",
    "pattern = \"\\S+\"\n",
    "\n",
    "result = re.findall(pattern,sent1)\n",
    "print(result)"
   ]
  },
  {
   "cell_type": "code",
   "execution_count": 49,
   "id": "82bb07e6",
   "metadata": {},
   "outputs": [
    {
     "name": "stdout",
     "output_type": "stream",
     "text": [
      "['c', 'a', 'c', 'b', 'a', 'd', 'b']\n"
     ]
    }
   ],
   "source": [
    "sent1 = \"Hello your contact @  Number is 7409457848, and & your house number 453\"\n",
    "pattern = \"[a-d]\"\n",
    "\n",
    "result = re.findall(pattern,sent1)\n",
    "print(result)"
   ]
  },
  {
   "cell_type": "code",
   "execution_count": 50,
   "id": "7d81449f",
   "metadata": {},
   "outputs": [
    {
     "name": "stdout",
     "output_type": "stream",
     "text": [
      "['e', 'l', 'l', 'm', 'e', 'i', 'h', 'e', 'm', 'e']\n"
     ]
    }
   ],
   "source": [
    "sent1 = \"Hello your contact @  Number is 7409457848, and & your house number 453\"\n",
    "pattern = \"[e-m]\"\n",
    "\n",
    "result = re.findall(pattern,sent1)\n",
    "print(result)"
   ]
  },
  {
   "cell_type": "code",
   "execution_count": 51,
   "id": "e213f168",
   "metadata": {},
   "outputs": [
    {
     "name": "stdout",
     "output_type": "stream",
     "text": [
      "['e', 'l', 'l', 'm', 'e', 'i', 'h', 'e', 'm', 'e', '3']\n"
     ]
    }
   ],
   "source": [
    "sent1 = \"Hello your contact @  Number is 7409457848, and & your house number 453\"\n",
    "pattern = \"[e-m1-3]\"\n",
    "\n",
    "result = re.findall(pattern,sent1)\n",
    "print(result)"
   ]
  },
  {
   "cell_type": "code",
   "execution_count": 52,
   "id": "2cf3331c",
   "metadata": {},
   "outputs": [
    {
     "name": "stdout",
     "output_type": "stream",
     "text": [
      "['e', 'l', 'l', 'm', 'e', 'i', '4', '4', '4', 'h', 'e', 'm', 'e', '4', '3']\n"
     ]
    }
   ],
   "source": [
    "sent1 = \"Hello your contact @  Number is 7409457848, and & your house number 453\"\n",
    "pattern = \"[e-m1-4]\"\n",
    "\n",
    "result = re.findall(pattern,sent1)\n",
    "print(result)"
   ]
  },
  {
   "cell_type": "code",
   "execution_count": 19,
   "id": "8b250f14",
   "metadata": {},
   "outputs": [
    {
     "name": "stdout",
     "output_type": "stream",
     "text": [
      "['Atttuuu']\n"
     ]
    }
   ],
   "source": [
    "import re\n",
    "sent1 = \"Hello Atttuuuulll your contact @  Number is 7409457848, and & your house number aiout 453\"\n",
    "pattern  = \"Atttu{3}\"\n",
    "result  = re.findall(pattern, sent1)\n",
    "print(result)\n"
   ]
  },
  {
   "cell_type": "code",
   "execution_count": 20,
   "id": "82f67d8a",
   "metadata": {},
   "outputs": [
    {
     "name": "stdout",
     "output_type": "stream",
     "text": [
      "['at', 'an', 'ai']\n"
     ]
    }
   ],
   "source": [
    "sent1 = \"Hello atul your contact @  Number is 7409457848, and & your house number aiout 453\"\n",
    "pattern = \"a[i-t]\"\n",
    "\n",
    "result = re.findall(pattern,sent1)\n",
    "print(result)"
   ]
  },
  {
   "cell_type": "code",
   "execution_count": 59,
   "id": "f6b417f4",
   "metadata": {},
   "outputs": [
    {
     "name": "stdout",
     "output_type": "stream",
     "text": [
      "['ac']\n"
     ]
    }
   ],
   "source": [
    "sent1 = \"Hello your contact @  Number is 7409457848, and & your house number 453\"\n",
    "pattern = \"a[ct]\"\n",
    "\n",
    "result = re.findall(\"a[ct]\",sent1)\n",
    "print(result)"
   ]
  },
  {
   "cell_type": "code",
   "execution_count": 57,
   "id": "480b3858",
   "metadata": {},
   "outputs": [
    {
     "name": "stdout",
     "output_type": "stream",
     "text": [
      "['um', 'um']\n"
     ]
    }
   ],
   "source": [
    "sent1 = \"Hello your contact @  Number is 7409457848, and & your house number 453\"\n",
    "pattern = \"u[mb]\"\n",
    "\n",
    "result = re.findall(pattern,sent1)\n",
    "print(result)"
   ]
  },
  {
   "cell_type": "code",
   "execution_count": 69,
   "id": "6fe83940",
   "metadata": {},
   "outputs": [
    {
     "name": "stdout",
     "output_type": "stream",
     "text": [
      "[]\n"
     ]
    }
   ],
   "source": [
    "sent1 = \"Hello your contact @  Number is 7409457848, and & your house number 453\"\n",
    "pattern = \"^Hello your phone\"\n",
    "result = re.findall(pattern,sent1)\n",
    "print(result)"
   ]
  },
  {
   "cell_type": "code",
   "execution_count": 67,
   "id": "c8e23480",
   "metadata": {},
   "outputs": [
    {
     "name": "stdout",
     "output_type": "stream",
     "text": [
      "['number 453']\n"
     ]
    }
   ],
   "source": [
    "sent1 = \"Hello your contact @  Number is 7409457848, and & your house number 453\"\n",
    "pattern = \"number 453$\"\n",
    "result = re.findall(pattern,sent1)\n",
    "print(result)"
   ]
  },
  {
   "cell_type": "code",
   "execution_count": 68,
   "id": "e65e7e3b",
   "metadata": {},
   "outputs": [
    {
     "name": "stdout",
     "output_type": "stream",
     "text": [
      "[]\n"
     ]
    }
   ],
   "source": [
    "sent1 = \"Hello your contact @  Number is 7409457848, and & your house number 453\"\n",
    "pattern = \"home number 453$\"\n",
    "result = re.findall(pattern,sent1)\n",
    "print(result)"
   ]
  },
  {
   "cell_type": "code",
   "execution_count": 70,
   "id": "6a4c7976",
   "metadata": {},
   "outputs": [
    {
     "name": "stdout",
     "output_type": "stream",
     "text": [
      "['4', '4', '5', '4', '4', '5', '3']\n"
     ]
    }
   ],
   "source": [
    "sent1 = \"Hello your contact @  Number is 7409457848, and & your house number 453\"\n",
    "pattern = \"[453$]\"\n",
    "result = re.findall(pattern,sent1)\n",
    "print(result)"
   ]
  },
  {
   "cell_type": "code",
   "execution_count": 73,
   "id": "86621ea9",
   "metadata": {},
   "outputs": [
    {
     "name": "stdout",
     "output_type": "stream",
     "text": [
      "['0', ' ', 'H', 'e', 'l', 'l', 'o', ' ', 'y', 'o', 'u', 'r', ' ', 'c', 'o', 'n', 't', 'a', 'c', 't', ' ', '@', ' ', ' ', 'N', 'u', 'm', 'b', 'e', 'r', ' ', 'i', 's', ' ', '0', '9', '5', '8', '8', ',', ' ', 'a', 'n', 'd', ' ', '&', ' ', 'y', 'o', 'u', 'r', ' ', 'h', 'o', 'u', 's', 'e', ' ', 'n', 'u', 'm', 'b', 'e', 'r', ' ', '5', '3']\n"
     ]
    }
   ],
   "source": [
    "sent1 = \"740 Hello your contact @  Number is 7409457848, and & your house number 453\"\n",
    "pattern = \"[^74]\"\n",
    "result = re.findall(pattern,sent1)\n",
    "print(result)"
   ]
  },
  {
   "cell_type": "code",
   "execution_count": 79,
   "id": "b92da0d3",
   "metadata": {},
   "outputs": [
    {
     "name": "stdout",
     "output_type": "stream",
     "text": [
      "['7', '7', '9', '7', '8', '8']\n"
     ]
    }
   ],
   "source": [
    "sent1 = \"740 Hello your contact @  Number is 7409457848, and & your house number 453\"\n",
    "pattern = \"[^0-5\\D]\"\n",
    "result = re.findall(pattern,sent1)\n",
    "print(result)"
   ]
  },
  {
   "cell_type": "code",
   "execution_count": 87,
   "id": "c85a185f",
   "metadata": {},
   "outputs": [
    {
     "name": "stdout",
     "output_type": "stream",
     "text": [
      "['ramagnihotri@gmail.com']\n"
     ]
    }
   ],
   "source": [
    "sent1 = \"740 Hello your email id  ramagnihotri@gmail.com  Number is 7409457848, and & your house number 453\"\n",
    "pattern = \"\\w+@\\w+.\\w+\"\n",
    "result = re.findall(pattern,sent1)\n",
    "print(result)"
   ]
  },
  {
   "cell_type": "code",
   "execution_count": 90,
   "id": "d4cfcc6c",
   "metadata": {},
   "outputs": [
    {
     "name": "stdout",
     "output_type": "stream",
     "text": [
      "['ramagnihotri1998@gmail.com', 'Ghanshyam342@787hotmail.com']\n"
     ]
    }
   ],
   "source": [
    "sent1 = \"740 Hello your email id  ramagnihotri1998@gmail.com  Number is 7409457848, Ghanshyam342@787hotmail.com and & your house number 453\"\n",
    "pattern = \"\\w+@\\w+.\\w+\"\n",
    "result = re.findall(pattern,sent1)\n",
    "print(result)"
   ]
  },
  {
   "cell_type": "code",
   "execution_count": null,
   "id": "4cce8138",
   "metadata": {},
   "outputs": [],
   "source": [
    "sent2 = \"AMisha DOB is 23-05-1995 and Jyti DOB is 12-12-1980\"\n",
    "\n"
   ]
  }
 ],
 "metadata": {
  "kernelspec": {
   "display_name": "Python 3",
   "language": "python",
   "name": "python3"
  },
  "language_info": {
   "codemirror_mode": {
    "name": "ipython",
    "version": 3
   },
   "file_extension": ".py",
   "mimetype": "text/x-python",
   "name": "python",
   "nbconvert_exporter": "python",
   "pygments_lexer": "ipython3",
   "version": "3.11.9"
  }
 },
 "nbformat": 4,
 "nbformat_minor": 5
}
