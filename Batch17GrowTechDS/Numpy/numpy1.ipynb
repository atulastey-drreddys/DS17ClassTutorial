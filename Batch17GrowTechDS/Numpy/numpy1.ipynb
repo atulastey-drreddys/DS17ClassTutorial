{
 "cells": [
  {
   "cell_type": "code",
   "execution_count": 1,
   "id": "ac066bdc",
   "metadata": {},
   "outputs": [],
   "source": [
    "import numpy as np"
   ]
  },
  {
   "cell_type": "code",
   "execution_count": 2,
   "id": "000a53bb",
   "metadata": {},
   "outputs": [
    {
     "name": "stdout",
     "output_type": "stream",
     "text": [
      "2.2.5\n"
     ]
    }
   ],
   "source": [
    "print(np.__version__)"
   ]
  },
  {
   "cell_type": "code",
   "execution_count": 13,
   "id": "18b3e65e",
   "metadata": {},
   "outputs": [
    {
     "name": "stdout",
     "output_type": "stream",
     "text": [
      "58\n",
      "<class 'numpy.ndarray'>\n",
      "0\n",
      "1\n",
      "()\n"
     ]
    }
   ],
   "source": [
    "# 0 dimensional array\n",
    "zero_array = np.array(58)\n",
    "print(zero_array)\n",
    "print(type(zero_array))\n",
    "print(zero_array.ndim)\n",
    "print(zero_array.size)\n",
    "print(zero_array.shape)"
   ]
  },
  {
   "cell_type": "code",
   "execution_count": 17,
   "id": "00dd3f2a",
   "metadata": {},
   "outputs": [
    {
     "name": "stdout",
     "output_type": "stream",
     "text": [
      "[4 2 5 6]\n",
      "<class 'numpy.ndarray'>\n",
      "1\n",
      "4\n",
      "(4,)\n"
     ]
    }
   ],
   "source": [
    "# 1D array\n",
    "\n",
    "one_d_array = np.array([4,2,5,6])\n",
    "print(one_d_array)\n",
    "print(type(one_d_array))\n",
    "print(one_d_array.ndim)\n",
    "print(one_d_array.size)\n",
    "print(one_d_array.shape)"
   ]
  },
  {
   "cell_type": "code",
   "execution_count": 22,
   "id": "24bc0623",
   "metadata": {},
   "outputs": [
    {
     "name": "stdout",
     "output_type": "stream",
     "text": [
      "[[3 4 5]\n",
      " [6 7 4]]\n",
      "2\n",
      "(2, 3)\n",
      "6\n",
      "int64\n"
     ]
    }
   ],
   "source": [
    "# 2d Array\n",
    "\n",
    "two_array = np.array([[3,4,5],[6,7,4]])\n",
    "print(two_array)\n",
    "print(two_array.ndim)\n",
    "print(two_array.shape)\n",
    "print(two_array.size)\n",
    "print(two_array.dtype)\n"
   ]
  },
  {
   "cell_type": "code",
   "execution_count": 23,
   "id": "eacb930b",
   "metadata": {},
   "outputs": [
    {
     "name": "stdout",
     "output_type": "stream",
     "text": [
      "[[3.5 4.  5. ]\n",
      " [6.  7.  4. ]]\n",
      "2\n",
      "(2, 3)\n",
      "6\n",
      "float64\n"
     ]
    }
   ],
   "source": [
    "two_array = np.array([[3.5,4,5],[6,7,4]])\n",
    "print(two_array)\n",
    "print(two_array.ndim)\n",
    "print(two_array.shape)\n",
    "print(two_array.size)\n",
    "print(two_array.dtype)\n"
   ]
  },
  {
   "cell_type": "code",
   "execution_count": 24,
   "id": "bd208f81",
   "metadata": {},
   "outputs": [
    {
     "name": "stdout",
     "output_type": "stream",
     "text": [
      "[['3' '4' '5']\n",
      " ['6' '7' '4']]\n",
      "2\n",
      "(2, 3)\n",
      "6\n",
      "<U21\n"
     ]
    }
   ],
   "source": [
    "two_array = np.array([[3,\"4\",5],[6,7,4]])\n",
    "print(two_array)\n",
    "print(two_array.ndim)\n",
    "print(two_array.shape)\n",
    "print(two_array.size)\n",
    "print(two_array.dtype)\n"
   ]
  },
  {
   "cell_type": "code",
   "execution_count": 25,
   "id": "8b57ad3f",
   "metadata": {},
   "outputs": [
    {
     "ename": "ValueError",
     "evalue": "setting an array element with a sequence. The requested array has an inhomogeneous shape after 1 dimensions. The detected shape was (2,) + inhomogeneous part.",
     "output_type": "error",
     "traceback": [
      "\u001b[31m---------------------------------------------------------------------------\u001b[39m",
      "\u001b[31mValueError\u001b[39m                                Traceback (most recent call last)",
      "\u001b[36mCell\u001b[39m\u001b[36m \u001b[39m\u001b[32mIn[25]\u001b[39m\u001b[32m, line 1\u001b[39m\n\u001b[32m----> \u001b[39m\u001b[32m1\u001b[39m py_arr2 = \u001b[43mnp\u001b[49m\u001b[43m.\u001b[49m\u001b[43marray\u001b[49m\u001b[43m(\u001b[49m\u001b[43m[\u001b[49m\u001b[43m[\u001b[49m\u001b[32;43m45\u001b[39;49m\u001b[43m,\u001b[49m\u001b[32;43m23\u001b[39;49m\u001b[43m,\u001b[49m\u001b[32;43m65\u001b[39;49m\u001b[43m]\u001b[49m\u001b[43m,\u001b[49m\u001b[43m[\u001b[49m\u001b[32;43m89\u001b[39;49m\u001b[43m,\u001b[49m\u001b[32;43m21\u001b[39;49m\u001b[43m]\u001b[49m\u001b[43m]\u001b[49m\u001b[43m)\u001b[49m\n\u001b[32m      2\u001b[39m \u001b[38;5;28mprint\u001b[39m(py_arr2)\n",
      "\u001b[31mValueError\u001b[39m: setting an array element with a sequence. The requested array has an inhomogeneous shape after 1 dimensions. The detected shape was (2,) + inhomogeneous part."
     ]
    }
   ],
   "source": [
    "py_arr2 = np.array([[45,23,65],[89,21]])\n",
    "print(py_arr2)"
   ]
  },
  {
   "cell_type": "code",
   "execution_count": 26,
   "id": "2e0e4eef",
   "metadata": {},
   "outputs": [
    {
     "name": "stdout",
     "output_type": "stream",
     "text": [
      "[[45 23 65]\n",
      " [89 21 90]]\n"
     ]
    }
   ],
   "source": [
    "py_arr2 = np.array([[45,23,65],[89,21,90]])\n",
    "print(py_arr2)"
   ]
  },
  {
   "cell_type": "code",
   "execution_count": 27,
   "id": "f91807ba",
   "metadata": {},
   "outputs": [
    {
     "name": "stdout",
     "output_type": "stream",
     "text": [
      "[[45 23 65]\n",
      " [89 21 90]\n",
      " [89 45 65]]\n"
     ]
    }
   ],
   "source": [
    "py_arr2 = np.array([[45,23,65],[89,21,90],[89,45,65]])\n",
    "print(py_arr2)"
   ]
  },
  {
   "cell_type": "code",
   "execution_count": 29,
   "id": "3bdef8a5",
   "metadata": {},
   "outputs": [
    {
     "name": "stdout",
     "output_type": "stream",
     "text": [
      "[[45 23 65 67]\n",
      " [99 89 21 90]\n",
      " [77 89 45 65]]\n",
      "(3, 4)\n"
     ]
    }
   ],
   "source": [
    "py_arr2 = np.array([[45,23,65,67],[99,89,21,90],[77,89,45,65]])\n",
    "print(py_arr2)\n",
    "print(py_arr2.shape)"
   ]
  },
  {
   "cell_type": "code",
   "execution_count": 31,
   "id": "4018333c",
   "metadata": {},
   "outputs": [
    {
     "name": "stdout",
     "output_type": "stream",
     "text": [
      "3\n",
      "[[[4 5 6]]\n",
      "\n",
      " [[5 7 8]]]\n",
      "(2, 1, 3)\n"
     ]
    }
   ],
   "source": [
    "# 3D Array\n",
    "\n",
    "three_arr = np.array([[[4,5,6]],[[5,7,8]]])\n",
    "print(three_arr.ndim)\n",
    "print(three_arr)\n",
    "print(three_arr.shape)"
   ]
  },
  {
   "cell_type": "code",
   "execution_count": 35,
   "id": "7e991f66",
   "metadata": {},
   "outputs": [
    {
     "name": "stdout",
     "output_type": "stream",
     "text": [
      "3\n",
      "[[[ 4  5  6]\n",
      "  [66 77 55]]\n",
      "\n",
      " [[ 5  7  8]\n",
      "  [33 22 11]]]\n",
      "(2, 2, 3)\n"
     ]
    }
   ],
   "source": [
    "three_arr = np.array([[[4,5,6],[66,77,55]],[[5,7,8],[33,22,11]]])\n",
    "print(three_arr.ndim)\n",
    "print(three_arr)\n",
    "print(three_arr.shape)"
   ]
  },
  {
   "cell_type": "code",
   "execution_count": 36,
   "id": "8794bbe8",
   "metadata": {},
   "outputs": [
    {
     "name": "stdout",
     "output_type": "stream",
     "text": [
      "3\n",
      "[[[ 4  5  6]\n",
      "  [66 77 55]]\n",
      "\n",
      " [[ 5  7  8]\n",
      "  [33 22 11]]\n",
      "\n",
      " [[90 80 70]\n",
      "  [34 35 36]]]\n",
      "(3, 2, 3)\n"
     ]
    }
   ],
   "source": [
    "three_arr = np.array([[[4,5,6],[66,77,55]],[[5,7,8],[33,22,11]],[[90,80,70],[34,35,36]]])\n",
    "print(three_arr.ndim)\n",
    "print(three_arr)\n",
    "print(three_arr.shape)"
   ]
  },
  {
   "cell_type": "code",
   "execution_count": 38,
   "id": "4acf05f7",
   "metadata": {},
   "outputs": [
    {
     "name": "stdout",
     "output_type": "stream",
     "text": [
      "3\n",
      "[[[ 4  5  6]\n",
      "  [66 77 55]\n",
      "  [56 57 57]]\n",
      "\n",
      " [[ 5  7  8]\n",
      "  [33 22 11]\n",
      "  [ 4  3 56]]\n",
      "\n",
      " [[90 80 70]\n",
      "  [34 35 36]\n",
      "  [33 44 66]]]\n",
      "(3, 3, 3)\n",
      "27\n"
     ]
    }
   ],
   "source": [
    "three_arr = np.array([[[4,5,6],[66,77,55],[56,57,57]],\n",
    "                      [[5,7,8],[33,22,11],[4,3,56]],\n",
    "                      [[90,80,70],[34,35,36],[33,44,66]]])\n",
    "print(three_arr.ndim)\n",
    "print(three_arr)\n",
    "print(three_arr.shape)\n",
    "print(three_arr.size)"
   ]
  },
  {
   "cell_type": "code",
   "execution_count": 39,
   "id": "3b9e79d5",
   "metadata": {},
   "outputs": [
    {
     "name": "stdout",
     "output_type": "stream",
     "text": [
      "5\n",
      "[[[[[ 4  5  6]\n",
      "    [66 77 55]\n",
      "    [56 57 57]]\n",
      "\n",
      "   [[ 5  7  8]\n",
      "    [33 22 11]\n",
      "    [ 4  3 56]]\n",
      "\n",
      "   [[90 80 70]\n",
      "    [34 35 36]\n",
      "    [33 44 66]]]]]\n",
      "(1, 1, 3, 3, 3)\n",
      "27\n"
     ]
    }
   ],
   "source": [
    "three_arr = np.array([[[4,5,6],[66,77,55],[56,57,57]],\n",
    "                      [[5,7,8],[33,22,11],[4,3,56]],\n",
    "                      [[90,80,70],[34,35,36],[33,44,66]]],ndmin=5)\n",
    "print(three_arr.ndim)\n",
    "print(three_arr)\n",
    "print(three_arr.shape)\n",
    "print(three_arr.size)"
   ]
  },
  {
   "cell_type": "code",
   "execution_count": 40,
   "id": "aa3eefc1",
   "metadata": {},
   "outputs": [
    {
     "name": "stdout",
     "output_type": "stream",
     "text": [
      "10\n",
      "[[[[[[[[[[ 4  5  6]\n",
      "         [66 77 55]\n",
      "         [56 57 57]]\n",
      "\n",
      "        [[ 5  7  8]\n",
      "         [33 22 11]\n",
      "         [ 4  3 56]]\n",
      "\n",
      "        [[90 80 70]\n",
      "         [34 35 36]\n",
      "         [33 44 66]]]]]]]]]]\n",
      "(1, 1, 1, 1, 1, 1, 1, 3, 3, 3)\n",
      "27\n"
     ]
    }
   ],
   "source": [
    "three_arr = np.array([[[4,5,6],[66,77,55],[56,57,57]],\n",
    "                      [[5,7,8],[33,22,11],[4,3,56]],\n",
    "                      [[90,80,70],[34,35,36],[33,44,66]]],ndmin=10)\n",
    "print(three_arr.ndim)\n",
    "print(three_arr)\n",
    "print(three_arr.shape)\n",
    "print(three_arr.size)"
   ]
  },
  {
   "cell_type": "code",
   "execution_count": 41,
   "id": "dc829f4d",
   "metadata": {},
   "outputs": [
    {
     "name": "stdout",
     "output_type": "stream",
     "text": [
      "10\n",
      "[[[[[[[[[[ 4.  5.  6.]\n",
      "         [66. 77. 55.]\n",
      "         [56. 57. 57.]]\n",
      "\n",
      "        [[ 5.  7.  8.]\n",
      "         [33. 22. 11.]\n",
      "         [ 4.  3. 56.]]\n",
      "\n",
      "        [[90. 80. 70.]\n",
      "         [34. 35. 36.]\n",
      "         [33. 44. 66.]]]]]]]]]]\n",
      "(1, 1, 1, 1, 1, 1, 1, 3, 3, 3)\n",
      "27\n"
     ]
    }
   ],
   "source": [
    "three_arr = np.array([[[4,5,6],[66,77,55],[56,57,57]],\n",
    "                      [[5,7,8],[33,22,11],[4,3,56]],\n",
    "                      [[90,80,70],[34,35,36],[33,44,66]]],ndmin=10,dtype=float)\n",
    "print(three_arr.ndim)\n",
    "print(three_arr)\n",
    "print(three_arr.shape)\n",
    "print(three_arr.size)"
   ]
  },
  {
   "cell_type": "code",
   "execution_count": 43,
   "id": "6eb8aa38",
   "metadata": {},
   "outputs": [
    {
     "name": "stdout",
     "output_type": "stream",
     "text": [
      "3\n",
      "[[[ 4.+0.j  5.+0.j  6.+0.j]\n",
      "  [66.+0.j 77.+0.j 55.+0.j]\n",
      "  [56.+0.j 57.+0.j 57.+0.j]]\n",
      "\n",
      " [[ 5.+0.j  7.+0.j  8.+0.j]\n",
      "  [33.+0.j 22.+0.j 11.+0.j]\n",
      "  [ 4.+0.j  3.+0.j 56.+0.j]]\n",
      "\n",
      " [[90.+0.j 80.+0.j 70.+0.j]\n",
      "  [34.+0.j 35.+0.j 36.+0.j]\n",
      "  [33.+0.j 44.+0.j 66.+0.j]]]\n",
      "(3, 3, 3)\n",
      "27\n"
     ]
    }
   ],
   "source": [
    "three_arr = np.array([[[4,5,6],[66,77,55],[56,57,57]],\n",
    "                      [[5,7,8],[33,22,11],[4,3,56]],\n",
    "                      [[90,80,70],[34,35,36],[33,44,66]]],ndmin=3,dtype=complex)\n",
    "print(three_arr.ndim)\n",
    "print(three_arr)\n",
    "print(three_arr.shape)\n",
    "print(three_arr.size)"
   ]
  },
  {
   "cell_type": "code",
   "execution_count": 45,
   "id": "537414d7",
   "metadata": {},
   "outputs": [
    {
     "name": "stdout",
     "output_type": "stream",
     "text": [
      "10\n",
      "[[[[[[[[[['4' '5' '6']\n",
      "         ['66' '77' '55']\n",
      "         ['56' '57' '57']]\n",
      "\n",
      "        [['5' '7' '8']\n",
      "         ['33' '22' '11']\n",
      "         ['4' '3' '56']]\n",
      "\n",
      "        [['90' '80' '70']\n",
      "         ['34' '35' '36']\n",
      "         ['33' '44' '66']]]]]]]]]]\n",
      "(1, 1, 1, 1, 1, 1, 1, 3, 3, 3)\n",
      "27\n",
      "<U2\n"
     ]
    }
   ],
   "source": [
    "three_arr = np.array([[[4,5,6],[66,77,55],[56,57,57]],\n",
    "                      [[5,7,8],[33,22,11],[4,3,56]],\n",
    "                      [[90,80,70],[34,35,36],[33,44,66]]],ndmin=10,dtype=str)\n",
    "print(three_arr.ndim)\n",
    "print(three_arr)\n",
    "print(three_arr.shape)\n",
    "print(three_arr.size)\n",
    "print(three_arr.dtype)"
   ]
  },
  {
   "cell_type": "code",
   "execution_count": 47,
   "id": "4ba2b859",
   "metadata": {},
   "outputs": [
    {
     "name": "stdout",
     "output_type": "stream",
     "text": [
      "[[0. 0.]\n",
      " [0. 0.]\n",
      " [0. 0.]]\n"
     ]
    }
   ],
   "source": [
    "# Zero array\n",
    "\n",
    "py_arr = np.zeros((3,2))\n",
    "print(py_arr)"
   ]
  },
  {
   "cell_type": "code",
   "execution_count": 50,
   "id": "d939fb84",
   "metadata": {},
   "outputs": [
    {
     "name": "stdout",
     "output_type": "stream",
     "text": [
      "[[0 0 0]\n",
      " [0 0 0]\n",
      " [0 0 0]]\n",
      "int64\n"
     ]
    }
   ],
   "source": [
    "py_arr = np.zeros((3,3),dtype=int)\n",
    "print(py_arr)\n",
    "print(py_arr.dtype)"
   ]
  },
  {
   "cell_type": "code",
   "execution_count": null,
   "id": "7df2df65",
   "metadata": {},
   "outputs": [],
   "source": [
    "py_arr = np.zeros((3,3))\n",
    "print(py_arr)"
   ]
  },
  {
   "cell_type": "code",
   "execution_count": 51,
   "id": "49201f8c",
   "metadata": {},
   "outputs": [
    {
     "name": "stdout",
     "output_type": "stream",
     "text": [
      "[[1. 1. 1. 1. 1.]\n",
      " [1. 1. 1. 1. 1.]\n",
      " [1. 1. 1. 1. 1.]\n",
      " [1. 1. 1. 1. 1.]]\n"
     ]
    }
   ],
   "source": [
    "# ones\n",
    "\n",
    "ones_array = np.ones((4,5))\n",
    "print(ones_array)"
   ]
  },
  {
   "cell_type": "code",
   "execution_count": null,
   "id": "907f00be",
   "metadata": {},
   "outputs": [
    {
     "name": "stdout",
     "output_type": "stream",
     "text": [
      "[[1 1 1 1 1]\n",
      " [1 1 1 1 1]\n",
      " [1 1 1 1 1]\n",
      " [1 1 1 1 1]]\n"
     ]
    }
   ],
   "source": [
    "ones_array = np.ones((4,5),dtype=int)\n",
    "print(ones_array)"
   ]
  },
  {
   "cell_type": "markdown",
   "id": "ae7ee90b",
   "metadata": {},
   "source": [
    "Arange "
   ]
  },
  {
   "cell_type": "code",
   "execution_count": 54,
   "id": "2c729590",
   "metadata": {},
   "outputs": [
    {
     "name": "stdout",
     "output_type": "stream",
     "text": [
      "[0 1 2 3 4 5 6 7 8]\n",
      "1\n"
     ]
    }
   ],
   "source": [
    "arrng = np.arange(9)\n",
    "print(arrng)\n",
    "print(arrng.ndim)"
   ]
  },
  {
   "cell_type": "code",
   "execution_count": 66,
   "id": "7f1c7432",
   "metadata": {},
   "outputs": [
    {
     "name": "stdout",
     "output_type": "stream",
     "text": [
      "[ 9 10 11 12 13 14]\n",
      "6\n",
      "1\n",
      "[[ 9 10]\n",
      " [11 12]\n",
      " [13 14]]\n"
     ]
    }
   ],
   "source": [
    "arrng = np.arange(9,15,)\n",
    "print(arrng)\n",
    "print(arrng.size)\n",
    "print(arrng.ndim)\n",
    "reshaped_arr = np.reshape(arrng,shape = (3,2))\n",
    "print(reshaped_arr)"
   ]
  },
  {
   "cell_type": "code",
   "execution_count": 79,
   "id": "a699dec5",
   "metadata": {},
   "outputs": [
    {
     "name": "stdout",
     "output_type": "stream",
     "text": [
      "[0 1 2 3 4 5 6]\n",
      "1\n",
      "[[0]\n",
      " [1]\n",
      " [2]\n",
      " [3]\n",
      " [4]\n",
      " [5]\n",
      " [6]]\n",
      "2\n"
     ]
    }
   ],
   "source": [
    "arrng = np.arange(7)\n",
    "print(arrng)\n",
    "print(arrng.ndim)\n",
    "reshape_arr = np.reshape(arrng,shape = (7,1))\n",
    "print(reshape_arr)\n",
    "print(reshape_arr.ndim)"
   ]
  },
  {
   "cell_type": "code",
   "execution_count": 81,
   "id": "6ffc461f",
   "metadata": {},
   "outputs": [
    {
     "name": "stdout",
     "output_type": "stream",
     "text": [
      "[ 5.    8.75 12.5  16.25 20.  ]\n"
     ]
    }
   ],
   "source": [
    "lin_spa = np.linspace(5,20,5)\n",
    "print(lin_spa)"
   ]
  },
  {
   "cell_type": "code",
   "execution_count": 86,
   "id": "dae37065",
   "metadata": {},
   "outputs": [
    {
     "name": "stdout",
     "output_type": "stream",
     "text": [
      "[ 5.  8. 11. 14. 17. 20.]\n",
      "1\n",
      "[[ 5.  8. 11.]\n",
      " [14. 17. 20.]]\n",
      "(2, 3)\n"
     ]
    }
   ],
   "source": [
    "lin_spa = np.linspace(5,20,6)\n",
    "print(lin_spa)\n",
    "print(lin_spa.ndim)\n",
    "reshap_lin = np.reshape(lin_spa,shape=(2,3))\n",
    "print(reshap_lin)\n",
    "print(reshap_lin.shape)"
   ]
  },
  {
   "cell_type": "code",
   "execution_count": 90,
   "id": "4fdfe846",
   "metadata": {},
   "outputs": [
    {
     "name": "stdout",
     "output_type": "stream",
     "text": [
      "[ 5.          5.15151515  5.3030303   5.45454545  5.60606061  5.75757576\n",
      "  5.90909091  6.06060606  6.21212121  6.36363636  6.51515152  6.66666667\n",
      "  6.81818182  6.96969697  7.12121212  7.27272727  7.42424242  7.57575758\n",
      "  7.72727273  7.87878788  8.03030303  8.18181818  8.33333333  8.48484848\n",
      "  8.63636364  8.78787879  8.93939394  9.09090909  9.24242424  9.39393939\n",
      "  9.54545455  9.6969697   9.84848485 10.         10.15151515 10.3030303\n",
      " 10.45454545 10.60606061 10.75757576 10.90909091 11.06060606 11.21212121\n",
      " 11.36363636 11.51515152 11.66666667 11.81818182 11.96969697 12.12121212\n",
      " 12.27272727 12.42424242 12.57575758 12.72727273 12.87878788 13.03030303\n",
      " 13.18181818 13.33333333 13.48484848 13.63636364 13.78787879 13.93939394\n",
      " 14.09090909 14.24242424 14.39393939 14.54545455 14.6969697  14.84848485\n",
      " 15.         15.15151515 15.3030303  15.45454545 15.60606061 15.75757576\n",
      " 15.90909091 16.06060606 16.21212121 16.36363636 16.51515152 16.66666667\n",
      " 16.81818182 16.96969697 17.12121212 17.27272727 17.42424242 17.57575758\n",
      " 17.72727273 17.87878788 18.03030303 18.18181818 18.33333333 18.48484848\n",
      " 18.63636364 18.78787879 18.93939394 19.09090909 19.24242424 19.39393939\n",
      " 19.54545455 19.6969697  19.84848485 20.        ]\n",
      "1\n",
      "100\n",
      "[[ 5.          5.15151515  5.3030303   5.45454545  5.60606061]\n",
      " [ 5.75757576  5.90909091  6.06060606  6.21212121  6.36363636]\n",
      " [ 6.51515152  6.66666667  6.81818182  6.96969697  7.12121212]\n",
      " [ 7.27272727  7.42424242  7.57575758  7.72727273  7.87878788]\n",
      " [ 8.03030303  8.18181818  8.33333333  8.48484848  8.63636364]\n",
      " [ 8.78787879  8.93939394  9.09090909  9.24242424  9.39393939]\n",
      " [ 9.54545455  9.6969697   9.84848485 10.         10.15151515]\n",
      " [10.3030303  10.45454545 10.60606061 10.75757576 10.90909091]\n",
      " [11.06060606 11.21212121 11.36363636 11.51515152 11.66666667]\n",
      " [11.81818182 11.96969697 12.12121212 12.27272727 12.42424242]\n",
      " [12.57575758 12.72727273 12.87878788 13.03030303 13.18181818]\n",
      " [13.33333333 13.48484848 13.63636364 13.78787879 13.93939394]\n",
      " [14.09090909 14.24242424 14.39393939 14.54545455 14.6969697 ]\n",
      " [14.84848485 15.         15.15151515 15.3030303  15.45454545]\n",
      " [15.60606061 15.75757576 15.90909091 16.06060606 16.21212121]\n",
      " [16.36363636 16.51515152 16.66666667 16.81818182 16.96969697]\n",
      " [17.12121212 17.27272727 17.42424242 17.57575758 17.72727273]\n",
      " [17.87878788 18.03030303 18.18181818 18.33333333 18.48484848]\n",
      " [18.63636364 18.78787879 18.93939394 19.09090909 19.24242424]\n",
      " [19.39393939 19.54545455 19.6969697  19.84848485 20.        ]]\n",
      "(20, 5)\n"
     ]
    }
   ],
   "source": [
    "lin_spa = np.linspace(5,20,100)\n",
    "print(lin_spa)\n",
    "print(lin_spa.ndim)\n",
    "print(lin_spa.size)\n",
    "reshap_lin = np.reshape(lin_spa,shape=(20,5))\n",
    "print(reshap_lin)\n",
    "print(reshap_lin.shape)"
   ]
  },
  {
   "cell_type": "code",
   "execution_count": 91,
   "id": "5a0242d7",
   "metadata": {},
   "outputs": [
    {
     "name": "stdout",
     "output_type": "stream",
     "text": [
      "[1.00000000e+05 1.41747416e+05 2.00923300e+05 2.84803587e+05\n",
      " 4.03701726e+05 5.72236766e+05 8.11130831e+05 1.14975700e+06\n",
      " 1.62975083e+06 2.31012970e+06 3.27454916e+06 4.64158883e+06\n",
      " 6.57933225e+06 9.32603347e+06 1.32194115e+07 1.87381742e+07\n",
      " 2.65608778e+07 3.76493581e+07 5.33669923e+07 7.56463328e+07\n",
      " 1.07226722e+08 1.51991108e+08 2.15443469e+08 3.05385551e+08\n",
      " 4.32876128e+08 6.13590727e+08 8.69749003e+08 1.23284674e+09\n",
      " 1.74752840e+09 2.47707636e+09 3.51119173e+09 4.97702356e+09\n",
      " 7.05480231e+09 1.00000000e+10 1.41747416e+10 2.00923300e+10\n",
      " 2.84803587e+10 4.03701726e+10 5.72236766e+10 8.11130831e+10\n",
      " 1.14975700e+11 1.62975083e+11 2.31012970e+11 3.27454916e+11\n",
      " 4.64158883e+11 6.57933225e+11 9.32603347e+11 1.32194115e+12\n",
      " 1.87381742e+12 2.65608778e+12 3.76493581e+12 5.33669923e+12\n",
      " 7.56463328e+12 1.07226722e+13 1.51991108e+13 2.15443469e+13\n",
      " 3.05385551e+13 4.32876128e+13 6.13590727e+13 8.69749003e+13\n",
      " 1.23284674e+14 1.74752840e+14 2.47707636e+14 3.51119173e+14\n",
      " 4.97702356e+14 7.05480231e+14 1.00000000e+15 1.41747416e+15\n",
      " 2.00923300e+15 2.84803587e+15 4.03701726e+15 5.72236766e+15\n",
      " 8.11130831e+15 1.14975700e+16 1.62975083e+16 2.31012970e+16\n",
      " 3.27454916e+16 4.64158883e+16 6.57933225e+16 9.32603347e+16\n",
      " 1.32194115e+17 1.87381742e+17 2.65608778e+17 3.76493581e+17\n",
      " 5.33669923e+17 7.56463328e+17 1.07226722e+18 1.51991108e+18\n",
      " 2.15443469e+18 3.05385551e+18 4.32876128e+18 6.13590727e+18\n",
      " 8.69749003e+18 1.23284674e+19 1.74752840e+19 2.47707636e+19\n",
      " 3.51119173e+19 4.97702356e+19 7.05480231e+19 1.00000000e+20]\n",
      "1\n",
      "100\n",
      "[[1.00000000e+05 1.41747416e+05 2.00923300e+05 2.84803587e+05\n",
      "  4.03701726e+05]\n",
      " [5.72236766e+05 8.11130831e+05 1.14975700e+06 1.62975083e+06\n",
      "  2.31012970e+06]\n",
      " [3.27454916e+06 4.64158883e+06 6.57933225e+06 9.32603347e+06\n",
      "  1.32194115e+07]\n",
      " [1.87381742e+07 2.65608778e+07 3.76493581e+07 5.33669923e+07\n",
      "  7.56463328e+07]\n",
      " [1.07226722e+08 1.51991108e+08 2.15443469e+08 3.05385551e+08\n",
      "  4.32876128e+08]\n",
      " [6.13590727e+08 8.69749003e+08 1.23284674e+09 1.74752840e+09\n",
      "  2.47707636e+09]\n",
      " [3.51119173e+09 4.97702356e+09 7.05480231e+09 1.00000000e+10\n",
      "  1.41747416e+10]\n",
      " [2.00923300e+10 2.84803587e+10 4.03701726e+10 5.72236766e+10\n",
      "  8.11130831e+10]\n",
      " [1.14975700e+11 1.62975083e+11 2.31012970e+11 3.27454916e+11\n",
      "  4.64158883e+11]\n",
      " [6.57933225e+11 9.32603347e+11 1.32194115e+12 1.87381742e+12\n",
      "  2.65608778e+12]\n",
      " [3.76493581e+12 5.33669923e+12 7.56463328e+12 1.07226722e+13\n",
      "  1.51991108e+13]\n",
      " [2.15443469e+13 3.05385551e+13 4.32876128e+13 6.13590727e+13\n",
      "  8.69749003e+13]\n",
      " [1.23284674e+14 1.74752840e+14 2.47707636e+14 3.51119173e+14\n",
      "  4.97702356e+14]\n",
      " [7.05480231e+14 1.00000000e+15 1.41747416e+15 2.00923300e+15\n",
      "  2.84803587e+15]\n",
      " [4.03701726e+15 5.72236766e+15 8.11130831e+15 1.14975700e+16\n",
      "  1.62975083e+16]\n",
      " [2.31012970e+16 3.27454916e+16 4.64158883e+16 6.57933225e+16\n",
      "  9.32603347e+16]\n",
      " [1.32194115e+17 1.87381742e+17 2.65608778e+17 3.76493581e+17\n",
      "  5.33669923e+17]\n",
      " [7.56463328e+17 1.07226722e+18 1.51991108e+18 2.15443469e+18\n",
      "  3.05385551e+18]\n",
      " [4.32876128e+18 6.13590727e+18 8.69749003e+18 1.23284674e+19\n",
      "  1.74752840e+19]\n",
      " [2.47707636e+19 3.51119173e+19 4.97702356e+19 7.05480231e+19\n",
      "  1.00000000e+20]]\n",
      "(20, 5)\n"
     ]
    }
   ],
   "source": [
    "log_spa = np.logspace(5,20,100)\n",
    "print(log_spa)\n",
    "print(log_spa.ndim)\n",
    "print(log_spa.size)\n",
    "reshap_log = np.reshape(log_spa,shape=(20,5))\n",
    "print(reshap_log)\n",
    "print(reshap_log.shape)"
   ]
  },
  {
   "cell_type": "markdown",
   "id": "bd4fd12a",
   "metadata": {},
   "source": [
    "# Mathematical operation in numpy"
   ]
  },
  {
   "cell_type": "code",
   "execution_count": 93,
   "id": "c2356bed",
   "metadata": {},
   "outputs": [
    {
     "name": "stdout",
     "output_type": "stream",
     "text": [
      "[[3 5]\n",
      " [7 8]]\n",
      "[[ 8  2]\n",
      " [ 9 10]]\n",
      "[[11  7]\n",
      " [16 18]]\n"
     ]
    }
   ],
   "source": [
    "a = np.array([[3,5],[7,8]])\n",
    "b = np.array([[8,2],[9,10]])\n",
    "print(a)\n",
    "print(b)\n",
    "Sum = a + b\n",
    "print(Sum)"
   ]
  },
  {
   "cell_type": "code",
   "execution_count": 94,
   "id": "ebd0eb07",
   "metadata": {},
   "outputs": [
    {
     "name": "stdout",
     "output_type": "stream",
     "text": [
      "[[11  7]\n",
      " [16 18]]\n"
     ]
    }
   ],
   "source": [
    "addition = np.add(a,b)\n",
    "print(addition)"
   ]
  },
  {
   "cell_type": "code",
   "execution_count": 99,
   "id": "b7937060",
   "metadata": {},
   "outputs": [
    {
     "name": "stdout",
     "output_type": "stream",
     "text": [
      "[[[ 3  5]\n",
      "  [ 7  8]]\n",
      "\n",
      " [[ 8  2]\n",
      "  [ 9 10]]]\n",
      "[[[ 8  2]\n",
      "  [ 9 10]]\n",
      "\n",
      " [[ 3  5]\n",
      "  [ 7  8]]]\n",
      "(2, 2, 2) (2, 2, 2)\n"
     ]
    }
   ],
   "source": [
    "a = np.array([[[3,5],[7,8]],[[8,2],[9,10]]])\n",
    "b = np.array([[[8,2],[9,10]],[[3,5],[7,8]]])\n",
    "print(a)\n",
    "print(b)\n",
    "print(a.shape,b.shape)"
   ]
  },
  {
   "cell_type": "code",
   "execution_count": null,
   "id": "b9f381e9",
   "metadata": {},
   "outputs": [
    {
     "name": "stdout",
     "output_type": "stream",
     "text": [
      "[[[11  7]\n",
      "  [16 18]]\n",
      "\n",
      " [[11  7]\n",
      "  [16 18]]]\n"
     ]
    }
   ],
   "source": [
    "Add_3d = np.add(a,b)\n",
    "print(Add_3d)"
   ]
  },
  {
   "cell_type": "code",
   "execution_count": 101,
   "id": "0dc96a20",
   "metadata": {},
   "outputs": [
    {
     "name": "stdout",
     "output_type": "stream",
     "text": [
      "[[-5  3]\n",
      " [-2 -2]]\n"
     ]
    }
   ],
   "source": [
    "# substraction \n",
    "a = np.array([[3,5],[7,8]])\n",
    "b = np.array([[8,2],[9,10]])\n",
    "\n",
    "print(a-b)"
   ]
  },
  {
   "cell_type": "code",
   "execution_count": 102,
   "id": "fc7f0934",
   "metadata": {},
   "outputs": [
    {
     "name": "stdout",
     "output_type": "stream",
     "text": [
      "[[-5  3]\n",
      " [-2 -2]]\n"
     ]
    }
   ],
   "source": [
    "a = np.array([[3,5],[7,8]])\n",
    "b = np.array([[8,2],[9,10]])\n",
    "\n",
    "Sub_2d = np.subtract(a,b)\n",
    "print(Sub_2d)"
   ]
  },
  {
   "cell_type": "code",
   "execution_count": 103,
   "id": "a16a1404",
   "metadata": {},
   "outputs": [
    {
     "name": "stdout",
     "output_type": "stream",
     "text": [
      "[[[ 3  5]\n",
      "  [ 7  8]]\n",
      "\n",
      " [[ 8  2]\n",
      "  [ 9 10]]]\n",
      "[[[ 8  2]\n",
      "  [ 9 10]]\n",
      "\n",
      " [[ 3  5]\n",
      "  [ 7  8]]]\n",
      "(2, 2, 2) (2, 2, 2)\n",
      "[[[-5  3]\n",
      "  [-2 -2]]\n",
      "\n",
      " [[ 5 -3]\n",
      "  [ 2  2]]]\n"
     ]
    }
   ],
   "source": [
    "a = np.array([[[3,5],[7,8]],[[8,2],[9,10]]])\n",
    "b = np.array([[[8,2],[9,10]],[[3,5],[7,8]]])\n",
    "print(a)\n",
    "print(b)\n",
    "print(a.shape,b.shape)\n",
    "print(a-b)"
   ]
  },
  {
   "cell_type": "code",
   "execution_count": null,
   "id": "48815fa5",
   "metadata": {},
   "outputs": [
    {
     "name": "stdout",
     "output_type": "stream",
     "text": [
      "[[[ 3  5]\n",
      "  [ 7  8]]\n",
      "\n",
      " [[ 8  2]\n",
      "  [ 9 10]]]\n",
      "----------------------------------------------------------------------------------------------------\n",
      "[[[ 8  2]\n",
      "  [ 9 10]]\n",
      "\n",
      " [[ 3  5]\n",
      "  [ 7  8]]]\n",
      "(2, 2, 2) (2, 2, 2)\n",
      "----------------------------------------------------------------------------------------------------\n",
      "[[[-5  3]\n",
      "  [-2 -2]]\n",
      "\n",
      " [[ 5 -3]\n",
      "  [ 2  2]]]\n"
     ]
    }
   ],
   "source": [
    "a = np.array([[[3,5],[7,8]],[[8,2],[9,10]]])\n",
    "b = np.array([[[8,2],[9,10]],[[3,5],[7,8]]])\n",
    "print(a)\n",
    "print(\"--\"*50)\n",
    "print(b)\n",
    "print(a.shape,b.shape)\n",
    "Sub_3d = np.subtract(a,b)\n",
    "print(\"--\"*50)\n",
    "print(Sub_3d) "
   ]
  },
  {
   "cell_type": "code",
   "execution_count": null,
   "id": "189a2ac6",
   "metadata": {},
   "outputs": [],
   "source": []
  }
 ],
 "metadata": {
  "kernelspec": {
   "display_name": "Python 3",
   "language": "python",
   "name": "python3"
  },
  "language_info": {
   "codemirror_mode": {
    "name": "ipython",
    "version": 3
   },
   "file_extension": ".py",
   "mimetype": "text/x-python",
   "name": "python",
   "nbconvert_exporter": "python",
   "pygments_lexer": "ipython3",
   "version": "3.11.9"
  }
 },
 "nbformat": 4,
 "nbformat_minor": 5
}
