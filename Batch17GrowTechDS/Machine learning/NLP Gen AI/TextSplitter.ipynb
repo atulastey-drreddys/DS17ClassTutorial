{
 "cells": [
  {
   "cell_type": "code",
   "execution_count": 3,
   "id": "78daeacb",
   "metadata": {},
   "outputs": [
    {
     "name": "stdout",
     "output_type": "stream",
     "text": [
      "Text Splitter in Langchain\n"
     ]
    }
   ],
   "source": [
    "print(\"Text Splitter in Langchain\")"
   ]
  },
  {
   "cell_type": "code",
   "execution_count": 6,
   "id": "28e96880",
   "metadata": {},
   "outputs": [
    {
     "ename": "SyntaxError",
     "evalue": "(unicode error) 'unicodeescape' codec can't decode bytes in position 34-35: malformed \\N character escape (2979718675.py, line 2)",
     "output_type": "error",
     "traceback": [
      "  \u001b[36mCell\u001b[39m\u001b[36m \u001b[39m\u001b[32mIn[6]\u001b[39m\u001b[32m, line 2\u001b[39m\n\u001b[31m    \u001b[39m\u001b[31mdoc = PyPDFLoader('Batch17GrowTechDS\\Machine learning\\NLP Gen AI\\Attention Is all you need.pdf')\u001b[39m\n                                                                                                   ^\n\u001b[31mSyntaxError\u001b[39m\u001b[31m:\u001b[39m (unicode error) 'unicodeescape' codec can't decode bytes in position 34-35: malformed \\N character escape\n"
     ]
    }
   ],
   "source": [
    "from langchain_community.document_loaders import PyPDFLoader\n",
    "doc = PyPDFLoader('Batch17GrowTechDS\\Machine learning\\NLP Gen AI\\Attention Is all you need.pdf')\n",
    "fin_doc = doc.load()\n",
    "fin_doc"
   ]
  },
  {
   "cell_type": "code",
   "execution_count": null,
   "id": "b996c51a",
   "metadata": {},
   "outputs": [],
   "source": []
  }
 ],
 "metadata": {
  "kernelspec": {
   "display_name": "Python 3",
   "language": "python",
   "name": "python3"
  },
  "language_info": {
   "codemirror_mode": {
    "name": "ipython",
    "version": 3
   },
   "file_extension": ".py",
   "mimetype": "text/x-python",
   "name": "python",
   "nbconvert_exporter": "python",
   "pygments_lexer": "ipython3",
   "version": "3.11.9"
  }
 },
 "nbformat": 4,
 "nbformat_minor": 5
}
