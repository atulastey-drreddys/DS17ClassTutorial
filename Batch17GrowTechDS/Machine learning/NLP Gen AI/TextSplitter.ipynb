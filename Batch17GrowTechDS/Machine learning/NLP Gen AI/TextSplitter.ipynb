{
 "cells": [
  {
   "cell_type": "code",
   "execution_count": null,
   "id": "78daeacb",
   "metadata": {
    "vscode": {
     "languageId": "plaintext"
    }
   },
   "outputs": [],
   "source": [
    "print(\"Text Splitter in Langchain\")"
   ]
  },
  {
   "cell_type": "markdown",
   "id": "a85b1b98",
   "metadata": {},
   "source": []
  }
 ],
 "metadata": {
  "language_info": {
   "name": "python"
  }
 },
 "nbformat": 4,
 "nbformat_minor": 5
}
