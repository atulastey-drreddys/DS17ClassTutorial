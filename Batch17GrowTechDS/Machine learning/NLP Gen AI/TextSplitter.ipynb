{
 "cells": [
  {
   "cell_type": "code",
   "execution_count": null,
   "id": "78daeacb",
   "metadata": {},
   "outputs": [],
   "source": [
    "print(\"Text Splitter in Langchain\")"
   ]
  },
  {
   "cell_type": "markdown",
   "id": "a85b1b98",
   "metadata": {},
   "source": []
  }
 ],
 "metadata": {
  "kernelspec": {
   "display_name": "Python 3",
   "language": "python",
   "name": "python3"
  },
  "language_info": {
   "name": "python",
   "version": "3.11.9"
  }
 },
 "nbformat": 4,
 "nbformat_minor": 5
}
