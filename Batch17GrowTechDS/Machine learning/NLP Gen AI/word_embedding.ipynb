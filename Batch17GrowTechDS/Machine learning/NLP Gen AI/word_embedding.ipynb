{
 "cells": [
  {
   "cell_type": "code",
   "execution_count": 1,
   "id": "885c5383",
   "metadata": {},
   "outputs": [
    {
     "name": "stdout",
     "output_type": "stream",
     "text": [
      "Word Embedding in NLP\n"
     ]
    }
   ],
   "source": [
    "print(\"Word Embedding in NLP\")"
   ]
  },
  {
   "cell_type": "markdown",
   "id": "9d1ae981",
   "metadata": {},
   "source": [
    "# Bag of Words"
   ]
  },
  {
   "cell_type": "code",
   "execution_count": 2,
   "id": "0ffbc379",
   "metadata": {},
   "outputs": [],
   "source": [
    "import pandas as pd\n",
    "import numpy as np"
   ]
  },
  {
   "cell_type": "code",
   "execution_count": 3,
   "id": "644ebb39",
   "metadata": {},
   "outputs": [
    {
     "data": {
      "text/html": [
       "<div>\n",
       "<style scoped>\n",
       "    .dataframe tbody tr th:only-of-type {\n",
       "        vertical-align: middle;\n",
       "    }\n",
       "\n",
       "    .dataframe tbody tr th {\n",
       "        vertical-align: top;\n",
       "    }\n",
       "\n",
       "    .dataframe thead th {\n",
       "        text-align: right;\n",
       "    }\n",
       "</style>\n",
       "<table border=\"1\" class=\"dataframe\">\n",
       "  <thead>\n",
       "    <tr style=\"text-align: right;\">\n",
       "      <th></th>\n",
       "      <th>Text</th>\n",
       "      <th>Label</th>\n",
       "    </tr>\n",
       "  </thead>\n",
       "  <tbody>\n",
       "    <tr>\n",
       "      <th>0</th>\n",
       "      <td>Rahul is a good boy</td>\n",
       "      <td>1</td>\n",
       "    </tr>\n",
       "    <tr>\n",
       "      <th>1</th>\n",
       "      <td>Vinit is a bad boy</td>\n",
       "      <td>0</td>\n",
       "    </tr>\n",
       "    <tr>\n",
       "      <th>2</th>\n",
       "      <td>Vinit watching Pushpa Movie</td>\n",
       "      <td>1</td>\n",
       "    </tr>\n",
       "    <tr>\n",
       "      <th>3</th>\n",
       "      <td>War is a flop movie</td>\n",
       "      <td>0</td>\n",
       "    </tr>\n",
       "  </tbody>\n",
       "</table>\n",
       "</div>"
      ],
      "text/plain": [
       "                          Text  Label\n",
       "0          Rahul is a good boy      1\n",
       "1           Vinit is a bad boy      0\n",
       "2  Vinit watching Pushpa Movie      1\n",
       "3          War is a flop movie      0"
      ]
     },
     "execution_count": 3,
     "metadata": {},
     "output_type": "execute_result"
    }
   ],
   "source": [
    "df = pd.DataFrame({\"Text\":[\"Rahul is a good boy\",\n",
    "                           \"Vinit is a bad boy\",\n",
    "                           \"Vinit watching Pushpa Movie\",\n",
    "                           \"War is a flop movie\"],\n",
    "                           \"Label\":[1,0,1,0]})\n",
    "df"
   ]
  },
  {
   "cell_type": "code",
   "execution_count": 4,
   "id": "62e92152",
   "metadata": {},
   "outputs": [],
   "source": [
    "from sklearn.feature_extraction.text import CountVectorizer\n",
    "c_vector = CountVectorizer()\n",
    "cv_df = c_vector.fit_transform(df['Text'])"
   ]
  },
  {
   "cell_type": "code",
   "execution_count": 5,
   "id": "96cb6fe3",
   "metadata": {},
   "outputs": [
    {
     "data": {
      "text/plain": [
       "<4x11 sparse matrix of type '<class 'numpy.int64'>'\n",
       "\twith 16 stored elements in Compressed Sparse Row format>"
      ]
     },
     "execution_count": 5,
     "metadata": {},
     "output_type": "execute_result"
    }
   ],
   "source": [
    "cv_df"
   ]
  },
  {
   "cell_type": "code",
   "execution_count": 6,
   "id": "911eaa65",
   "metadata": {},
   "outputs": [
    {
     "name": "stdout",
     "output_type": "stream",
     "text": [
      "{'rahul': 7, 'is': 4, 'good': 3, 'boy': 1, 'vinit': 8, 'bad': 0, 'watching': 10, 'pushpa': 6, 'movie': 5, 'war': 9, 'flop': 2}\n"
     ]
    }
   ],
   "source": [
    "print(c_vector.vocabulary_)"
   ]
  },
  {
   "cell_type": "code",
   "execution_count": 7,
   "id": "99ddd9e9",
   "metadata": {},
   "outputs": [
    {
     "data": {
      "text/plain": [
       "array([[0, 1, 0, 1, 1, 0, 0, 1, 0, 0, 0],\n",
       "       [1, 1, 0, 0, 1, 0, 0, 0, 1, 0, 0],\n",
       "       [0, 0, 0, 0, 0, 1, 1, 0, 1, 0, 1],\n",
       "       [0, 0, 1, 0, 1, 1, 0, 0, 0, 1, 0]], dtype=int64)"
      ]
     },
     "execution_count": 7,
     "metadata": {},
     "output_type": "execute_result"
    }
   ],
   "source": [
    "cv_df.toarray()"
   ]
  },
  {
   "cell_type": "code",
   "execution_count": 8,
   "id": "bce797ff",
   "metadata": {},
   "outputs": [
    {
     "data": {
      "text/plain": [
       "array([[1, 1, 0, 0, 0, 0, 1, 0, 0, 0, 0]], dtype=int64)"
      ]
     },
     "execution_count": 8,
     "metadata": {},
     "output_type": "execute_result"
    }
   ],
   "source": [
    "c_vector.transform(['bad boy Pushpa']).toarray()"
   ]
  },
  {
   "cell_type": "markdown",
   "id": "6969aba4",
   "metadata": {},
   "source": [
    "# N-gram Technique"
   ]
  },
  {
   "cell_type": "code",
   "execution_count": 9,
   "id": "02f5de9f",
   "metadata": {},
   "outputs": [],
   "source": [
    "df = pd.DataFrame({\"Text\":[\"Rahul is a good boy\",\n",
    "                           \"Vinit is a bad boy\",\n",
    "                           \"Vinit watching Pushpa Movie\",\n",
    "                           \"War is a flop movie\"],\n",
    "                           \"Label\":[1,0,1,0]})"
   ]
  },
  {
   "cell_type": "code",
   "execution_count": 10,
   "id": "6a214c34",
   "metadata": {},
   "outputs": [],
   "source": [
    "from sklearn.feature_extraction.text import CountVectorizer\n",
    "ng_vector = CountVectorizer(ngram_range=(2,2))\n",
    "ng_df = ng_vector.fit_transform(df['Text'])"
   ]
  },
  {
   "cell_type": "code",
   "execution_count": 11,
   "id": "575c28e2",
   "metadata": {},
   "outputs": [
    {
     "name": "stdout",
     "output_type": "stream",
     "text": [
      "{'rahul is': 7, 'is good': 5, 'good boy': 2, 'vinit is': 8, 'is bad': 3, 'bad boy': 0, 'vinit watching': 9, 'watching pushpa': 11, 'pushpa movie': 6, 'war is': 10, 'is flop': 4, 'flop movie': 1}\n"
     ]
    }
   ],
   "source": [
    "print(ng_vector.vocabulary_)"
   ]
  },
  {
   "cell_type": "code",
   "execution_count": 12,
   "id": "03204b21",
   "metadata": {},
   "outputs": [],
   "source": [
    "from sklearn.feature_extraction.text import CountVectorizer\n",
    "tri_vector = CountVectorizer(ngram_range=(3,3))\n",
    "tri_df = tri_vector.fit_transform(df['Text'])"
   ]
  },
  {
   "cell_type": "code",
   "execution_count": 13,
   "id": "59787498",
   "metadata": {},
   "outputs": [
    {
     "data": {
      "text/plain": [
       "{'rahul is good': 3,\n",
       " 'is good boy': 2,\n",
       " 'vinit is bad': 4,\n",
       " 'is bad boy': 0,\n",
       " 'vinit watching pushpa': 5,\n",
       " 'watching pushpa movie': 7,\n",
       " 'war is flop': 6,\n",
       " 'is flop movie': 1}"
      ]
     },
     "execution_count": 13,
     "metadata": {},
     "output_type": "execute_result"
    }
   ],
   "source": [
    "tri_vector.vocabulary_"
   ]
  },
  {
   "cell_type": "markdown",
   "id": "a43be134",
   "metadata": {},
   "source": [
    "# TF-IDF (Term Frequency-Inverse Document Frequency)"
   ]
  },
  {
   "cell_type": "code",
   "execution_count": 14,
   "id": "df17ead7",
   "metadata": {},
   "outputs": [],
   "source": [
    "df = pd.DataFrame({\"Text\":[\"Rahul is a good boy\",\n",
    "                           \"Vinit is a bad boy\",\n",
    "                           \"Vinit watching Pushpa Movie\",\n",
    "                           \"War is a flop movie\"],\n",
    "                           \"Label\":[1,0,1,0]})"
   ]
  },
  {
   "cell_type": "code",
   "execution_count": 15,
   "id": "a479e276",
   "metadata": {},
   "outputs": [],
   "source": [
    "from sklearn.feature_extraction.text import TfidfVectorizer\n",
    "tfidf = TfidfVectorizer()\n",
    "arr = tfidf.fit_transform(df['Text']).toarray()"
   ]
  },
  {
   "cell_type": "code",
   "execution_count": 16,
   "id": "9420ba1c",
   "metadata": {},
   "outputs": [
    {
     "data": {
      "text/plain": [
       "array([[0.        , 0.4530051 , 0.        , 0.57457953, 0.36674667,\n",
       "        0.        , 0.        , 0.57457953, 0.        , 0.        ,\n",
       "        0.        ],\n",
       "       [0.61422608, 0.4842629 , 0.        , 0.        , 0.39205255,\n",
       "        0.        , 0.        , 0.        , 0.4842629 , 0.        ,\n",
       "        0.        ],\n",
       "       [0.        , 0.        , 0.        , 0.        , 0.        ,\n",
       "        0.43779123, 0.55528266, 0.        , 0.43779123, 0.        ,\n",
       "        0.55528266],\n",
       "       [0.        , 0.        , 0.57457953, 0.        , 0.36674667,\n",
       "        0.4530051 , 0.        , 0.        , 0.        , 0.57457953,\n",
       "        0.        ]])"
      ]
     },
     "execution_count": 16,
     "metadata": {},
     "output_type": "execute_result"
    }
   ],
   "source": [
    "arr"
   ]
  },
  {
   "cell_type": "code",
   "execution_count": 17,
   "id": "891d3048",
   "metadata": {},
   "outputs": [
    {
     "data": {
      "text/plain": [
       "array([0.        , 0.4530051 , 0.        , 0.57457953, 0.36674667,\n",
       "       0.        , 0.        , 0.57457953, 0.        , 0.        ,\n",
       "       0.        ])"
      ]
     },
     "execution_count": 17,
     "metadata": {},
     "output_type": "execute_result"
    }
   ],
   "source": [
    "arr[0]"
   ]
  },
  {
   "cell_type": "code",
   "execution_count": 18,
   "id": "387ebcb1",
   "metadata": {},
   "outputs": [
    {
     "data": {
      "text/html": [
       "<div>\n",
       "<style scoped>\n",
       "    .dataframe tbody tr th:only-of-type {\n",
       "        vertical-align: middle;\n",
       "    }\n",
       "\n",
       "    .dataframe tbody tr th {\n",
       "        vertical-align: top;\n",
       "    }\n",
       "\n",
       "    .dataframe thead th {\n",
       "        text-align: right;\n",
       "    }\n",
       "</style>\n",
       "<table border=\"1\" class=\"dataframe\">\n",
       "  <thead>\n",
       "    <tr style=\"text-align: right;\">\n",
       "      <th></th>\n",
       "      <th>Unnamed: 0</th>\n",
       "      <th>id</th>\n",
       "      <th>category</th>\n",
       "      <th>text</th>\n",
       "    </tr>\n",
       "  </thead>\n",
       "  <tbody>\n",
       "    <tr>\n",
       "      <th>0</th>\n",
       "      <td>0</td>\n",
       "      <td>1</td>\n",
       "      <td>sports</td>\n",
       "      <td>the batsman hit a six over midwicket</td>\n",
       "    </tr>\n",
       "    <tr>\n",
       "      <th>1</th>\n",
       "      <td>1</td>\n",
       "      <td>2</td>\n",
       "      <td>sports</td>\n",
       "      <td>the striker scored two goals in the match</td>\n",
       "    </tr>\n",
       "    <tr>\n",
       "      <th>2</th>\n",
       "      <td>2</td>\n",
       "      <td>3</td>\n",
       "      <td>sports</td>\n",
       "      <td>the bowler took a wicket and fans cheered</td>\n",
       "    </tr>\n",
       "    <tr>\n",
       "      <th>3</th>\n",
       "      <td>3</td>\n",
       "      <td>4</td>\n",
       "      <td>food</td>\n",
       "      <td>i love eating fresh apples and bananas</td>\n",
       "    </tr>\n",
       "    <tr>\n",
       "      <th>4</th>\n",
       "      <td>4</td>\n",
       "      <td>5</td>\n",
       "      <td>food</td>\n",
       "      <td>the chef cooked pasta with tomato sauce</td>\n",
       "    </tr>\n",
       "    <tr>\n",
       "      <th>5</th>\n",
       "      <td>5</td>\n",
       "      <td>6</td>\n",
       "      <td>food</td>\n",
       "      <td>the bakery sells bread and delicious cakes</td>\n",
       "    </tr>\n",
       "  </tbody>\n",
       "</table>\n",
       "</div>"
      ],
      "text/plain": [
       "   Unnamed: 0  id category                                        text\n",
       "0           0   1   sports        the batsman hit a six over midwicket\n",
       "1           1   2   sports   the striker scored two goals in the match\n",
       "2           2   3   sports   the bowler took a wicket and fans cheered\n",
       "3           3   4     food      i love eating fresh apples and bananas\n",
       "4           4   5     food     the chef cooked pasta with tomato sauce\n",
       "5           5   6     food  the bakery sells bread and delicious cakes"
      ]
     },
     "execution_count": 18,
     "metadata": {},
     "output_type": "execute_result"
    }
   ],
   "source": [
    "import pandas as pd\n",
    "sports = pd.read_csv('Atul.csv')\n",
    "sports"
   ]
  },
  {
   "cell_type": "code",
   "execution_count": 19,
   "id": "cc1ccd02",
   "metadata": {},
   "outputs": [],
   "source": [
    "sports.drop(['id','Unnamed: 0'],axis = 1, inplace = True)"
   ]
  },
  {
   "cell_type": "code",
   "execution_count": 20,
   "id": "38c1a68f",
   "metadata": {},
   "outputs": [
    {
     "data": {
      "text/html": [
       "<div>\n",
       "<style scoped>\n",
       "    .dataframe tbody tr th:only-of-type {\n",
       "        vertical-align: middle;\n",
       "    }\n",
       "\n",
       "    .dataframe tbody tr th {\n",
       "        vertical-align: top;\n",
       "    }\n",
       "\n",
       "    .dataframe thead th {\n",
       "        text-align: right;\n",
       "    }\n",
       "</style>\n",
       "<table border=\"1\" class=\"dataframe\">\n",
       "  <thead>\n",
       "    <tr style=\"text-align: right;\">\n",
       "      <th></th>\n",
       "      <th>category</th>\n",
       "      <th>text</th>\n",
       "    </tr>\n",
       "  </thead>\n",
       "  <tbody>\n",
       "    <tr>\n",
       "      <th>0</th>\n",
       "      <td>sports</td>\n",
       "      <td>the batsman hit a six over midwicket</td>\n",
       "    </tr>\n",
       "    <tr>\n",
       "      <th>1</th>\n",
       "      <td>sports</td>\n",
       "      <td>the striker scored two goals in the match</td>\n",
       "    </tr>\n",
       "    <tr>\n",
       "      <th>2</th>\n",
       "      <td>sports</td>\n",
       "      <td>the bowler took a wicket and fans cheered</td>\n",
       "    </tr>\n",
       "    <tr>\n",
       "      <th>3</th>\n",
       "      <td>food</td>\n",
       "      <td>i love eating fresh apples and bananas</td>\n",
       "    </tr>\n",
       "    <tr>\n",
       "      <th>4</th>\n",
       "      <td>food</td>\n",
       "      <td>the chef cooked pasta with tomato sauce</td>\n",
       "    </tr>\n",
       "    <tr>\n",
       "      <th>5</th>\n",
       "      <td>food</td>\n",
       "      <td>the bakery sells bread and delicious cakes</td>\n",
       "    </tr>\n",
       "  </tbody>\n",
       "</table>\n",
       "</div>"
      ],
      "text/plain": [
       "  category                                        text\n",
       "0   sports        the batsman hit a six over midwicket\n",
       "1   sports   the striker scored two goals in the match\n",
       "2   sports   the bowler took a wicket and fans cheered\n",
       "3     food      i love eating fresh apples and bananas\n",
       "4     food     the chef cooked pasta with tomato sauce\n",
       "5     food  the bakery sells bread and delicious cakes"
      ]
     },
     "execution_count": 20,
     "metadata": {},
     "output_type": "execute_result"
    }
   ],
   "source": [
    "sports"
   ]
  },
  {
   "cell_type": "code",
   "execution_count": 21,
   "id": "68821d13",
   "metadata": {},
   "outputs": [
    {
     "name": "stderr",
     "output_type": "stream",
     "text": [
      "[nltk_data] Downloading package punkt to\n",
      "[nltk_data]     C:\\Users\\GrowTech\\AppData\\Roaming\\nltk_data...\n",
      "[nltk_data]   Package punkt is already up-to-date!\n"
     ]
    },
    {
     "data": {
      "text/plain": [
       "True"
      ]
     },
     "execution_count": 21,
     "metadata": {},
     "output_type": "execute_result"
    }
   ],
   "source": [
    "from nltk.tokenize import word_tokenize\n",
    "import nltk\n",
    "nltk.download('punkt')"
   ]
  },
  {
   "cell_type": "code",
   "execution_count": 22,
   "id": "1b97565c",
   "metadata": {},
   "outputs": [],
   "source": [
    "sports['token_text'] = sports['text'].apply(lambda x:word_tokenize(x.lower()))"
   ]
  },
  {
   "cell_type": "code",
   "execution_count": 23,
   "id": "600f3a70",
   "metadata": {},
   "outputs": [
    {
     "data": {
      "text/html": [
       "<div>\n",
       "<style scoped>\n",
       "    .dataframe tbody tr th:only-of-type {\n",
       "        vertical-align: middle;\n",
       "    }\n",
       "\n",
       "    .dataframe tbody tr th {\n",
       "        vertical-align: top;\n",
       "    }\n",
       "\n",
       "    .dataframe thead th {\n",
       "        text-align: right;\n",
       "    }\n",
       "</style>\n",
       "<table border=\"1\" class=\"dataframe\">\n",
       "  <thead>\n",
       "    <tr style=\"text-align: right;\">\n",
       "      <th></th>\n",
       "      <th>category</th>\n",
       "      <th>text</th>\n",
       "      <th>token_text</th>\n",
       "    </tr>\n",
       "  </thead>\n",
       "  <tbody>\n",
       "    <tr>\n",
       "      <th>0</th>\n",
       "      <td>sports</td>\n",
       "      <td>the batsman hit a six over midwicket</td>\n",
       "      <td>[the, batsman, hit, a, six, over, midwicket]</td>\n",
       "    </tr>\n",
       "    <tr>\n",
       "      <th>1</th>\n",
       "      <td>sports</td>\n",
       "      <td>the striker scored two goals in the match</td>\n",
       "      <td>[the, striker, scored, two, goals, in, the, ma...</td>\n",
       "    </tr>\n",
       "    <tr>\n",
       "      <th>2</th>\n",
       "      <td>sports</td>\n",
       "      <td>the bowler took a wicket and fans cheered</td>\n",
       "      <td>[the, bowler, took, a, wicket, and, fans, chee...</td>\n",
       "    </tr>\n",
       "    <tr>\n",
       "      <th>3</th>\n",
       "      <td>food</td>\n",
       "      <td>i love eating fresh apples and bananas</td>\n",
       "      <td>[i, love, eating, fresh, apples, and, bananas]</td>\n",
       "    </tr>\n",
       "    <tr>\n",
       "      <th>4</th>\n",
       "      <td>food</td>\n",
       "      <td>the chef cooked pasta with tomato sauce</td>\n",
       "      <td>[the, chef, cooked, pasta, with, tomato, sauce]</td>\n",
       "    </tr>\n",
       "    <tr>\n",
       "      <th>5</th>\n",
       "      <td>food</td>\n",
       "      <td>the bakery sells bread and delicious cakes</td>\n",
       "      <td>[the, bakery, sells, bread, and, delicious, ca...</td>\n",
       "    </tr>\n",
       "  </tbody>\n",
       "</table>\n",
       "</div>"
      ],
      "text/plain": [
       "  category                                        text  \\\n",
       "0   sports        the batsman hit a six over midwicket   \n",
       "1   sports   the striker scored two goals in the match   \n",
       "2   sports   the bowler took a wicket and fans cheered   \n",
       "3     food      i love eating fresh apples and bananas   \n",
       "4     food     the chef cooked pasta with tomato sauce   \n",
       "5     food  the bakery sells bread and delicious cakes   \n",
       "\n",
       "                                          token_text  \n",
       "0       [the, batsman, hit, a, six, over, midwicket]  \n",
       "1  [the, striker, scored, two, goals, in, the, ma...  \n",
       "2  [the, bowler, took, a, wicket, and, fans, chee...  \n",
       "3     [i, love, eating, fresh, apples, and, bananas]  \n",
       "4    [the, chef, cooked, pasta, with, tomato, sauce]  \n",
       "5  [the, bakery, sells, bread, and, delicious, ca...  "
      ]
     },
     "execution_count": 23,
     "metadata": {},
     "output_type": "execute_result"
    }
   ],
   "source": [
    "sports"
   ]
  },
  {
   "cell_type": "code",
   "execution_count": 24,
   "id": "30a9e3a8",
   "metadata": {},
   "outputs": [],
   "source": [
    "sports.drop('text',axis = 1, inplace = True)"
   ]
  },
  {
   "cell_type": "code",
   "execution_count": 25,
   "id": "33b1217d",
   "metadata": {},
   "outputs": [
    {
     "data": {
      "text/html": [
       "<div>\n",
       "<style scoped>\n",
       "    .dataframe tbody tr th:only-of-type {\n",
       "        vertical-align: middle;\n",
       "    }\n",
       "\n",
       "    .dataframe tbody tr th {\n",
       "        vertical-align: top;\n",
       "    }\n",
       "\n",
       "    .dataframe thead th {\n",
       "        text-align: right;\n",
       "    }\n",
       "</style>\n",
       "<table border=\"1\" class=\"dataframe\">\n",
       "  <thead>\n",
       "    <tr style=\"text-align: right;\">\n",
       "      <th></th>\n",
       "      <th>category</th>\n",
       "      <th>token_text</th>\n",
       "    </tr>\n",
       "  </thead>\n",
       "  <tbody>\n",
       "    <tr>\n",
       "      <th>0</th>\n",
       "      <td>sports</td>\n",
       "      <td>[the, batsman, hit, a, six, over, midwicket]</td>\n",
       "    </tr>\n",
       "    <tr>\n",
       "      <th>1</th>\n",
       "      <td>sports</td>\n",
       "      <td>[the, striker, scored, two, goals, in, the, ma...</td>\n",
       "    </tr>\n",
       "    <tr>\n",
       "      <th>2</th>\n",
       "      <td>sports</td>\n",
       "      <td>[the, bowler, took, a, wicket, and, fans, chee...</td>\n",
       "    </tr>\n",
       "    <tr>\n",
       "      <th>3</th>\n",
       "      <td>food</td>\n",
       "      <td>[i, love, eating, fresh, apples, and, bananas]</td>\n",
       "    </tr>\n",
       "    <tr>\n",
       "      <th>4</th>\n",
       "      <td>food</td>\n",
       "      <td>[the, chef, cooked, pasta, with, tomato, sauce]</td>\n",
       "    </tr>\n",
       "    <tr>\n",
       "      <th>5</th>\n",
       "      <td>food</td>\n",
       "      <td>[the, bakery, sells, bread, and, delicious, ca...</td>\n",
       "    </tr>\n",
       "  </tbody>\n",
       "</table>\n",
       "</div>"
      ],
      "text/plain": [
       "  category                                         token_text\n",
       "0   sports       [the, batsman, hit, a, six, over, midwicket]\n",
       "1   sports  [the, striker, scored, two, goals, in, the, ma...\n",
       "2   sports  [the, bowler, took, a, wicket, and, fans, chee...\n",
       "3     food     [i, love, eating, fresh, apples, and, bananas]\n",
       "4     food    [the, chef, cooked, pasta, with, tomato, sauce]\n",
       "5     food  [the, bakery, sells, bread, and, delicious, ca..."
      ]
     },
     "execution_count": 25,
     "metadata": {},
     "output_type": "execute_result"
    }
   ],
   "source": [
    "sports"
   ]
  },
  {
   "cell_type": "code",
   "execution_count": 26,
   "id": "0f408292",
   "metadata": {},
   "outputs": [],
   "source": [
    "import gensim"
   ]
  },
  {
   "cell_type": "code",
   "execution_count": 27,
   "id": "2fd49e6e",
   "metadata": {},
   "outputs": [],
   "source": [
    "from scipy.linalg import triu"
   ]
  },
  {
   "cell_type": "code",
   "execution_count": 34,
   "id": "9f3f6403",
   "metadata": {},
   "outputs": [],
   "source": [
    "from gensim.models import Word2Vec\n",
    "model = Word2Vec(sentences=sports['token_text'].to_list(),\n",
    "                 vector_size = 100,\n",
    "                 sg = 1,\n",
    "                 min_count=1,\n",
    "                 epochs=100)"
   ]
  },
  {
   "cell_type": "code",
   "execution_count": 35,
   "id": "be53848b",
   "metadata": {},
   "outputs": [
    {
     "data": {
      "text/plain": [
       "<gensim.models.word2vec.Word2Vec at 0x2c21bf49990>"
      ]
     },
     "execution_count": 35,
     "metadata": {},
     "output_type": "execute_result"
    }
   ],
   "source": [
    "model"
   ]
  },
  {
   "cell_type": "code",
   "execution_count": 38,
   "id": "8c53a5cb",
   "metadata": {},
   "outputs": [
    {
     "name": "stdout",
     "output_type": "stream",
     "text": [
      "Batsman Similarity [('bowler', 0.18579623103141785), ('six', 0.14559486508369446), ('and', 0.09101609885692596), ('love', 0.08407751470804214), ('striker', 0.08013216406106949), ('over', 0.0645677000284195), ('scored', 0.06405312567949295), ('goals', 0.05997705087065697), ('chef', 0.058389995247125626), ('sells', 0.052152711898088455)]\n",
      "bakery Similarity [('bowler', 0.18673427402973175), ('bread', 0.17629645764827728), ('match', 0.17092013359069824)]\n",
      "goals Similarity [('a', 0.22319838404655457), ('bananas', 0.21723012626171112), ('six', 0.2105235755443573), ('fresh', 0.1951323300600052), ('the', 0.18303881585597992), ('two', 0.18024171888828278), ('cakes', 0.1656389832496643), ('midwicket', 0.14453235268592834), ('pasta', 0.13958428800106049), ('scored', 0.12176245450973511)]\n"
     ]
    }
   ],
   "source": [
    "print(\"Batsman Similarity\",model.wv.most_similar(\"batsman\"))\n",
    "print(\"bakery Similarity\",model.wv.most_similar(\"bakery\",topn = 3))\n",
    "print(\"goals Similarity\",model.wv.most_similar(\"goals\"))\n"
   ]
  },
  {
   "cell_type": "code",
   "execution_count": null,
   "id": "d35548ff",
   "metadata": {},
   "outputs": [
    {
     "name": "stdout",
     "output_type": "stream",
     "text": [
      "0.08013214\n",
      "0.18579623\n",
      "0.09681683\n"
     ]
    }
   ],
   "source": [
    "print(model.wv.similarity('batsman','striker'))\n",
    "print(model.wv.similarity('batsman','bowler'))\n",
    "print(model.wv.similarity('bowler','wicket'))"
   ]
  },
  {
   "cell_type": "code",
   "execution_count": 39,
   "id": "498c155d",
   "metadata": {},
   "outputs": [
    {
     "data": {
      "text/plain": [
       "array([[-0.0032119 ,  0.00955157,  0.09004027, ..., -0.12114186,\n",
       "         0.02412272,  0.12011483],\n",
       "       [-0.13753872,  0.06439656,  0.0884329 , ..., -0.04589748,\n",
       "        -0.15153791,  0.08663685],\n",
       "       [ 0.00544391,  0.05763754, -0.10900236, ...,  0.00158385,\n",
       "         0.14231272, -0.10410504],\n",
       "       ...,\n",
       "       [ 0.08372267, -0.06036152, -0.07101382, ..., -0.12738474,\n",
       "         0.16614445, -0.02127205],\n",
       "       [-0.02318393, -0.06870817, -0.0757602 , ..., -0.066775  ,\n",
       "        -0.04577483,  0.10464286],\n",
       "       [ 0.14328322, -0.11054358,  0.1055327 , ...,  0.14548272,\n",
       "        -0.06118113, -0.16829276]], dtype=float32)"
      ]
     },
     "execution_count": 39,
     "metadata": {},
     "output_type": "execute_result"
    }
   ],
   "source": [
    "vec = model.wv.get_normed_vectors()\n",
    "vec"
   ]
  },
  {
   "cell_type": "code",
   "execution_count": null,
   "id": "115db456",
   "metadata": {},
   "outputs": [],
   "source": [
    "import numpy as np\n",
    "import face_detection\n",
    "print(face_detection.available_detectors)\n",
    "detector = face_detection.build_detector(\n",
    "  \"DSFDDetector\", confidence_threshold=.5, nms_iou_threshold=.3)\n",
    "# [batch size, height, width, 3]\n",
    "images_dummy = np.zeros((2, 512, 512, 3))\n",
    "\n",
    "detections = detector.batched_detect(im)"
   ]
  },
  {
   "cell_type": "code",
   "execution_count": null,
   "id": "4a67a8cd",
   "metadata": {},
   "outputs": [],
   "source": []
  }
 ],
 "metadata": {
  "kernelspec": {
   "display_name": "env",
   "language": "python",
   "name": "python3"
  },
  "language_info": {
   "codemirror_mode": {
    "name": "ipython",
    "version": 3
   },
   "file_extension": ".py",
   "mimetype": "text/x-python",
   "name": "python",
   "nbconvert_exporter": "python",
   "pygments_lexer": "ipython3",
   "version": "3.11.9"
  }
 },
 "nbformat": 4,
 "nbformat_minor": 5
}
