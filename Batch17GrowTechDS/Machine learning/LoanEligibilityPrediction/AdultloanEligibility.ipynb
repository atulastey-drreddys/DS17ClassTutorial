{
 "cells": [
  {
   "cell_type": "code",
   "execution_count": null,
   "id": "2db72817",
   "metadata": {},
   "outputs": [],
   "source": [
    "from sklearn.model_selection import train_test_split, KFold,cross_val_score\n",
    "X_train,X_test,y_train,y_test = train_test_split(X,y,\n",
    "                                                 test_size=0.2)"
   ]
  },
  {
   "cell_type": "code",
   "execution_count": null,
   "id": "6aaa8e75",
   "metadata": {},
   "outputs": [],
   "source": [
    "from sklearn.linear_model import LogisticRegression\n",
    "log_model = LogisticRegression()"
   ]
  },
  {
   "cell_type": "code",
   "execution_count": null,
   "id": "7a33bccd",
   "metadata": {},
   "outputs": [],
   "source": [
    "kfold = KFold(n_splits=5,)"
   ]
  },
  {
   "cell_type": "code",
   "execution_count": null,
   "id": "ab75d74b",
   "metadata": {},
   "outputs": [],
   "source": [
    "score = cross_val_score(log_model,X_train,y_train,cv = kfold)"
   ]
  },
  {
   "cell_type": "code",
   "execution_count": null,
   "id": "bfcead95",
   "metadata": {},
   "outputs": [],
   "source": [
    "score.mean()"
   ]
  },
  {
   "cell_type": "code",
   "execution_count": null,
   "id": "f4d9064e",
   "metadata": {},
   "outputs": [],
   "source": [
    "# retrain the model\n",
    "\n",
    "log_model.fit(X_train,y_train)\n"
   ]
  }
 ],
 "metadata": {
  "language_info": {
   "name": "python"
  }
 },
 "nbformat": 4,
 "nbformat_minor": 5
}
