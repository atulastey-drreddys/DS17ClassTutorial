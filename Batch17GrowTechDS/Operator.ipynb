{
 "cells": [
  {
   "cell_type": "code",
   "execution_count": 1,
   "id": "f2b291ba",
   "metadata": {},
   "outputs": [
    {
     "name": "stdout",
     "output_type": "stream",
     "text": [
      "Operator\n"
     ]
    }
   ],
   "source": [
    "print(\"Operator\")"
   ]
  },
  {
   "cell_type": "markdown",
   "id": "d47d186f",
   "metadata": {},
   "source": [
    "# Arithmatic Operator"
   ]
  },
  {
   "cell_type": "code",
   "execution_count": 6,
   "id": "cbb1f751",
   "metadata": {},
   "outputs": [
    {
     "name": "stdout",
     "output_type": "stream",
     "text": [
      "Addition 112\n",
      "SUbstraction 44\n",
      "Multiplication 2652\n",
      "Division 2.2941176470588234\n",
      "Floor division 2\n",
      "Modulo 10\n"
     ]
    }
   ],
   "source": [
    "a = 78\n",
    "b = 34\n",
    "\n",
    "print(\"Addition\",a + b)\n",
    "print(\"SUbstraction\",a - b)\n",
    "print(\"Multiplication\",a * b)\n",
    "print(\"Division\",a / b)\n",
    "print(\"Floor division\",a // b)\n",
    "print(\"Modulo\",a % b)"
   ]
  },
  {
   "cell_type": "markdown",
   "id": "eb82acf1",
   "metadata": {},
   "source": [
    "# Assignment Operator"
   ]
  },
  {
   "cell_type": "code",
   "execution_count": null,
   "id": "0d608efb",
   "metadata": {},
   "outputs": [
    {
     "name": "stdout",
     "output_type": "stream",
     "text": [
      "110\n"
     ]
    }
   ],
   "source": [
    "x = 10\n",
    "x += 100 # x = x + 100\n",
    "print(x)"
   ]
  },
  {
   "cell_type": "code",
   "execution_count": 8,
   "id": "27f43a37",
   "metadata": {},
   "outputs": [
    {
     "name": "stdout",
     "output_type": "stream",
     "text": [
      "310\n"
     ]
    }
   ],
   "source": [
    "x += 200\n",
    "print(x)"
   ]
  },
  {
   "cell_type": "code",
   "execution_count": 9,
   "id": "fc18bce5",
   "metadata": {},
   "outputs": [
    {
     "name": "stdout",
     "output_type": "stream",
     "text": [
      "143\n",
      "90\n"
     ]
    }
   ],
   "source": [
    "u = 53\n",
    "v = 90\n",
    "u += v\n",
    "print(u)\n",
    "print(v)"
   ]
  },
  {
   "cell_type": "code",
   "execution_count": 10,
   "id": "ea2645df",
   "metadata": {},
   "outputs": [
    {
     "name": "stdout",
     "output_type": "stream",
     "text": [
      "193\n"
     ]
    }
   ],
   "source": [
    "u += 50\n",
    "print(u)"
   ]
  },
  {
   "cell_type": "code",
   "execution_count": 11,
   "id": "1a55d04e",
   "metadata": {},
   "outputs": [
    {
     "name": "stdout",
     "output_type": "stream",
     "text": [
      "90\n"
     ]
    }
   ],
   "source": [
    "print(v)"
   ]
  },
  {
   "cell_type": "code",
   "execution_count": 13,
   "id": "9b3df47a",
   "metadata": {},
   "outputs": [
    {
     "name": "stdout",
     "output_type": "stream",
     "text": [
      "476\n"
     ]
    }
   ],
   "source": [
    "v += u\n",
    "print(v)"
   ]
  },
  {
   "cell_type": "code",
   "execution_count": 14,
   "id": "fe66e446",
   "metadata": {},
   "outputs": [
    {
     "name": "stdout",
     "output_type": "stream",
     "text": [
      "93\n"
     ]
    }
   ],
   "source": [
    "u -= 100\n",
    "print(u)"
   ]
  },
  {
   "cell_type": "code",
   "execution_count": 15,
   "id": "0b7fe2ca",
   "metadata": {},
   "outputs": [
    {
     "name": "stdout",
     "output_type": "stream",
     "text": [
      "930\n"
     ]
    }
   ],
   "source": [
    "u *= 10\n",
    "print(u)"
   ]
  },
  {
   "cell_type": "code",
   "execution_count": 16,
   "id": "340842ca",
   "metadata": {},
   "outputs": [
    {
     "name": "stdout",
     "output_type": "stream",
     "text": [
      "186.0\n"
     ]
    }
   ],
   "source": [
    "u /= 5\n",
    "print(u)"
   ]
  },
  {
   "cell_type": "code",
   "execution_count": 17,
   "id": "a9d35122",
   "metadata": {},
   "outputs": [
    {
     "name": "stdout",
     "output_type": "stream",
     "text": [
      "18.6\n"
     ]
    }
   ],
   "source": [
    "u /= 10\n",
    "print(u)"
   ]
  },
  {
   "cell_type": "code",
   "execution_count": 18,
   "id": "5c7bd2e9",
   "metadata": {},
   "outputs": [
    {
     "name": "stdout",
     "output_type": "stream",
     "text": [
      "18\n"
     ]
    }
   ],
   "source": [
    "x = 186\n",
    "x//= 10\n",
    "\n",
    "print(x)"
   ]
  },
  {
   "cell_type": "code",
   "execution_count": 19,
   "id": "ea1b0be6",
   "metadata": {},
   "outputs": [],
   "source": [
    "x = 186\n",
    "x%= 10"
   ]
  },
  {
   "cell_type": "code",
   "execution_count": 20,
   "id": "29280e3d",
   "metadata": {},
   "outputs": [
    {
     "name": "stdout",
     "output_type": "stream",
     "text": [
      "6\n"
     ]
    }
   ],
   "source": [
    "print(x)"
   ]
  },
  {
   "cell_type": "markdown",
   "id": "945b1ac9",
   "metadata": {},
   "source": [
    "# Realational or comparison operator"
   ]
  },
  {
   "cell_type": "code",
   "execution_count": 21,
   "id": "ae4262e6",
   "metadata": {},
   "outputs": [
    {
     "name": "stdout",
     "output_type": "stream",
     "text": [
      "False\n",
      "True\n",
      "False\n",
      "True\n",
      "False\n",
      "True\n"
     ]
    }
   ],
   "source": [
    "i = 34\n",
    "j = 23\n",
    "\n",
    "print(i < j)\n",
    "print(i > j)\n",
    "print(i <= j)\n",
    "print(i >= j)\n",
    "print(i == j)\n",
    "print(i != j)"
   ]
  },
  {
   "cell_type": "markdown",
   "id": "bd2cdfb3",
   "metadata": {},
   "source": [
    "# Logical Operator"
   ]
  },
  {
   "cell_type": "code",
   "execution_count": 22,
   "id": "7336f885",
   "metadata": {},
   "outputs": [
    {
     "name": "stdout",
     "output_type": "stream",
     "text": [
      "True\n",
      "False\n",
      "True\n",
      "False\n",
      "False\n"
     ]
    }
   ],
   "source": [
    "v1 = 900\n",
    "v2 = 600\n",
    "v3 = 592\n",
    "\n",
    "print(v1> v2 and v2>v3)\n",
    "print(v2 < v2 and v2<v3)\n",
    "print(v1 >= v3 and v2>=v3)\n",
    "print(v1  <= v2 and v2 <= v3 and v3 != v1)\n",
    "print(v1 == v2 and v2 == v3)\n",
    "\n",
    "\n",
    "\n"
   ]
  },
  {
   "cell_type": "code",
   "execution_count": null,
   "id": "7cd738fb",
   "metadata": {},
   "outputs": [
    {
     "name": "stdout",
     "output_type": "stream",
     "text": [
      "True\n",
      "False\n",
      "True\n",
      "True\n",
      "False\n"
     ]
    }
   ],
   "source": [
    "v1 = 900\n",
    "v2 = 600\n",
    "v3 = 592\n",
    "\n",
    "print(v1> v2 or v2>v3)\n",
    "print(v2 < v2 or v2<v3)\n",
    "print(v1 >= v3 or v2>=v3)\n",
    "print(v1  <= v2 or v2 <= v3 or v3 != v1)\n",
    "print(v1 == v2 or v2 == v3)\n",
    "print(v1  <= v2 or (v2 <= v3 and v3 != v1))\n",
    "\n"
   ]
  },
  {
   "cell_type": "code",
   "execution_count": 24,
   "id": "66fc1bf8",
   "metadata": {},
   "outputs": [
    {
     "name": "stdout",
     "output_type": "stream",
     "text": [
      "12.666666666666666\n"
     ]
    }
   ],
   "source": [
    "x = 4\n",
    "y = 6\n",
    "z = 8\n",
    "\n",
    "avg = x + y+ z/3\n",
    "print(avg)"
   ]
  },
  {
   "cell_type": "code",
   "execution_count": 25,
   "id": "61fb1e45",
   "metadata": {},
   "outputs": [
    {
     "name": "stdout",
     "output_type": "stream",
     "text": [
      "6.0\n"
     ]
    }
   ],
   "source": [
    "x = 4\n",
    "y = 6\n",
    "z = 8\n",
    "\n",
    "avg = (x + y+ z)/3\n",
    "print(avg)"
   ]
  },
  {
   "cell_type": "code",
   "execution_count": 26,
   "id": "4a46f357",
   "metadata": {},
   "outputs": [
    {
     "name": "stdout",
     "output_type": "stream",
     "text": [
      "False\n"
     ]
    }
   ],
   "source": [
    "var = True\n",
    "print(not var)"
   ]
  },
  {
   "cell_type": "code",
   "execution_count": 27,
   "id": "2d82dc7c",
   "metadata": {},
   "outputs": [
    {
     "name": "stdout",
     "output_type": "stream",
     "text": [
      "True\n"
     ]
    }
   ],
   "source": [
    "var = False\n",
    "print(not var)"
   ]
  },
  {
   "cell_type": "code",
   "execution_count": 28,
   "id": "04bb3905",
   "metadata": {},
   "outputs": [
    {
     "name": "stdout",
     "output_type": "stream",
     "text": [
      "False\n"
     ]
    }
   ],
   "source": [
    "g = 34\n",
    "print(not g)"
   ]
  },
  {
   "cell_type": "code",
   "execution_count": 29,
   "id": "897f9eb0",
   "metadata": {},
   "outputs": [
    {
     "name": "stdout",
     "output_type": "stream",
     "text": [
      "True\n"
     ]
    }
   ],
   "source": [
    "t = 0\n",
    "print(not t)"
   ]
  },
  {
   "cell_type": "markdown",
   "id": "0876b960",
   "metadata": {},
   "source": [
    "# Bitwise operator"
   ]
  },
  {
   "cell_type": "code",
   "execution_count": 7,
   "id": "20fc755b",
   "metadata": {},
   "outputs": [
    {
     "name": "stdout",
     "output_type": "stream",
     "text": [
      "10\n",
      "15\n",
      "5\n"
     ]
    }
   ],
   "source": [
    "x = 10\n",
    "y = 15\n",
    "\n",
    "print(x & y) # and \n",
    "print(x | y) # or\n",
    "print( x ^ y) # xor"
   ]
  },
  {
   "cell_type": "code",
   "execution_count": 5,
   "id": "46f2f751",
   "metadata": {},
   "outputs": [
    {
     "name": "stdout",
     "output_type": "stream",
     "text": [
      "0b1010\n",
      "0b1111\n"
     ]
    }
   ],
   "source": [
    "print(bin(x))\n",
    "print(bin(y))"
   ]
  },
  {
   "cell_type": "code",
   "execution_count": 8,
   "id": "7e16b503",
   "metadata": {},
   "outputs": [
    {
     "name": "stdout",
     "output_type": "stream",
     "text": [
      "5\n"
     ]
    }
   ],
   "source": [
    "print(0b101)"
   ]
  },
  {
   "cell_type": "code",
   "execution_count": 10,
   "id": "a2a1e15f",
   "metadata": {},
   "outputs": [
    {
     "name": "stdout",
     "output_type": "stream",
     "text": [
      "-91\n"
     ]
    }
   ],
   "source": [
    "u = 90\n",
    "print(~ u)"
   ]
  },
  {
   "cell_type": "code",
   "execution_count": 11,
   "id": "06ffd231",
   "metadata": {},
   "outputs": [
    {
     "name": "stdout",
     "output_type": "stream",
     "text": [
      "42\n"
     ]
    }
   ],
   "source": [
    "v = -43\n",
    "print(~ v)"
   ]
  },
  {
   "cell_type": "markdown",
   "id": "a76f8d74",
   "metadata": {},
   "source": [
    "# Membership Operator"
   ]
  },
  {
   "cell_type": "code",
   "execution_count": 26,
   "id": "2a2e66f8",
   "metadata": {},
   "outputs": [
    {
     "name": "stdout",
     "output_type": "stream",
     "text": [
      "16\n",
      "True\n",
      "True\n",
      "False\n",
      "False\n",
      "True\n",
      "True\n"
     ]
    }
   ],
   "source": [
    "y = \"machine learning\"\n",
    "print(len(y))\n",
    "\n",
    "print(\"m\" in y)\n",
    "print(\"l\" in y)\n",
    "print(\"A\" in y)\n",
    "print(\"l\" not in y)\n",
    "print(\"A\" not in y)\n",
    "print(\"  \" not in y)"
   ]
  },
  {
   "cell_type": "markdown",
   "id": "89ce0bca",
   "metadata": {},
   "source": [
    "# Identity operator\n",
    "\n"
   ]
  },
  {
   "cell_type": "code",
   "execution_count": 29,
   "id": "af045371",
   "metadata": {},
   "outputs": [
    {
     "name": "stdout",
     "output_type": "stream",
     "text": [
      "140716238797256\n",
      "140716238797256\n",
      "True\n"
     ]
    }
   ],
   "source": [
    "x = 54\n",
    "y = 54\n",
    "print(id(x))\n",
    "print(id(y))\n",
    "print(x is y)"
   ]
  },
  {
   "cell_type": "code",
   "execution_count": 30,
   "id": "a6fe61da",
   "metadata": {},
   "outputs": [
    {
     "name": "stdout",
     "output_type": "stream",
     "text": [
      "140716238797256\n",
      "2104993141936\n",
      "False\n"
     ]
    }
   ],
   "source": [
    "x = 54\n",
    "y = 540\n",
    "print(id(x))\n",
    "print(id(y))\n",
    "print(x is y)"
   ]
  },
  {
   "cell_type": "code",
   "execution_count": 34,
   "id": "b0579cf9",
   "metadata": {},
   "outputs": [
    {
     "name": "stdout",
     "output_type": "stream",
     "text": [
      "False\n",
      "2104993480240\n",
      "2104993462832\n"
     ]
    }
   ],
   "source": [
    "i = \"popular python\"\n",
    "j = \"popular python\"\n",
    "print(i is j)\n",
    "print(id(i))\n",
    "print(id(j))"
   ]
  },
  {
   "cell_type": "code",
   "execution_count": 32,
   "id": "bbcdcc53",
   "metadata": {},
   "outputs": [
    {
     "name": "stdout",
     "output_type": "stream",
     "text": [
      "False\n"
     ]
    }
   ],
   "source": [
    "i = [\"python\"]\n",
    "j = [\"python\"]\n",
    "print(i is j)"
   ]
  },
  {
   "cell_type": "code",
   "execution_count": null,
   "id": "fcfaeb39",
   "metadata": {},
   "outputs": [],
   "source": []
  }
 ],
 "metadata": {
  "kernelspec": {
   "display_name": "Python 3",
   "language": "python",
   "name": "python3"
  },
  "language_info": {
   "codemirror_mode": {
    "name": "ipython",
    "version": 3
   },
   "file_extension": ".py",
   "mimetype": "text/x-python",
   "name": "python",
   "nbconvert_exporter": "python",
   "pygments_lexer": "ipython3",
   "version": "3.11.9"
  }
 },
 "nbformat": 4,
 "nbformat_minor": 5
}
