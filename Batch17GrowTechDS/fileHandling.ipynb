{
 "cells": [
  {
   "cell_type": "code",
   "execution_count": 1,
   "id": "5a5a0507",
   "metadata": {},
   "outputs": [
    {
     "name": "stdout",
     "output_type": "stream",
     "text": [
      "File handling\n"
     ]
    }
   ],
   "source": [
    "print(\"File handling\")"
   ]
  },
  {
   "cell_type": "code",
   "execution_count": 2,
   "id": "f62b7718",
   "metadata": {},
   "outputs": [
    {
     "name": "stdout",
     "output_type": "stream",
     "text": [
      "<_io.TextIOWrapper name='Studied about ML topic.txt' mode='r' encoding='cp1252'>\n"
     ]
    }
   ],
   "source": [
    "file = open(\"Studied about ML topic.txt\")\n",
    "print(file)"
   ]
  },
  {
   "cell_type": "code",
   "execution_count": 5,
   "id": "9c9e67b7",
   "metadata": {},
   "outputs": [
    {
     "data": {
      "text/plain": [
       "'Studied about ML topic\\n1) SVM\\n2) Naive Bayes\\n3) Decision Tree\\n4) Random Forest '"
      ]
     },
     "execution_count": 5,
     "metadata": {},
     "output_type": "execute_result"
    }
   ],
   "source": [
    "file = open(\"Studied about ML topic.txt\",'r')\n",
    "file.read()"
   ]
  },
  {
   "cell_type": "code",
   "execution_count": 7,
   "id": "4847b42f",
   "metadata": {},
   "outputs": [
    {
     "data": {
      "text/plain": [
       "'Supervised learning is a machine learning approach where an algorithm learns from a labeled dataset to make predictions or classifications on new, unseen data. The \"supervision\" comes from the labeled data, which provides the correct answers, allowing the algorithm to learn the relationship between inputs and outputs. '"
      ]
     },
     "execution_count": 7,
     "metadata": {},
     "output_type": "execute_result"
    }
   ],
   "source": [
    "file2 = open(\"Supervised learning.txt\")\n",
    "file2.read()\n"
   ]
  },
  {
   "cell_type": "code",
   "execution_count": 8,
   "id": "92684113",
   "metadata": {},
   "outputs": [
    {
     "ename": "FileNotFoundError",
     "evalue": "[Errno 2] No such file or directory: 'Mojito.txt'",
     "output_type": "error",
     "traceback": [
      "\u001b[31m---------------------------------------------------------------------------\u001b[39m",
      "\u001b[31mFileNotFoundError\u001b[39m                         Traceback (most recent call last)",
      "\u001b[36mCell\u001b[39m\u001b[36m \u001b[39m\u001b[32mIn[8]\u001b[39m\u001b[32m, line 1\u001b[39m\n\u001b[32m----> \u001b[39m\u001b[32m1\u001b[39m file3 = \u001b[38;5;28;43mopen\u001b[39;49m\u001b[43m(\u001b[49m\u001b[33;43m\"\u001b[39;49m\u001b[33;43mMojito.txt\u001b[39;49m\u001b[33;43m\"\u001b[39;49m\u001b[43m)\u001b[49m\n\u001b[32m      2\u001b[39m file3.read()\n",
      "\u001b[36mFile \u001b[39m\u001b[32m~\\AppData\\Local\\Packages\\PythonSoftwareFoundation.Python.3.11_qbz5n2kfra8p0\\LocalCache\\local-packages\\Python311\\site-packages\\IPython\\core\\interactiveshell.py:326\u001b[39m, in \u001b[36m_modified_open\u001b[39m\u001b[34m(file, *args, **kwargs)\u001b[39m\n\u001b[32m    319\u001b[39m \u001b[38;5;28;01mif\u001b[39;00m file \u001b[38;5;129;01min\u001b[39;00m {\u001b[32m0\u001b[39m, \u001b[32m1\u001b[39m, \u001b[32m2\u001b[39m}:\n\u001b[32m    320\u001b[39m     \u001b[38;5;28;01mraise\u001b[39;00m \u001b[38;5;167;01mValueError\u001b[39;00m(\n\u001b[32m    321\u001b[39m         \u001b[33mf\u001b[39m\u001b[33m\"\u001b[39m\u001b[33mIPython won\u001b[39m\u001b[33m'\u001b[39m\u001b[33mt let you open fd=\u001b[39m\u001b[38;5;132;01m{\u001b[39;00mfile\u001b[38;5;132;01m}\u001b[39;00m\u001b[33m by default \u001b[39m\u001b[33m\"\u001b[39m\n\u001b[32m    322\u001b[39m         \u001b[33m\"\u001b[39m\u001b[33mas it is likely to crash IPython. If you know what you are doing, \u001b[39m\u001b[33m\"\u001b[39m\n\u001b[32m    323\u001b[39m         \u001b[33m\"\u001b[39m\u001b[33myou can use builtins\u001b[39m\u001b[33m'\u001b[39m\u001b[33m open.\u001b[39m\u001b[33m\"\u001b[39m\n\u001b[32m    324\u001b[39m     )\n\u001b[32m--> \u001b[39m\u001b[32m326\u001b[39m \u001b[38;5;28;01mreturn\u001b[39;00m \u001b[43mio_open\u001b[49m\u001b[43m(\u001b[49m\u001b[43mfile\u001b[49m\u001b[43m,\u001b[49m\u001b[43m \u001b[49m\u001b[43m*\u001b[49m\u001b[43margs\u001b[49m\u001b[43m,\u001b[49m\u001b[43m \u001b[49m\u001b[43m*\u001b[49m\u001b[43m*\u001b[49m\u001b[43mkwargs\u001b[49m\u001b[43m)\u001b[49m\n",
      "\u001b[31mFileNotFoundError\u001b[39m: [Errno 2] No such file or directory: 'Mojito.txt'"
     ]
    }
   ],
   "source": [
    "file3 = open(\"Mojito.txt\")\n",
    "file3.read()"
   ]
  },
  {
   "cell_type": "code",
   "execution_count": 9,
   "id": "455d825a",
   "metadata": {},
   "outputs": [],
   "source": [
    "file3 = open(\"Mojito.txt\",'w')\n",
    "file3.write(\"Mojito is a famous cocktail\")\n",
    "file3.close()"
   ]
  },
  {
   "cell_type": "code",
   "execution_count": 10,
   "id": "236368e6",
   "metadata": {},
   "outputs": [
    {
     "data": {
      "text/plain": [
       "'Mojito is a famous cocktail'"
      ]
     },
     "execution_count": 10,
     "metadata": {},
     "output_type": "execute_result"
    }
   ],
   "source": [
    "file4 = open(\"Mojito.txt\")\n",
    "file4.read()"
   ]
  },
  {
   "cell_type": "code",
   "execution_count": 13,
   "id": "220e336b",
   "metadata": {},
   "outputs": [
    {
     "data": {
      "text/plain": [
       "'Virat Kohli (born 5 November 1988)[a] is an Indian international cricketer who plays ODI cricket for the India national team and is a former captain in all formats.[4] He is a right-handed batsman and occasional right-arm medium pace bowler. Considered one of the greatest all-format batsmen in the history of cricket, he is called the King, the Chase Master, and the Run Machine for his skills, records and ability to lead his team to victory.[5] Kohli is the highest run-scorer in the Indian Premier League, third in T20I, third in ODI, and third in international cricket.[6] He has the most ODI centuries and second-most centuries in international cricket with 82 centuries across all formats of the game.[7] He is the only batter to earn 900 rating points in all three formats. 937 points in Test format and 909 points in both ODI & T20I formats.'"
      ]
     },
     "execution_count": 13,
     "metadata": {},
     "output_type": "execute_result"
    }
   ],
   "source": [
    "virat = open(\"C:/Users/GrowTech/DataScience B-14/Virat Kohli Bio.txt\",'r')\n",
    "virat.read()"
   ]
  },
  {
   "cell_type": "code",
   "execution_count": 14,
   "id": "abe8466e",
   "metadata": {},
   "outputs": [],
   "source": [
    "file7 = open(\"Mojito.txt\",'a')\n",
    "file7.write(\"If you're in the mood for a fun summer drink, this mint mojito recipe is just what you need! It's refreshing, delicious, and super easy to make.\")\n",
    "file7.close()"
   ]
  },
  {
   "cell_type": "code",
   "execution_count": 15,
   "id": "5da91fd3",
   "metadata": {},
   "outputs": [],
   "source": [
    "with open(\"Mobile.txt\",'w') as file:\n",
    "    file.write(\"The first mobile phone was demonstrated by Martin Cooper of Motorola in 1973. It was a handheld device, but not commercially available until 1983 with the Motorola DynaTAC 8000x. Prior to this, mobile telephony was limited to car phones. The development of mobile phones has led to the widespread use of smartphones today, with over 9.1 billion subscriptions worldwide. \")\n",
    "    "
   ]
  },
  {
   "cell_type": "code",
   "execution_count": null,
   "id": "c3e75544",
   "metadata": {},
   "outputs": [],
   "source": []
  }
 ],
 "metadata": {
  "kernelspec": {
   "display_name": "Python 3",
   "language": "python",
   "name": "python3"
  },
  "language_info": {
   "codemirror_mode": {
    "name": "ipython",
    "version": 3
   },
   "file_extension": ".py",
   "mimetype": "text/x-python",
   "name": "python",
   "nbconvert_exporter": "python",
   "pygments_lexer": "ipython3",
   "version": "3.11.9"
  }
 },
 "nbformat": 4,
 "nbformat_minor": 5
}
