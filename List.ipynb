{
 "cells": [
  {
   "cell_type": "code",
   "execution_count": 1,
   "id": "d56de6ec",
   "metadata": {},
   "outputs": [
    {
     "name": "stdout",
     "output_type": "stream",
     "text": [
      "Hello world\n"
     ]
    }
   ],
   "source": [
    "print(\"Hello world\")"
   ]
  },
  {
   "cell_type": "code",
   "execution_count": 4,
   "id": "71d6ac23",
   "metadata": {},
   "outputs": [
    {
     "name": "stdout",
     "output_type": "stream",
     "text": [
      "[]\n",
      "0\n"
     ]
    }
   ],
   "source": [
    "u = []\n",
    "print(u)\n",
    "print(len(u))"
   ]
  },
  {
   "cell_type": "code",
   "execution_count": 2,
   "id": "3469762e",
   "metadata": {},
   "outputs": [
    {
     "name": "stdout",
     "output_type": "stream",
     "text": [
      "[5, 3245, 654, 345, 'Hello', False, 'python', 45.23, True, None]\n",
      "10\n",
      "<class 'list'>\n"
     ]
    }
   ],
   "source": [
    "x = [5,3245,654,345,\"Hello\",False,\"python\",45.23, True, None]\n",
    "print(x)\n",
    "print(len(x))\n",
    "print(type(x))"
   ]
  },
  {
   "cell_type": "code",
   "execution_count": 3,
   "id": "893fbb7b",
   "metadata": {},
   "outputs": [
    {
     "name": "stdout",
     "output_type": "stream",
     "text": [
      "[35, 53, 675, 'Vasu', 'rachna']\n",
      "<class 'list'>\n"
     ]
    }
   ],
   "source": [
    "y = list((35,53,675,\"Vasu\",\"rachna\"))\n",
    "print(y)\n",
    "print(type(y))"
   ]
  },
  {
   "cell_type": "code",
   "execution_count": 5,
   "id": "e5325063",
   "metadata": {},
   "outputs": [
    {
     "name": "stdout",
     "output_type": "stream",
     "text": [
      "(35, 53, 675, 'Vasu', 'rachna')\n",
      "<class 'tuple'>\n"
     ]
    }
   ],
   "source": [
    "tup = (35,53,675,\"Vasu\",\"rachna\")\n",
    "print(tup)\n",
    "print(type(tup))"
   ]
  },
  {
   "cell_type": "code",
   "execution_count": 6,
   "id": "bb7e8ed7",
   "metadata": {},
   "outputs": [
    {
     "name": "stdout",
     "output_type": "stream",
     "text": [
      "{675, 35, 53, 'Vasu', 'rachna'}\n",
      "<class 'set'>\n"
     ]
    }
   ],
   "source": [
    "tup = set((35,53,675,\"Vasu\",\"rachna\"))\n",
    "print(tup)\n",
    "print(type(tup))"
   ]
  },
  {
   "cell_type": "code",
   "execution_count": 12,
   "id": "fd9203a0",
   "metadata": {},
   "outputs": [
    {
     "name": "stdout",
     "output_type": "stream",
     "text": [
      "Hello\n",
      "True\n",
      "5\n",
      "python\n"
     ]
    }
   ],
   "source": [
    "x = [5,3245,654,345,\"Hello\",False,\"python\",45.23, True, None]\n",
    "print(x[4])\n",
    "print(x[8])\n",
    "print(x[-10])\n",
    "print(x[-4])"
   ]
  },
  {
   "cell_type": "code",
   "execution_count": 13,
   "id": "e8d06e39",
   "metadata": {},
   "outputs": [
    {
     "name": "stdout",
     "output_type": "stream",
     "text": [
      "[654, 345, 'Hello', False]\n"
     ]
    }
   ],
   "source": [
    "print(x[2:6])"
   ]
  },
  {
   "cell_type": "code",
   "execution_count": 14,
   "id": "0cb7cb4f",
   "metadata": {},
   "outputs": [
    {
     "name": "stdout",
     "output_type": "stream",
     "text": [
      "[654, 345, 'Hello', False]\n"
     ]
    }
   ],
   "source": [
    "new_list = x[2:6]\n",
    "print(new_list)"
   ]
  },
  {
   "cell_type": "code",
   "execution_count": 15,
   "id": "af3a8081",
   "metadata": {},
   "outputs": [
    {
     "data": {
      "text/plain": [
       "'Hello'"
      ]
     },
     "execution_count": 15,
     "metadata": {},
     "output_type": "execute_result"
    }
   ],
   "source": [
    "new_list[2]"
   ]
  },
  {
   "cell_type": "code",
   "execution_count": 21,
   "id": "2fa0ea11",
   "metadata": {},
   "outputs": [
    {
     "name": "stdout",
     "output_type": "stream",
     "text": [
      "Hello\n",
      "3245\n",
      "e\n",
      "ello\n"
     ]
    }
   ],
   "source": [
    "print(x[4])\n",
    "print(x[1])\n",
    "# print(x[1][1])\n",
    "print(x[4][1])\n",
    "print(x[4][1:])\n"
   ]
  },
  {
   "cell_type": "code",
   "execution_count": 32,
   "id": "8be5a738",
   "metadata": {},
   "outputs": [
    {
     "name": "stdout",
     "output_type": "stream",
     "text": [
      "[45, 23, 'X', ['atul', 'Sanjay', 34, 563, True], 'y']\n",
      "5\n",
      "['atul', 'Sanjay', 34, 563, True]\n",
      "23\n",
      "Sanjay\n",
      "563\n",
      "['Sanjay', 34, 563, True]\n",
      "Sanjay\n",
      "jay\n"
     ]
    }
   ],
   "source": [
    "# Nested List\n",
    "\n",
    "v1 = [45,23,\"X\",['atul',\"Sanjay\",34,563,True],'y',]\n",
    "print(v1)\n",
    "print(len(v1))\n",
    "print(v1[3])\n",
    "print(v1[1])\n",
    "print(v1[3][1])\n",
    "print(v1[3][3])\n",
    "print(v1[3][1:])\n",
    "print(v1[3][1])\n",
    "print(v1[3][1][3:])"
   ]
  },
  {
   "cell_type": "code",
   "execution_count": 33,
   "id": "da254a7a",
   "metadata": {},
   "outputs": [
    {
     "name": "stdout",
     "output_type": "stream",
     "text": [
      "[45, 23, 'X', ['atul', 'Sanjay', 34, ['python', 'ruby', 'r'], 563, True], 'y']\n",
      "5\n",
      "['atul', 'Sanjay', 34, ['python', 'ruby', 'r'], 563, True]\n",
      "23\n",
      "Sanjay\n",
      "['python', 'ruby', 'r']\n",
      "['Sanjay', 34, ['python', 'ruby', 'r'], 563, True]\n",
      "Sanjay\n",
      "jay\n"
     ]
    }
   ],
   "source": [
    "# Nested List\n",
    "\n",
    "v1 = [45,23,\"X\",['atul',\"Sanjay\",34,[\"python\",'ruby','r'],563,True],'y',]\n",
    "print(v1)\n",
    "print(len(v1))\n",
    "print(v1[3])\n",
    "print(v1[1])\n",
    "print(v1[3][1])\n",
    "print(v1[3][3])\n",
    "print(v1[3][1:])\n",
    "print(v1[3][1])\n",
    "print(v1[3][1][3:])"
   ]
  },
  {
   "cell_type": "code",
   "execution_count": 34,
   "id": "3c04aff9",
   "metadata": {},
   "outputs": [
    {
     "name": "stdout",
     "output_type": "stream",
     "text": [
      "['atul', 'Sanjay', 34, ['python', 'ruby', 'r'], 563, True]\n"
     ]
    }
   ],
   "source": [
    "v3 = ['atul', 'Sanjay', 34, ['python', 'ruby', 'r'], 563, True]\n",
    "\n",
    "print(v3)"
   ]
  },
  {
   "cell_type": "code",
   "execution_count": 35,
   "id": "6f927700",
   "metadata": {},
   "outputs": [
    {
     "name": "stdout",
     "output_type": "stream",
     "text": [
      "['atul', 'Chetan', 34, ['python', 'ruby', 'r'], 563, True]\n"
     ]
    }
   ],
   "source": [
    "v3[1] = \"Chetan\"\n",
    "print(v3)"
   ]
  },
  {
   "cell_type": "code",
   "execution_count": 36,
   "id": "2d2d8119",
   "metadata": {},
   "outputs": [
    {
     "name": "stdout",
     "output_type": "stream",
     "text": [
      "['atul', 'Chetan', 34, ['Airflow', 'ruby', 'r'], 563, True]\n"
     ]
    }
   ],
   "source": [
    "v3[3][0] = \"Airflow\"\n",
    "print(v3)"
   ]
  },
  {
   "cell_type": "code",
   "execution_count": 37,
   "id": "7d49a8b0",
   "metadata": {},
   "outputs": [
    {
     "name": "stdout",
     "output_type": "stream",
     "text": [
      "['atul', 'Chetan', 34, ['flowcv', 'Hadoop', 'Pyspark'], 563, True]\n"
     ]
    }
   ],
   "source": [
    "v3[3][0:3] = [\"flowcv\",\"Hadoop\",\"Pyspark\"]\n",
    "print(v3)"
   ]
  },
  {
   "cell_type": "code",
   "execution_count": 39,
   "id": "a5e52559",
   "metadata": {},
   "outputs": [
    {
     "name": "stdout",
     "output_type": "stream",
     "text": [
      "['atul', 'Chetan', 34, ['flowcv', 'Hadoop', 'Pyspark'], 563, True, 'Desktop']\n"
     ]
    }
   ],
   "source": [
    "# append\n",
    "\n",
    "v3.append(\"Desktop\")\n",
    "print(v3)"
   ]
  },
  {
   "cell_type": "code",
   "execution_count": 40,
   "id": "c58fb2b9",
   "metadata": {},
   "outputs": [
    {
     "name": "stdout",
     "output_type": "stream",
     "text": [
      "['atul', 'Chetan', 34, ['flowcv', 'Hadoop', 'Pyspark'], 563, True, 'Desktop', ['topTech', 'Mobile', 35, 2456]]\n"
     ]
    }
   ],
   "source": [
    "v3.append([\"topTech\",\"Mobile\",35,2456])\n",
    "print(v3)"
   ]
  },
  {
   "cell_type": "code",
   "execution_count": 41,
   "id": "04a6791d",
   "metadata": {},
   "outputs": [
    {
     "name": "stdout",
     "output_type": "stream",
     "text": [
      "['Python', 'ruby', 'j', 'a', 'v', 'a']\n"
     ]
    }
   ],
   "source": [
    "# extend\n",
    "\n",
    "v6 = ['Python','ruby']\n",
    "v6.extend('java')\n",
    "print(v6)"
   ]
  },
  {
   "cell_type": "code",
   "execution_count": 42,
   "id": "03c247e7",
   "metadata": {},
   "outputs": [
    {
     "name": "stdout",
     "output_type": "stream",
     "text": [
      "['Python', 'ruby', 'java', 'C', 'Go']\n"
     ]
    }
   ],
   "source": [
    "v6 = ['Python','ruby']\n",
    "v6.extend(['java',\"C\",\"Go\"])\n",
    "print(v6)"
   ]
  },
  {
   "cell_type": "code",
   "execution_count": 44,
   "id": "2fcd83eb",
   "metadata": {},
   "outputs": [
    {
     "name": "stdout",
     "output_type": "stream",
     "text": [
      "['Python', 'ruby', 'java', 'C', 'Go', 'Vivo', 'Oppo', 'Sony']\n"
     ]
    }
   ],
   "source": [
    "v7 = [\"Vivo\",\"Oppo\",\"Sony\"]\n",
    "v6.extend(v7)\n",
    "print(v6)"
   ]
  },
  {
   "cell_type": "code",
   "execution_count": 47,
   "id": "8dee1793",
   "metadata": {},
   "outputs": [
    {
     "name": "stdout",
     "output_type": "stream",
     "text": [
      "['Python', 'ruby', 'java', 'R', 'C', 'Go', 'Vivo', 'Oppo', 'Sony']\n"
     ]
    }
   ],
   "source": [
    "v6.insert(3,\"R\")\n",
    "print(v6)"
   ]
  },
  {
   "cell_type": "code",
   "execution_count": 48,
   "id": "94c5518c",
   "metadata": {},
   "outputs": [
    {
     "name": "stdout",
     "output_type": "stream",
     "text": [
      "['Python', 'ruby', 'java', ['R', '.net', 'PHP', 'Laravel'], 'R', 'C', 'Go', 'Vivo', 'Oppo', 'Sony']\n"
     ]
    }
   ],
   "source": [
    "v6.insert(3,[\"R\",\".net\",\"PHP\",\"Laravel\"])\n",
    "print(v6)"
   ]
  },
  {
   "cell_type": "code",
   "execution_count": 49,
   "id": "80263a18",
   "metadata": {},
   "outputs": [
    {
     "name": "stdout",
     "output_type": "stream",
     "text": [
      "['Python', 'ruby', 'java', ['R', '.net', 'PHP', 'Laravel'], 'R', 'C', 'Go', 'Vivo', 'Oppo']\n"
     ]
    }
   ],
   "source": [
    "# pop \n",
    "\n",
    "v6.pop()\n",
    "print(v6)"
   ]
  },
  {
   "cell_type": "code",
   "execution_count": 50,
   "id": "18b90d4c",
   "metadata": {},
   "outputs": [
    {
     "name": "stdout",
     "output_type": "stream",
     "text": [
      "['Python', 'java', ['R', '.net', 'PHP', 'Laravel'], 'R', 'C', 'Go', 'Vivo', 'Oppo']\n"
     ]
    }
   ],
   "source": [
    "v6.pop(1)\n",
    "print(v6)"
   ]
  },
  {
   "cell_type": "code",
   "execution_count": 51,
   "id": "6b40616f",
   "metadata": {},
   "outputs": [
    {
     "name": "stdout",
     "output_type": "stream",
     "text": [
      "['Python', 'java', 'R', 'C', 'Go', 'Vivo', 'Oppo']\n"
     ]
    }
   ],
   "source": [
    "v6.pop(2)\n",
    "print(v6)"
   ]
  },
  {
   "cell_type": "code",
   "execution_count": 52,
   "id": "8fbb7eec",
   "metadata": {},
   "outputs": [],
   "source": [
    "v7 = ['Python', 'java', ['R', '.net', 'PHP', 'Laravel'], 'R', 'C', 'Go', 'Vivo', 'Oppo']"
   ]
  },
  {
   "cell_type": "code",
   "execution_count": 56,
   "id": "8318bb0c",
   "metadata": {},
   "outputs": [
    {
     "name": "stdout",
     "output_type": "stream",
     "text": [
      "['c', 'y', 'a', 'a', 'b', 'd']\n"
     ]
    }
   ],
   "source": [
    "# Remove \n",
    "v8 = ['a','c','y','a','a','b','d']\n",
    "v8.remove('a')\n",
    "print(v8)"
   ]
  },
  {
   "cell_type": "code",
   "execution_count": 57,
   "id": "0c0f00ce",
   "metadata": {},
   "outputs": [
    {
     "name": "stdout",
     "output_type": "stream",
     "text": [
      "['c', 'a', 'a', 'b', 'd']\n"
     ]
    }
   ],
   "source": [
    "v8.remove('y')\n",
    "print(v8)"
   ]
  },
  {
   "cell_type": "code",
   "execution_count": 60,
   "id": "0bebc57e",
   "metadata": {},
   "outputs": [
    {
     "name": "stdout",
     "output_type": "stream",
     "text": [
      "['c', 'a', 'b', 'd']\n"
     ]
    }
   ],
   "source": [
    "v8.remove('a')\n",
    "print(v8)"
   ]
  },
  {
   "cell_type": "code",
   "execution_count": 61,
   "id": "46ba50cf",
   "metadata": {},
   "outputs": [
    {
     "name": "stdout",
     "output_type": "stream",
     "text": [
      "[]\n"
     ]
    }
   ],
   "source": [
    "# clear\n",
    "v8.clear()\n",
    "print(v8)"
   ]
  },
  {
   "cell_type": "code",
   "execution_count": 62,
   "id": "26aba83f",
   "metadata": {},
   "outputs": [],
   "source": [
    "del v8"
   ]
  },
  {
   "cell_type": "code",
   "execution_count": 63,
   "id": "24e04380",
   "metadata": {},
   "outputs": [
    {
     "ename": "NameError",
     "evalue": "name 'v8' is not defined",
     "output_type": "error",
     "traceback": [
      "\u001b[31m---------------------------------------------------------------------------\u001b[39m",
      "\u001b[31mNameError\u001b[39m                                 Traceback (most recent call last)",
      "\u001b[36mCell\u001b[39m\u001b[36m \u001b[39m\u001b[32mIn[63]\u001b[39m\u001b[32m, line 1\u001b[39m\n\u001b[32m----> \u001b[39m\u001b[32m1\u001b[39m \u001b[43mv8\u001b[49m\n",
      "\u001b[31mNameError\u001b[39m: name 'v8' is not defined"
     ]
    }
   ],
   "source": [
    "v8"
   ]
  },
  {
   "cell_type": "code",
   "execution_count": 53,
   "id": "df1b222e",
   "metadata": {},
   "outputs": [],
   "source": [
    "del v7[2][1]"
   ]
  },
  {
   "cell_type": "code",
   "execution_count": 54,
   "id": "0de33025",
   "metadata": {},
   "outputs": [
    {
     "data": {
      "text/plain": [
       "['Python', 'java', ['R', 'PHP', 'Laravel'], 'R', 'C', 'Go', 'Vivo', 'Oppo']"
      ]
     },
     "execution_count": 54,
     "metadata": {},
     "output_type": "execute_result"
    }
   ],
   "source": [
    "v7"
   ]
  },
  {
   "cell_type": "code",
   "execution_count": 64,
   "id": "2b75b84b",
   "metadata": {},
   "outputs": [
    {
     "name": "stdout",
     "output_type": "stream",
     "text": [
      "Help on method_descriptor:\n",
      "\n",
      "copy(self, /) unbound builtins.list method\n",
      "    Return a shallow copy of the list.\n",
      "\n"
     ]
    }
   ],
   "source": [
    "# copy\n",
    "\n",
    "help(list.copy)"
   ]
  },
  {
   "cell_type": "code",
   "execution_count": 65,
   "id": "da307cfb",
   "metadata": {},
   "outputs": [
    {
     "name": "stdout",
     "output_type": "stream",
     "text": [
      "['Manas', 'Jasmit', 'Sonali']\n"
     ]
    }
   ],
   "source": [
    "list1 = [\"Manas\",\"Jasmit\",\"Sonali\"]\n",
    "print(list1)"
   ]
  },
  {
   "cell_type": "code",
   "execution_count": 66,
   "id": "71cd7c38",
   "metadata": {},
   "outputs": [],
   "source": [
    "copied_list = list1.copy()"
   ]
  },
  {
   "cell_type": "code",
   "execution_count": 67,
   "id": "eaf7cf5e",
   "metadata": {},
   "outputs": [
    {
     "name": "stdout",
     "output_type": "stream",
     "text": [
      "['Manas', 'Jasmit', 'Sonali']\n"
     ]
    }
   ],
   "source": [
    "print(copied_list)"
   ]
  },
  {
   "cell_type": "code",
   "execution_count": 74,
   "id": "9f0cf567",
   "metadata": {},
   "outputs": [
    {
     "data": {
      "text/plain": [
       "['Manas', 'Jasmit', 'Mohit']"
      ]
     },
     "execution_count": 74,
     "metadata": {},
     "output_type": "execute_result"
    }
   ],
   "source": [
    "list1"
   ]
  },
  {
   "cell_type": "code",
   "execution_count": 73,
   "id": "81cbfd89",
   "metadata": {},
   "outputs": [
    {
     "name": "stdout",
     "output_type": "stream",
     "text": [
      "['Anshul', 'Jasmit', 'Sonali']\n"
     ]
    }
   ],
   "source": [
    "copied_list[0] = \"Anshul\"\n",
    "print(copied_list)"
   ]
  },
  {
   "cell_type": "code",
   "execution_count": 68,
   "id": "60895708",
   "metadata": {},
   "outputs": [
    {
     "name": "stdout",
     "output_type": "stream",
     "text": [
      "['Manas', 'Jasmit', 'Mohit']\n"
     ]
    }
   ],
   "source": [
    "list1[2] = \"Mohit\"\n",
    "print(list1)"
   ]
  },
  {
   "cell_type": "code",
   "execution_count": 69,
   "id": "eaf20170",
   "metadata": {},
   "outputs": [
    {
     "name": "stdout",
     "output_type": "stream",
     "text": [
      "['Manas', 'Jasmit', 'Sonali']\n"
     ]
    }
   ],
   "source": [
    "print(copied_list)"
   ]
  },
  {
   "cell_type": "code",
   "execution_count": 72,
   "id": "52fa737f",
   "metadata": {},
   "outputs": [
    {
     "name": "stdout",
     "output_type": "stream",
     "text": [
      "['Manas', 'Jasmit', 'Mohit']\n"
     ]
    }
   ],
   "source": [
    "import copy\n",
    "\n",
    "x = ['Manas', 'Jasmit', 'Mohit']\n",
    "shallow_x =  copy.copy(x)\n",
    "print(shallow_x)"
   ]
  },
  {
   "cell_type": "code",
   "execution_count": 75,
   "id": "69aba042",
   "metadata": {},
   "outputs": [
    {
     "name": "stdout",
     "output_type": "stream",
     "text": [
      "['Vishal', 'Jasmit', 'Mohit']\n"
     ]
    }
   ],
   "source": [
    "shallow_x[0] = \"Vishal\"\n",
    "print(shallow_x)"
   ]
  },
  {
   "cell_type": "code",
   "execution_count": 76,
   "id": "5eb84ee3",
   "metadata": {},
   "outputs": [
    {
     "data": {
      "text/plain": [
       "['Manas', 'Jasmit', 'Mohit']"
      ]
     },
     "execution_count": 76,
     "metadata": {},
     "output_type": "execute_result"
    }
   ],
   "source": [
    "x"
   ]
  },
  {
   "cell_type": "code",
   "execution_count": 71,
   "id": "8d679eff",
   "metadata": {},
   "outputs": [
    {
     "name": "stdout",
     "output_type": "stream",
     "text": [
      "['Manas', 'Jasmit', 'Mohit']\n"
     ]
    }
   ],
   "source": [
    "deepcopy_x = copy.deepcopy(x)\n",
    "print(deepcopy_x)"
   ]
  },
  {
   "cell_type": "code",
   "execution_count": 77,
   "id": "ff430d40",
   "metadata": {},
   "outputs": [
    {
     "name": "stdout",
     "output_type": "stream",
     "text": [
      "['Manas', 'Rishikesh', 'Mohit']\n"
     ]
    }
   ],
   "source": [
    "deepcopy_x[1] = \"Rishikesh\"\n",
    "print(deepcopy_x)"
   ]
  },
  {
   "cell_type": "code",
   "execution_count": 78,
   "id": "848db26b",
   "metadata": {},
   "outputs": [
    {
     "data": {
      "text/plain": [
       "['Manas', 'Jasmit', 'Mohit']"
      ]
     },
     "execution_count": 78,
     "metadata": {},
     "output_type": "execute_result"
    }
   ],
   "source": [
    "x"
   ]
  },
  {
   "cell_type": "code",
   "execution_count": 79,
   "id": "06c5aa82",
   "metadata": {},
   "outputs": [],
   "source": [
    "nestlist = [2,['Atul'],4,5]\n",
    "shal_copy = nestlist.copy()"
   ]
  },
  {
   "cell_type": "code",
   "execution_count": 80,
   "id": "74af304d",
   "metadata": {},
   "outputs": [
    {
     "name": "stdout",
     "output_type": "stream",
     "text": [
      "[2, ['Atul'], 4, 5]\n"
     ]
    }
   ],
   "source": [
    "print(nestlist)"
   ]
  },
  {
   "cell_type": "code",
   "execution_count": 81,
   "id": "45a5c04e",
   "metadata": {},
   "outputs": [
    {
     "name": "stdout",
     "output_type": "stream",
     "text": [
      "[2, ['Atul'], 4, 5]\n"
     ]
    }
   ],
   "source": [
    "print(shal_copy)"
   ]
  },
  {
   "cell_type": "code",
   "execution_count": 87,
   "id": "df3e5cf5",
   "metadata": {},
   "outputs": [
    {
     "name": "stdout",
     "output_type": "stream",
     "text": [
      "['Anuj', ['Atul'], 4, 5]\n"
     ]
    }
   ],
   "source": [
    "nestlist[0] = \"Anuj\"\n",
    "print(nestlist)"
   ]
  },
  {
   "cell_type": "code",
   "execution_count": 83,
   "id": "85a996ed",
   "metadata": {},
   "outputs": [
    {
     "name": "stdout",
     "output_type": "stream",
     "text": [
      "[2, ['Atul'], 4, 5]\n"
     ]
    }
   ],
   "source": [
    "print(shal_copy)"
   ]
  },
  {
   "cell_type": "code",
   "execution_count": 88,
   "id": "335df287",
   "metadata": {},
   "outputs": [
    {
     "name": "stdout",
     "output_type": "stream",
     "text": [
      "[2, ['Atul'], 'Vinay', 5]\n"
     ]
    }
   ],
   "source": [
    "shal_copy[2] = \"Vinay\"\n",
    "print(shal_copy)"
   ]
  },
  {
   "cell_type": "code",
   "execution_count": 89,
   "id": "73e93b8e",
   "metadata": {},
   "outputs": [],
   "source": [
    "nestlist = [2,['Atul',\"Vinay\"],4,5]\n",
    "shal_copy = nestlist.copy()"
   ]
  },
  {
   "cell_type": "code",
   "execution_count": 94,
   "id": "6ab60944",
   "metadata": {},
   "outputs": [
    {
     "name": "stdout",
     "output_type": "stream",
     "text": [
      "[2, ['Anju', 'Radha'], 4, 5]\n"
     ]
    }
   ],
   "source": [
    "print(nestlist)"
   ]
  },
  {
   "cell_type": "code",
   "execution_count": 91,
   "id": "03da9833",
   "metadata": {},
   "outputs": [
    {
     "name": "stdout",
     "output_type": "stream",
     "text": [
      "[2, ['Atul', 'Radha'], 4, 5]\n"
     ]
    }
   ],
   "source": [
    "nestlist[1][1] = \"Radha\"\n",
    "print(nestlist)"
   ]
  },
  {
   "cell_type": "code",
   "execution_count": 92,
   "id": "697ab9eb",
   "metadata": {},
   "outputs": [
    {
     "data": {
      "text/plain": [
       "[2, ['Atul', 'Radha'], 4, 5]"
      ]
     },
     "execution_count": 92,
     "metadata": {},
     "output_type": "execute_result"
    }
   ],
   "source": [
    "shal_copy"
   ]
  },
  {
   "cell_type": "code",
   "execution_count": 93,
   "id": "8697b3cb",
   "metadata": {},
   "outputs": [
    {
     "name": "stdout",
     "output_type": "stream",
     "text": [
      "[2, ['Anju', 'Radha'], 4, 5]\n"
     ]
    }
   ],
   "source": [
    "shal_copy[1][0] = \"Anju\"\n",
    "print(shal_copy)"
   ]
  },
  {
   "cell_type": "markdown",
   "id": "cd93096f",
   "metadata": {},
   "source": [
    "# List Comprehension"
   ]
  },
  {
   "cell_type": "code",
   "execution_count": 6,
   "id": "fd7a682f",
   "metadata": {},
   "outputs": [
    {
     "name": "stdout",
     "output_type": "stream",
     "text": [
      "[1, 2, 3, 4, 5, 6, 7, 8, 9, 10, 11, 12, 13, 14, 15, 16, 17, 18, 19, 20]\n",
      "[2, 4, 6, 8, 10, 12, 14, 16, 18, 20]\n",
      "[1, 3, 5, 7, 9, 11, 13, 15, 17, 19]\n"
     ]
    }
   ],
   "source": [
    "x = list(range(1,21))\n",
    "even_list = []\n",
    "odd_list = []\n",
    "print(x)\n",
    "for i in x:\n",
    "    if i % 2  == 0:\n",
    "        even_list.append(i)\n",
    "    else:\n",
    "        odd_list.append(i)\n",
    "print(even_list)\n",
    "print(odd_list)\n"
   ]
  },
  {
   "cell_type": "code",
   "execution_count": 12,
   "id": "751c5a58",
   "metadata": {},
   "outputs": [
    {
     "name": "stdout",
     "output_type": "stream",
     "text": [
      "2 4 6 8 10 12 14 16 18 20 22 24 26 28 30 32 34 36 38 40 42 44 46 48 "
     ]
    }
   ],
   "source": [
    "for i in range(1,50):\n",
    "    if i % 2 == 0:\n",
    "        print(i, end = \" \" )"
   ]
  },
  {
   "cell_type": "code",
   "execution_count": 10,
   "id": "600fd942",
   "metadata": {},
   "outputs": [
    {
     "name": "stdout",
     "output_type": "stream",
     "text": [
      "[2, 4, 6, 8, 10, 12, 14, 16, 18, 20, 22, 24, 26, 28, 30, 32, 34, 36, 38, 40, 42, 44, 46, 48]\n"
     ]
    }
   ],
   "source": [
    "res = [num for num in range(1,50) if num%2 == 0]\n",
    "print(res)"
   ]
  },
  {
   "cell_type": "code",
   "execution_count": 7,
   "id": "605aec14",
   "metadata": {},
   "outputs": [
    {
     "name": "stdout",
     "output_type": "stream",
     "text": [
      "[2, 4, 6, 8, 10, 12, 14, 16, 18, 20]\n"
     ]
    }
   ],
   "source": [
    "result = [num for num in x if num%2 == 0]\n",
    "print(result)"
   ]
  },
  {
   "cell_type": "code",
   "execution_count": 8,
   "id": "b7d436bd",
   "metadata": {},
   "outputs": [
    {
     "name": "stdout",
     "output_type": "stream",
     "text": [
      "[4, 16, 36, 64, 100, 144, 196, 256, 324, 400]\n"
     ]
    }
   ],
   "source": [
    "result = [num**2 for num in x if num%2 == 0]\n",
    "print(result)"
   ]
  },
  {
   "cell_type": "code",
   "execution_count": 9,
   "id": "bcb5e1e6",
   "metadata": {},
   "outputs": [
    {
     "name": "stdout",
     "output_type": "stream",
     "text": [
      "[3, 6, 9, 12, 15, 18]\n"
     ]
    }
   ],
   "source": [
    "result = [num for num in x if num%3 == 0]\n",
    "print(result)"
   ]
  },
  {
   "cell_type": "code",
   "execution_count": 13,
   "id": "cbccc642",
   "metadata": {},
   "outputs": [
    {
     "name": "stdout",
     "output_type": "stream",
     "text": [
      "['atul', 'vinay', 'sahaj']\n"
     ]
    }
   ],
   "source": [
    "u = [\"Atul\", \"VInay\", \"Sahaj\"]\n",
    "res_u = [j.lower() for j in u]\n",
    "print(res_u)"
   ]
  },
  {
   "cell_type": "code",
   "execution_count": 14,
   "id": "33e6b0cc",
   "metadata": {},
   "outputs": [
    {
     "name": "stdout",
     "output_type": "stream",
     "text": [
      "[1, 2, 3]\n",
      "[63, 25, 54]\n",
      "['Hello', 'Vinay', 'Raj']\n"
     ]
    }
   ],
   "source": [
    "nest_list = [[1,2,3],[63,25,54],[\"Hello\",\"Vinay\",\"Raj\"]]\n",
    "for i in nest_list:\n",
    "    print(i)"
   ]
  },
  {
   "cell_type": "code",
   "execution_count": 16,
   "id": "b2d89924",
   "metadata": {},
   "outputs": [
    {
     "name": "stdout",
     "output_type": "stream",
     "text": [
      "[1, 2, 3, 63, 25, 54, 'Hello', 'Vinay', 'Raj']\n"
     ]
    }
   ],
   "source": [
    "nest_list = [[1,2,3],[63,25,54],[\"Hello\",\"Vinay\",\"Raj\"]]\n",
    "flat_list = []\n",
    "for i in nest_list:\n",
    "    for j in i:\n",
    "        flat_list.append(j)\n",
    "print(flat_list)"
   ]
  },
  {
   "cell_type": "code",
   "execution_count": 34,
   "id": "f6a89c07",
   "metadata": {},
   "outputs": [
    {
     "data": {
      "text/plain": [
       "[76, 56, 6, 6, 3, 2]"
      ]
     },
     "execution_count": 34,
     "metadata": {},
     "output_type": "execute_result"
    }
   ],
   "source": [
    "x = [6,3,56,76,6,2]\n",
    "x.sort(reverse=True)\n",
    "\n",
    "x\n",
    "\n"
   ]
  },
  {
   "cell_type": "code",
   "execution_count": null,
   "id": "6067eea9",
   "metadata": {},
   "outputs": [
    {
     "name": "stdout",
     "output_type": "stream",
     "text": [
      "['lajus', 'yaj']\n"
     ]
    }
   ],
   "source": [
    "l3 = [\"sujal\",\"jay\"]\n",
    "rev = []\n",
    "for i in l3:\n",
    "    rev.append(i[::-1])\n",
    "print(rev) "
   ]
  },
  {
   "cell_type": "code",
   "execution_count": null,
   "id": "59118f80",
   "metadata": {},
   "outputs": [],
   "source": []
  }
 ],
 "metadata": {
  "kernelspec": {
   "display_name": "Python 3",
   "language": "python",
   "name": "python3"
  },
  "language_info": {
   "codemirror_mode": {
    "name": "ipython",
    "version": 3
   },
   "file_extension": ".py",
   "mimetype": "text/x-python",
   "name": "python",
   "nbconvert_exporter": "python",
   "pygments_lexer": "ipython3",
   "version": "3.11.9"
  }
 },
 "nbformat": 4,
 "nbformat_minor": 5
}
