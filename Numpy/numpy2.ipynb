{
 "cells": [
  {
   "cell_type": "code",
   "execution_count": 13,
   "id": "9265adfe",
   "metadata": {},
   "outputs": [
    {
     "name": "stdout",
     "output_type": "stream",
     "text": [
      "Numpy Second Day\n"
     ]
    }
   ],
   "source": [
    "print(\"Numpy Second Day\")"
   ]
  },
  {
   "cell_type": "code",
   "execution_count": 14,
   "id": "ab9e7d79",
   "metadata": {},
   "outputs": [],
   "source": [
    "import numpy as np"
   ]
  },
  {
   "cell_type": "code",
   "execution_count": 15,
   "id": "f139de6b",
   "metadata": {},
   "outputs": [
    {
     "data": {
      "text/plain": [
       "array([46, 63, 23])"
      ]
     },
     "execution_count": 15,
     "metadata": {},
     "output_type": "execute_result"
    }
   ],
   "source": [
    "One_dim = np.array([46,63,23])\n",
    "One_dim "
   ]
  },
  {
   "cell_type": "code",
   "execution_count": 16,
   "id": "d1b9b135",
   "metadata": {},
   "outputs": [
    {
     "name": "stdout",
     "output_type": "stream",
     "text": [
      "46\n",
      "63\n",
      "23\n",
      "[46 63]\n"
     ]
    }
   ],
   "source": [
    "print(One_dim[0])\n",
    "print(One_dim[1])\n",
    "print(One_dim[2])\n",
    "print(One_dim[0:2])\n"
   ]
  },
  {
   "cell_type": "code",
   "execution_count": 17,
   "id": "64ecdab7",
   "metadata": {},
   "outputs": [
    {
     "name": "stdout",
     "output_type": "stream",
     "text": [
      "[[46 63 23]\n",
      " [ 4  5  6]\n",
      " [ 7  8  9]]\n",
      "[46 63 23]\n",
      "63\n",
      "[4 5 6]\n",
      "6\n",
      "[4 5]\n",
      "[8 9]\n",
      "--------------------------------------------------\n",
      "[[46 63 23]\n",
      " [ 4  5  6]]\n",
      "[[4 5 6]]\n"
     ]
    }
   ],
   "source": [
    "two_dim = np.array([[46,63,23],[4,5,6],[7,8,9]])\n",
    "print(two_dim)\n",
    "print(two_dim[0])\n",
    "print(two_dim[0][1])\n",
    "print(two_dim[1])\n",
    "print(two_dim[1,2])\n",
    "print(two_dim[1,:2])\n",
    "print(two_dim[2,1:])\n",
    "print(\"-\"*50)\n",
    "print(two_dim[0:2]) # 0,1,\n",
    "print(two_dim[0:2][1:])"
   ]
  },
  {
   "cell_type": "code",
   "execution_count": 18,
   "id": "b5976c67",
   "metadata": {},
   "outputs": [
    {
     "name": "stdout",
     "output_type": "stream",
     "text": [
      "[[[ 3  4  5]\n",
      "  [ 6  7  8]]\n",
      "\n",
      " [[11 22 33]\n",
      "  [55 66 77]]\n",
      "\n",
      " [[16 85 34]\n",
      "  [ 5  6 77]]]\n",
      "(3, 2, 3)\n"
     ]
    }
   ],
   "source": [
    "three_array = np.array([[[3,4,5],[6,7,8]],\n",
    "                        [[11,22,33],[55,66,77]],\n",
    "                        [[16,85,34],[5,6,77]]])\n",
    "print(three_array)\n",
    "print(three_array.shape)"
   ]
  },
  {
   "cell_type": "code",
   "execution_count": 19,
   "id": "2d245620",
   "metadata": {},
   "outputs": [
    {
     "name": "stdout",
     "output_type": "stream",
     "text": [
      "[[3 4 5]\n",
      " [6 7 8]]\n",
      "[6 7 8]\n",
      "7\n",
      "[[16 85 34]\n",
      " [ 5  6 77]]\n",
      "[ 5  6 77]\n",
      "6\n",
      "[[[11 22 33]\n",
      "  [55 66 77]]\n",
      "\n",
      " [[16 85 34]\n",
      "  [ 5  6 77]]]\n",
      "[[[16 85 34]\n",
      "  [ 5  6 77]]]\n",
      "----------------------------------------------------------------------------------------------------\n",
      "[[16 85 34]\n",
      " [ 5  6 77]]\n",
      "[16 85 34]\n",
      "[85 34]\n"
     ]
    }
   ],
   "source": [
    "print(three_array[0])\n",
    "print(three_array[0,1])\n",
    "print(three_array[0,1,1])\n",
    "print(three_array[2])\n",
    "print(three_array[2,1])\n",
    "print(three_array[2,1,-2])\n",
    "print(three_array[1:])\n",
    "print(three_array[1:][1:])\n",
    "print(\"--\"*50)\n",
    "print(three_array[1:][1:][0])\n",
    "print(three_array[1:][1:][0][0])\n",
    "print(three_array[1:][1:][0][0][1:])"
   ]
  },
  {
   "cell_type": "code",
   "execution_count": 20,
   "id": "f6f7515d",
   "metadata": {},
   "outputs": [
    {
     "data": {
      "text/plain": [
       "array([46, 63, 23])"
      ]
     },
     "execution_count": 20,
     "metadata": {},
     "output_type": "execute_result"
    }
   ],
   "source": [
    "One_dim = np.array([46,63,23])\n",
    "One_dim "
   ]
  },
  {
   "cell_type": "code",
   "execution_count": 21,
   "id": "4938ca8a",
   "metadata": {},
   "outputs": [],
   "source": [
    "\n",
    "One_dim[1] = 55"
   ]
  },
  {
   "cell_type": "code",
   "execution_count": 22,
   "id": "7ab85a80",
   "metadata": {},
   "outputs": [
    {
     "name": "stdout",
     "output_type": "stream",
     "text": [
      "[46 55 23]\n"
     ]
    }
   ],
   "source": [
    "print(One_dim)"
   ]
  },
  {
   "cell_type": "code",
   "execution_count": 23,
   "id": "0829b923",
   "metadata": {},
   "outputs": [
    {
     "name": "stdout",
     "output_type": "stream",
     "text": [
      "[46 63 23]\n"
     ]
    }
   ],
   "source": [
    "One_dim = np.array([46,63,23])\n",
    "print(One_dim) \n",
    "del One_dim"
   ]
  },
  {
   "cell_type": "code",
   "execution_count": 24,
   "id": "84fb002f",
   "metadata": {},
   "outputs": [
    {
     "ename": "NameError",
     "evalue": "name 'One_dim' is not defined",
     "output_type": "error",
     "traceback": [
      "\u001b[31m---------------------------------------------------------------------------\u001b[39m",
      "\u001b[31mNameError\u001b[39m                                 Traceback (most recent call last)",
      "\u001b[36mCell\u001b[39m\u001b[36m \u001b[39m\u001b[32mIn[24]\u001b[39m\u001b[32m, line 1\u001b[39m\n\u001b[32m----> \u001b[39m\u001b[32m1\u001b[39m \u001b[43mOne_dim\u001b[49m\n",
      "\u001b[31mNameError\u001b[39m: name 'One_dim' is not defined"
     ]
    }
   ],
   "source": [
    "One_dim"
   ]
  },
  {
   "cell_type": "code",
   "execution_count": null,
   "id": "059ae6ff",
   "metadata": {},
   "outputs": [
    {
     "data": {
      "text/plain": [
       "array([100,  55,  23])"
      ]
     },
     "execution_count": 51,
     "metadata": {},
     "output_type": "execute_result"
    }
   ],
   "source": [
    "One_dim[0] = 100\n",
    "One_dim"
   ]
  },
  {
   "cell_type": "code",
   "execution_count": null,
   "id": "20262fce",
   "metadata": {},
   "outputs": [
    {
     "data": {
      "text/plain": [
       "array([90, 80, 70])"
      ]
     },
     "execution_count": 52,
     "metadata": {},
     "output_type": "execute_result"
    }
   ],
   "source": [
    "One_dim[0:] = [90,80,70]\n",
    "One_dim"
   ]
  },
  {
   "cell_type": "code",
   "execution_count": null,
   "id": "1b46136a",
   "metadata": {},
   "outputs": [
    {
     "name": "stdout",
     "output_type": "stream",
     "text": [
      "[[46. 63. 23.]\n",
      " [ 4.  5.  6.]\n",
      " [ 7.  8. nan]]\n"
     ]
    }
   ],
   "source": [
    "two_dim = np.array([[46,63,23],[4,5,6],[7,8,np.nan]])\n",
    "print(two_dim)"
   ]
  },
  {
   "cell_type": "code",
   "execution_count": null,
   "id": "c53e1005",
   "metadata": {},
   "outputs": [
    {
     "name": "stdout",
     "output_type": "stream",
     "text": [
      "[[46 63 23]\n",
      " [ 4  5  6]\n",
      " [ 7  8  9]]\n"
     ]
    },
    {
     "data": {
      "text/plain": [
       "array([[46, 78, 23],\n",
       "       [ 4,  5,  6],\n",
       "       [ 7,  8,  9]])"
      ]
     },
     "execution_count": 55,
     "metadata": {},
     "output_type": "execute_result"
    }
   ],
   "source": [
    "two_dim = np.array([[46,63,23],[4,5,6],[7,8,9]])\n",
    "print(two_dim)\n",
    "two_dim[0][1] = 78\n",
    "two_dim"
   ]
  },
  {
   "cell_type": "code",
   "execution_count": null,
   "id": "6c8a3260",
   "metadata": {},
   "outputs": [
    {
     "data": {
      "text/plain": [
       "array([[46, 78, 23],\n",
       "       [ 4,  5,  6],\n",
       "       [ 7,  8, 10]])"
      ]
     },
     "execution_count": 58,
     "metadata": {},
     "output_type": "execute_result"
    }
   ],
   "source": [
    "two_dim[-1][-1] = 10\n",
    "two_dim"
   ]
  },
  {
   "cell_type": "code",
   "execution_count": null,
   "id": "5f79dcaf",
   "metadata": {},
   "outputs": [
    {
     "name": "stdout",
     "output_type": "stream",
     "text": [
      "\n"
     ]
    }
   ],
   "source": [
    "two_dim[-1][1:] = [18,20]\n",
    "(two_dim)\n",
    "print()"
   ]
  },
  {
   "cell_type": "code",
   "execution_count": null,
   "id": "43f3e008",
   "metadata": {},
   "outputs": [
    {
     "name": "stdout",
     "output_type": "stream",
     "text": [
      "[[46 78 23]\n",
      " [ 4  5  6]\n",
      " [ 7 18 20]]\n",
      "[46 78 23 18 20]\n",
      "[4 5 6 7]\n",
      "[46 78  4  6 18 20]\n",
      "[23  5  7]\n"
     ]
    }
   ],
   "source": [
    "print(two_dim)\n",
    "print(two_dim[two_dim>10])\n",
    "print(two_dim[two_dim<10])\n",
    "print(two_dim[two_dim%2==0])\n",
    "print(two_dim[two_dim%2==1])"
   ]
  },
  {
   "cell_type": "code",
   "execution_count": null,
   "id": "69dd93ea",
   "metadata": {},
   "outputs": [
    {
     "name": "stdout",
     "output_type": "stream",
     "text": [
      "345\n",
      "343\n"
     ]
    }
   ],
   "source": [
    "a = 345\n",
    "b = 343\n",
    "\n",
    "print(a)\n",
    "print(b)"
   ]
  },
  {
   "cell_type": "code",
   "execution_count": null,
   "id": "b19a6188",
   "metadata": {},
   "outputs": [
    {
     "name": "stdout",
     "output_type": "stream",
     "text": [
      "[[[ 3  4  5]\n",
      "  [ 6  7  8]]\n",
      "\n",
      " [[11 22 33]\n",
      "  [55 66 77]]\n",
      "\n",
      " [[16 85 34]\n",
      "  [ 5  6 77]]]\n",
      "[[3 4 5]\n",
      " [6 7 8]]\n",
      "[6 7 8]\n",
      "6\n",
      "[[[ 3  4  5]\n",
      "  [60  7  8]]\n",
      "\n",
      " [[11 22 33]\n",
      "  [55 66 77]]\n",
      "\n",
      " [[16 85 34]\n",
      "  [ 5  6 77]]]\n"
     ]
    }
   ],
   "source": [
    "three_array = np.array([[[3,4,5],[6,7,8]],\n",
    "                        [[11,22,33],[55,66,77]],\n",
    "                        [[16,85,34],[5,6,77]]])\n",
    "print(three_array)\n",
    "print(three_array[0])\n",
    "print(three_array[0][1])\n",
    "print(three_array[0][1][0])\n",
    "three_array[0][1][0] = 60\n",
    "print(three_array)"
   ]
  },
  {
   "cell_type": "code",
   "execution_count": null,
   "id": "288f27fa",
   "metadata": {},
   "outputs": [
    {
     "data": {
      "text/plain": [
       "array([[46, 63, 23],\n",
       "       [ 4,  5,  6],\n",
       "       [ 7,  8,  9]])"
      ]
     },
     "execution_count": 88,
     "metadata": {},
     "output_type": "execute_result"
    }
   ],
   "source": [
    "two_dim = np.array([[46,63,23],[4,5,6],[7,8,9]])\n",
    "two_dim"
   ]
  },
  {
   "cell_type": "code",
   "execution_count": null,
   "id": "a90c31c1",
   "metadata": {},
   "outputs": [],
   "source": []
  },
  {
   "cell_type": "code",
   "execution_count": null,
   "id": "ceb67f34",
   "metadata": {},
   "outputs": [
    {
     "name": "stdout",
     "output_type": "stream",
     "text": [
      "4\n"
     ]
    }
   ],
   "source": [
    "print(two_dim.min())"
   ]
  },
  {
   "cell_type": "code",
   "execution_count": null,
   "id": "329b48d1",
   "metadata": {},
   "outputs": [
    {
     "name": "stdout",
     "output_type": "stream",
     "text": [
      "63\n"
     ]
    }
   ],
   "source": [
    "print(two_dim.max())"
   ]
  },
  {
   "cell_type": "code",
   "execution_count": null,
   "id": "5c81ad91",
   "metadata": {},
   "outputs": [
    {
     "name": "stdout",
     "output_type": "stream",
     "text": [
      "19.0\n",
      "19.0\n"
     ]
    }
   ],
   "source": [
    "print(two_dim.mean())\n",
    "print(np.mean(two_dim))"
   ]
  },
  {
   "cell_type": "code",
   "execution_count": null,
   "id": "ba64fef0",
   "metadata": {},
   "outputs": [
    {
     "data": {
      "text/plain": [
       "np.float64(8.0)"
      ]
     },
     "execution_count": 96,
     "metadata": {},
     "output_type": "execute_result"
    }
   ],
   "source": [
    "np.median(two_dim)"
   ]
  },
  {
   "cell_type": "code",
   "execution_count": null,
   "id": "0237e5ba",
   "metadata": {},
   "outputs": [
    {
     "data": {
      "text/plain": [
       "np.float64(20.09975124224178)"
      ]
     },
     "execution_count": 98,
     "metadata": {},
     "output_type": "execute_result"
    }
   ],
   "source": [
    "np.std(two_dim)"
   ]
  },
  {
   "cell_type": "code",
   "execution_count": null,
   "id": "7dfda0f4",
   "metadata": {},
   "outputs": [
    {
     "data": {
      "text/plain": [
       "np.float64(404.0)"
      ]
     },
     "execution_count": 99,
     "metadata": {},
     "output_type": "execute_result"
    }
   ],
   "source": [
    "np.var(two_dim)"
   ]
  },
  {
   "cell_type": "code",
   "execution_count": null,
   "id": "c3f13406",
   "metadata": {},
   "outputs": [
    {
     "name": "stdout",
     "output_type": "stream",
     "text": [
      "3\n",
      "0\n"
     ]
    }
   ],
   "source": [
    "arr = np.array([3,4,5,6,7,8])\n",
    "print(arr.min())\n",
    "print(arr.argmin())"
   ]
  },
  {
   "cell_type": "code",
   "execution_count": null,
   "id": "3e913695",
   "metadata": {},
   "outputs": [
    {
     "name": "stdout",
     "output_type": "stream",
     "text": [
      "1\n",
      "6\n"
     ]
    }
   ],
   "source": [
    "arr = np.array([3,4,5,6,7,8,1])\n",
    "print(arr.min())\n",
    "print(arr.argmin())"
   ]
  },
  {
   "cell_type": "code",
   "execution_count": null,
   "id": "a49e7b8f",
   "metadata": {},
   "outputs": [
    {
     "name": "stdout",
     "output_type": "stream",
     "text": [
      "[[3 4 5 6]\n",
      " [7 8 1 7]]\n",
      "1\n",
      "[0 0 1 0]\n",
      "[0 2]\n"
     ]
    }
   ],
   "source": [
    "arr = np.array([[3,4,5,6],[7,8,1,7]])\n",
    "print(arr)\n",
    "print(arr.min())\n",
    "print(arr.argmin(axis=0)) # column\n",
    "print(arr.argmin(axis=1))"
   ]
  },
  {
   "cell_type": "code",
   "execution_count": 39,
   "id": "10cfabdc",
   "metadata": {},
   "outputs": [
    {
     "name": "stdout",
     "output_type": "stream",
     "text": [
      "[[3 4 5 6]\n",
      " [7 8 1 7]]\n",
      "8\n",
      "5\n",
      "[1 1 0 1]\n",
      "[3 1]\n"
     ]
    }
   ],
   "source": [
    "arr = np.array([[3,4,5,6],[7,8,1,7]])\n",
    "print(arr)\n",
    "print(arr.max())\n",
    "print(np.argmax(arr))\n",
    "print(np.argmax(arr,axis=0)) # row vise\n",
    "print(np.argmax(arr,axis=1)) # column vise"
   ]
  },
  {
   "cell_type": "code",
   "execution_count": 31,
   "id": "bc90b4b1",
   "metadata": {},
   "outputs": [
    {
     "name": "stdout",
     "output_type": "stream",
     "text": [
      "4\n",
      "[[[30  4  5]\n",
      "  [ 6  7  8]]\n",
      "\n",
      " [[11 22 33]\n",
      "  [55 66 77]]\n",
      "\n",
      " [[16 85 34]\n",
      "  [ 5  6 77]]]\n",
      "1\n",
      "[[1 0 0]\n",
      " [2 2 0]]\n",
      "[[1 0 0]\n",
      " [0 0 0]\n",
      " [1 1 0]]\n"
     ]
    }
   ],
   "source": [
    "three_array = np.array([[[30,4,5],[6,7,8]],\n",
    "                        [[11,22,33],[55,66,77]],\n",
    "                        [[16,85,34],[5,6,77]]])\n",
    "print(three_array.min())\n",
    "print(three_array)\n",
    "print(np.argmin(three_array))\n",
    "print(np.argmin(three_array,axis=0)) # row (vertical)\n",
    "print(np.argmin(three_array,axis = 1)) # column (Horizontal)"
   ]
  },
  {
   "cell_type": "code",
   "execution_count": 29,
   "id": "0331ad6d",
   "metadata": {},
   "outputs": [
    {
     "name": "stdout",
     "output_type": "stream",
     "text": [
      "4\n",
      "[[[ 39   4   5]\n",
      "  [  6   7   8]]\n",
      "\n",
      " [[113  22  33]\n",
      "  [595  66  77]]]\n",
      "[[0 0 0]\n",
      " [0 0 0]]\n",
      "[[1 0 0]\n",
      " [0 0 0]]\n"
     ]
    }
   ],
   "source": [
    "three_array = np.array([[[39,4,5],[6,7,8]],\n",
    "                        [[113,22,33],[595,66,77]]],)\n",
    "print(three_array.min())\n",
    "print(three_array)\n",
    "#\n",
    "print(np.argmin(three_array,axis=0)) # Row\n",
    "print(np.argmin(three_array,axis=1)) # Column\n"
   ]
  },
  {
   "cell_type": "markdown",
   "id": "13846046",
   "metadata": {},
   "source": [
    "# array joining"
   ]
  },
  {
   "cell_type": "code",
   "execution_count": 35,
   "id": "5dd260cf",
   "metadata": {},
   "outputs": [
    {
     "name": "stdout",
     "output_type": "stream",
     "text": [
      "[45 64 23 66 88 34]\n",
      "[45 64 23 66 88 34]\n"
     ]
    },
    {
     "ename": "AxisError",
     "evalue": "axis 1 is out of bounds for array of dimension 1",
     "output_type": "error",
     "traceback": [
      "\u001b[31m---------------------------------------------------------------------------\u001b[39m",
      "\u001b[31mAxisError\u001b[39m                                 Traceback (most recent call last)",
      "\u001b[36mCell\u001b[39m\u001b[36m \u001b[39m\u001b[32mIn[35]\u001b[39m\u001b[32m, line 8\u001b[39m\n\u001b[32m      6\u001b[39m concat_0 = np.concatenate((a,b),axis = \u001b[32m0\u001b[39m)\n\u001b[32m      7\u001b[39m \u001b[38;5;28mprint\u001b[39m(concat_0)\n\u001b[32m----> \u001b[39m\u001b[32m8\u001b[39m concat_1 = \u001b[43mnp\u001b[49m\u001b[43m.\u001b[49m\u001b[43mconcatenate\u001b[49m\u001b[43m(\u001b[49m\u001b[43m(\u001b[49m\u001b[43ma\u001b[49m\u001b[43m,\u001b[49m\u001b[43mb\u001b[49m\u001b[43m)\u001b[49m\u001b[43m,\u001b[49m\u001b[43maxis\u001b[49m\u001b[43m \u001b[49m\u001b[43m=\u001b[49m\u001b[43m \u001b[49m\u001b[32;43m1\u001b[39;49m\u001b[43m)\u001b[49m\n\u001b[32m      9\u001b[39m \u001b[38;5;28mprint\u001b[39m(concat_1)\n",
      "\u001b[31mAxisError\u001b[39m: axis 1 is out of bounds for array of dimension 1"
     ]
    }
   ],
   "source": [
    "a = np.array([45,64,23])\n",
    "b = np.array([66,88,34])\n",
    "\n",
    "concat = np.concatenate((a,b))\n",
    "print(concat)\n",
    "concat_0 = np.concatenate((a,b),axis = 0)\n",
    "print(concat_0)\n",
    "concat_1 = np.concatenate((a,b),axis = 1)\n",
    "print(concat_1)"
   ]
  },
  {
   "cell_type": "code",
   "execution_count": 42,
   "id": "95b21011",
   "metadata": {},
   "outputs": [
    {
     "name": "stdout",
     "output_type": "stream",
     "text": [
      "Array a\n",
      "[[45 64 23]\n",
      " [11 22 33]]\n",
      "Array a\n",
      "[[66 88 34]\n",
      " [90 25 65]]\n",
      "Vertical Joining \n",
      "[[45 64 23]\n",
      " [11 22 33]\n",
      " [66 88 34]\n",
      " [90 25 65]]\n",
      "Horizontal Joining\n",
      "[[45 64 23 66 88 34]\n",
      " [11 22 33 90 25 65]]\n"
     ]
    }
   ],
   "source": [
    "a = np.array([[45,64,23],[11,22,33]])\n",
    "b = np.array([[66,88,34],[90,25,65]])\n",
    "print(\"Array a\")\n",
    "print(a)\n",
    "print(\"Array a\")\n",
    "print(b)\n",
    "print(\"Vertical Joining \")\n",
    "concat_0 = np.concatenate((a,b),axis = 0) # Vertical \n",
    "print(concat_0)\n",
    "print(\"Horizontal Joining\")\n",
    "concat_1 = np.concatenate((a,b),axis = 1) # Horizontal\n",
    "print(concat_1)\n"
   ]
  },
  {
   "cell_type": "code",
   "execution_count": 51,
   "id": "6efadb8f",
   "metadata": {},
   "outputs": [
    {
     "name": "stdout",
     "output_type": "stream",
     "text": [
      "[45 64 23]\n",
      "[66 88 34]\n",
      "[[45 64 23]\n",
      " [66 88 34]]\n",
      "2\n"
     ]
    }
   ],
   "source": [
    "a = np.array([45,64,23])\n",
    "b = np.array([66,88,34])\n",
    "print(a)\n",
    "print(b)\n",
    "\n",
    "stack_1d = np.array((a,b))\n",
    "print(stack_1d)\n",
    "print(stack_1d.ndim)"
   ]
  },
  {
   "cell_type": "code",
   "execution_count": null,
   "id": "9fcb40a0",
   "metadata": {},
   "outputs": [
    {
     "name": "stdout",
     "output_type": "stream",
     "text": [
      "Array a\n",
      "[[45 64 23]\n",
      " [11 22 33]]\n",
      "Array a\n",
      "[[66 88 34]\n",
      " [90 25 65]]\n",
      "____________________________________________________________________________________________________\n",
      "[[[45 64 23]\n",
      "  [11 22 33]]\n",
      "\n",
      " [[66 88 34]\n",
      "  [90 25 65]]]\n",
      "____________________________________________________________________________________________________\n"
     ]
    }
   ],
   "source": [
    "a = np.array([[45,64,23],[11,22,33]])\n",
    "b = np.array([[66,88,34],[90,25,65]])\n",
    "print(\"Array a\")\n",
    "print(a)\n",
    "print(\"Array a\")\n",
    "print(b)\n",
    "print(\"__\"*50)\n",
    "stack = np.stack((a,b))\n",
    "print(stack)\n",
    "#print(\"__\"*50)\n",
    "# stack_0 = np.stack((a,b),axis=0)\n",
    "# print(stack_0)\n",
    "# print(\"__\"*50)\n",
    "# stack_1 = np.stack((a,b),axis=0)\n",
    "# print(stack_1)\n",
    "# stack_1.ndim"
   ]
  },
  {
   "cell_type": "code",
   "execution_count": null,
   "id": "55f64ab9",
   "metadata": {},
   "outputs": [
    {
     "name": "stdout",
     "output_type": "stream",
     "text": [
      "Array a\n",
      "[[45 64 23]\n",
      " [11 22 33]]\n",
      "Array a\n",
      "[[66 88 34]\n",
      " [90 25 65]]\n",
      "____________________________________________________________________________________________________\n",
      "[[45 64 23]\n",
      " [11 22 33]\n",
      " [66 88 34]\n",
      " [90 25 65]]\n"
     ]
    }
   ],
   "source": [
    "# Vstack\n",
    "a = np.array([[45,64,23],[11,22,33]])\n",
    "b = np.array([[66,88,34],[90,25,65]])\n",
    "print(\"Array a\")\n",
    "print(a)\n",
    "print(\"Array a\")\n",
    "print(b)\n",
    "print(\"__\"*50)\n",
    "stack = np.vstack((a,b))\n",
    "print(stack)"
   ]
  },
  {
   "cell_type": "code",
   "execution_count": null,
   "id": "489c8a77",
   "metadata": {},
   "outputs": [
    {
     "name": "stdout",
     "output_type": "stream",
     "text": [
      "Array a\n",
      "[[45 64 23]\n",
      " [11 22 33]]\n",
      "Array a\n",
      "[[66 88 34]\n",
      " [90 25 65]]\n",
      "____________________________________________________________________________________________________\n",
      "[[45 64 23 66 88 34]\n",
      " [11 22 33 90 25 65]]\n"
     ]
    }
   ],
   "source": [
    "# Horizontal Stack\n",
    "a = np.array([[45,64,23],[11,22,33]])\n",
    "b = np.array([[66,88,34],[90,25,65]])\n",
    "print(\"Array a\")\n",
    "print(a)\n",
    "print(\"Array a\")\n",
    "print(b)\n",
    "print(\"__\"*50)\n",
    "stack = np.hstack((a,b))\n",
    "print(stack)"
   ]
  },
  {
   "cell_type": "code",
   "execution_count": 59,
   "id": "7757dc2d",
   "metadata": {},
   "outputs": [
    {
     "name": "stdout",
     "output_type": "stream",
     "text": [
      "[[45 64 23 66 88 34]\n",
      " [11 22 33 90 25 65]]\n"
     ]
    }
   ],
   "source": [
    "z = np.array([[45, 64, 23, 66, 88, 34],[11, 22, 33, 90, 25, 65]])\n",
    "print(z)"
   ]
  },
  {
   "cell_type": "code",
   "execution_count": 62,
   "id": "daa6fd7b",
   "metadata": {},
   "outputs": [
    {
     "name": "stdout",
     "output_type": "stream",
     "text": [
      "[[45 11]\n",
      " [64 22]\n",
      " [23 33]\n",
      " [66 90]\n",
      " [88 25]\n",
      " [34 65]]\n"
     ]
    }
   ],
   "source": [
    "# array Transformation\n",
    "transform_z = z.T\n",
    "print(transform_z)"
   ]
  },
  {
   "cell_type": "code",
   "execution_count": 61,
   "id": "5c036572",
   "metadata": {},
   "outputs": [
    {
     "data": {
      "text/plain": [
       "array([[45, 11],\n",
       "       [64, 22],\n",
       "       [23, 33],\n",
       "       [66, 90],\n",
       "       [88, 25],\n",
       "       [34, 65]])"
      ]
     },
     "execution_count": 61,
     "metadata": {},
     "output_type": "execute_result"
    }
   ],
   "source": [
    "np.transpose(z)"
   ]
  },
  {
   "cell_type": "code",
   "execution_count": 74,
   "id": "f178f368",
   "metadata": {},
   "outputs": [
    {
     "name": "stdout",
     "output_type": "stream",
     "text": [
      "[[45 64 23 66 88 34]\n",
      " [11 22 33 90 25 65]]\n",
      "Horizontal Sorting\n",
      "[[23 34 45 64 66 88]\n",
      " [11 22 25 33 65 90]]\n",
      "Vertical sorting\n",
      "[[11 22 23 66 25 34]\n",
      " [45 64 33 90 88 65]]\n"
     ]
    }
   ],
   "source": [
    "z = np.array([[45, 64, 23, 66, 88, 34],[11, 22, 33, 90, 25, 65]])\n",
    "print(z)\n",
    "# sorting\n",
    "# print(\"Sorting\")\n",
    "print(\"Horizontal Sorting\")\n",
    "zz = np.sort(z,axis=1)  \n",
    "print(zz)\n",
    "print(\"Vertical sorting\")\n",
    "zz = np.sort(z,axis=0) # Vertical\n",
    "print(zz)"
   ]
  },
  {
   "cell_type": "code",
   "execution_count": 82,
   "id": "f8f06365",
   "metadata": {},
   "outputs": [
    {
     "name": "stdout",
     "output_type": "stream",
     "text": [
      "Original array\n",
      "[[45 64 23 66 88 34]\n",
      " [11 22 33 90 25 65]]\n",
      "[[90 64 23 66 88 34]\n",
      " [11 22 33 90 25 65]]\n"
     ]
    }
   ],
   "source": [
    "z = np.array([[45, 64, 23, 66, 88, 34],[11, 22, 33, 90, 25, 65]])\n",
    "print(\"Original array\")\n",
    "print(z)\n",
    "z[0][0] = 90\n",
    "print(z)"
   ]
  },
  {
   "cell_type": "code",
   "execution_count": 83,
   "id": "dcb23103",
   "metadata": {},
   "outputs": [
    {
     "name": "stdout",
     "output_type": "stream",
     "text": [
      "Copied array\n",
      "[[90 64 23 66 88 34]\n",
      " [11 22 33 90 25 65]]\n"
     ]
    }
   ],
   "source": [
    "copy_z = np.copy(z)\n",
    "print(\"Copied array\")\n",
    "print(copy_z)"
   ]
  },
  {
   "cell_type": "code",
   "execution_count": 84,
   "id": "8f0752cc",
   "metadata": {},
   "outputs": [
    {
     "data": {
      "text/plain": [
       "array([[100,  64,  23,  66,  88,  34],\n",
       "       [ 11,  22,  33,  90,  25,  65]])"
      ]
     },
     "execution_count": 84,
     "metadata": {},
     "output_type": "execute_result"
    }
   ],
   "source": [
    "copy_z[0][0] = 100\n",
    "copy_z"
   ]
  },
  {
   "cell_type": "code",
   "execution_count": 85,
   "id": "5e42405d",
   "metadata": {},
   "outputs": [
    {
     "data": {
      "text/plain": [
       "array([[90, 64, 23, 66, 88, 34],\n",
       "       [11, 22, 33, 90, 25, 65]])"
      ]
     },
     "execution_count": 85,
     "metadata": {},
     "output_type": "execute_result"
    }
   ],
   "source": [
    "z"
   ]
  },
  {
   "cell_type": "code",
   "execution_count": 87,
   "id": "1a458352",
   "metadata": {},
   "outputs": [
    {
     "name": "stdout",
     "output_type": "stream",
     "text": [
      "Original array\n",
      "[[45 64 23 66 88 34]\n",
      " [11 22 33 90 25 65]]\n",
      "Viewd copy array\n",
      "[[45 64 23 66 88 34]\n",
      " [11 22 33 90 25 65]]\n"
     ]
    }
   ],
   "source": [
    "z = np.array([[45, 64, 23, 66, 88, 34],[11, 22, 33, 90, 25, 65]])\n",
    "print(\"Original array\")\n",
    "print(z)\n",
    "\n",
    "view_z = z.view()\n",
    "print(\"Viewd copy array\")\n",
    "print(view_z)"
   ]
  },
  {
   "cell_type": "code",
   "execution_count": 88,
   "id": "32a18141",
   "metadata": {},
   "outputs": [
    {
     "data": {
      "text/plain": [
       "array([[34, 64, 23, 66, 88, 34],\n",
       "       [11, 22, 33, 90, 25, 65]])"
      ]
     },
     "execution_count": 88,
     "metadata": {},
     "output_type": "execute_result"
    }
   ],
   "source": [
    "z[0,0] = 34\n",
    "z"
   ]
  },
  {
   "cell_type": "code",
   "execution_count": 89,
   "id": "a072dfe7",
   "metadata": {},
   "outputs": [
    {
     "data": {
      "text/plain": [
       "array([[34, 64, 23, 66, 88, 34],\n",
       "       [11, 22, 33, 90, 25, 65]])"
      ]
     },
     "execution_count": 89,
     "metadata": {},
     "output_type": "execute_result"
    }
   ],
   "source": [
    "view_z"
   ]
  },
  {
   "cell_type": "code",
   "execution_count": 90,
   "id": "2b60e7ac",
   "metadata": {},
   "outputs": [
    {
     "data": {
      "text/plain": [
       "array([[  34, 1000,   23,   66,   88,   34],\n",
       "       [  11,   22,   33,   90,   25,   65]])"
      ]
     },
     "execution_count": 90,
     "metadata": {},
     "output_type": "execute_result"
    }
   ],
   "source": [
    "view_z[0,1] = 1000\n",
    "view_z"
   ]
  },
  {
   "cell_type": "code",
   "execution_count": 91,
   "id": "aca29b10",
   "metadata": {},
   "outputs": [
    {
     "data": {
      "text/plain": [
       "array([[  34, 1000,   23,   66,   88,   34],\n",
       "       [  11,   22,   33,   90,   25,   65]])"
      ]
     },
     "execution_count": 91,
     "metadata": {},
     "output_type": "execute_result"
    }
   ],
   "source": [
    "z"
   ]
  },
  {
   "cell_type": "code",
   "execution_count": null,
   "id": "4aebd8a4",
   "metadata": {},
   "outputs": [],
   "source": []
  }
 ],
 "metadata": {
  "kernelspec": {
   "display_name": "Python 3",
   "language": "python",
   "name": "python3"
  },
  "language_info": {
   "codemirror_mode": {
    "name": "ipython",
    "version": 3
   },
   "file_extension": ".py",
   "mimetype": "text/x-python",
   "name": "python",
   "nbconvert_exporter": "python",
   "pygments_lexer": "ipython3",
   "version": "3.11.9"
  }
 },
 "nbformat": 4,
 "nbformat_minor": 5
}
