{
 "cells": [
  {
   "cell_type": "markdown",
   "id": "4e579f60",
   "metadata": {},
   "source": [
    "# Exception Handling"
   ]
  },
  {
   "cell_type": "code",
   "execution_count": null,
   "id": "81cad174",
   "metadata": {},
   "outputs": [
    {
     "name": "stdout",
     "output_type": "stream",
     "text": [
      "45.5\n"
     ]
    }
   ],
   "source": [
    "x = 34\n",
    "y =23\n",
    "\n",
    "avg = x + y/2 # 34 + 23/2\n",
    "print(avg)"
   ]
  },
  {
   "cell_type": "code",
   "execution_count": null,
   "id": "9b9ffe3c",
   "metadata": {},
   "outputs": [
    {
     "name": "stdout",
     "output_type": "stream",
     "text": [
      "28.5\n"
     ]
    }
   ],
   "source": [
    "x = 34\n",
    "y =23\n",
    "avg = (x + y)/2 # (34 + 23)/2"
   ]
  },
  {
   "cell_type": "code",
   "execution_count": 5,
   "id": "276b12f9",
   "metadata": {},
   "outputs": [
    {
     "ename": "IndexError",
     "evalue": "string index out of range",
     "output_type": "error",
     "traceback": [
      "\u001b[31m---------------------------------------------------------------------------\u001b[39m",
      "\u001b[31mIndexError\u001b[39m                                Traceback (most recent call last)",
      "\u001b[36mCell\u001b[39m\u001b[36m \u001b[39m\u001b[32mIn[5]\u001b[39m\u001b[32m, line 2\u001b[39m\n\u001b[32m      1\u001b[39m x = \u001b[33m\"\u001b[39m\u001b[33mPython\u001b[39m\u001b[33m\"\u001b[39m\n\u001b[32m----> \u001b[39m\u001b[32m2\u001b[39m \u001b[43mx\u001b[49m\u001b[43m[\u001b[49m\u001b[32;43m8\u001b[39;49m\u001b[43m]\u001b[49m\n",
      "\u001b[31mIndexError\u001b[39m: string index out of range"
     ]
    }
   ],
   "source": [
    "x = \"Python\"\n",
    "x[8]"
   ]
  },
  {
   "cell_type": "code",
   "execution_count": 6,
   "id": "dfaa567d",
   "metadata": {},
   "outputs": [
    {
     "ename": "TypeError",
     "evalue": "unsupported operand type(s) for +: 'int' and 'str'",
     "output_type": "error",
     "traceback": [
      "\u001b[31m---------------------------------------------------------------------------\u001b[39m",
      "\u001b[31mTypeError\u001b[39m                                 Traceback (most recent call last)",
      "\u001b[36mCell\u001b[39m\u001b[36m \u001b[39m\u001b[32mIn[6]\u001b[39m\u001b[32m, line 1\u001b[39m\n\u001b[32m----> \u001b[39m\u001b[32m1\u001b[39m u = \u001b[32;43m4563\u001b[39;49m\u001b[43m \u001b[49m\u001b[43m+\u001b[49m\u001b[43m \u001b[49m\u001b[33;43m\"\u001b[39;49m\u001b[33;43mHlo\u001b[39;49m\u001b[33;43m\"\u001b[39;49m\n\u001b[32m      2\u001b[39m u\n",
      "\u001b[31mTypeError\u001b[39m: unsupported operand type(s) for +: 'int' and 'str'"
     ]
    }
   ],
   "source": [
    "u = 4563 + \"Hlo\"\n",
    "u"
   ]
  },
  {
   "cell_type": "code",
   "execution_count": null,
   "id": "da4b8a29",
   "metadata": {},
   "outputs": [
    {
     "ename": "ZeroDivisionError",
     "evalue": "division by zero",
     "output_type": "error",
     "traceback": [
      "\u001b[31m---------------------------------------------------------------------------\u001b[39m",
      "\u001b[31mZeroDivisionError\u001b[39m                         Traceback (most recent call last)",
      "\u001b[36mCell\u001b[39m\u001b[36m \u001b[39m\u001b[32mIn[7]\u001b[39m\u001b[32m, line 4\u001b[39m\n\u001b[32m      1\u001b[39m i = \u001b[32m56\u001b[39m\n\u001b[32m      2\u001b[39m j = \u001b[32m0\u001b[39m\n\u001b[32m----> \u001b[39m\u001b[32m4\u001b[39m \u001b[43mi\u001b[49m\u001b[43m \u001b[49m\u001b[43m/\u001b[49m\u001b[43mj\u001b[49m\n",
      "\u001b[31mZeroDivisionError\u001b[39m: division by zero"
     ]
    }
   ],
   "source": [
    "i = 56\n",
    "j = 0\n",
    "\n",
    "i / j"
   ]
  },
  {
   "cell_type": "code",
   "execution_count": 10,
   "id": "9cad92ce",
   "metadata": {},
   "outputs": [
    {
     "name": "stdout",
     "output_type": "stream",
     "text": [
      "Index out of Range\n"
     ]
    }
   ],
   "source": [
    "try: \n",
    "    x = \"Python\"\n",
    "    print(x[9])\n",
    "\n",
    "except IndexError:\n",
    "    print(\"Index out of Range\")"
   ]
  },
  {
   "cell_type": "code",
   "execution_count": null,
   "id": "c3f84c14",
   "metadata": {},
   "outputs": [
    {
     "name": "stdout",
     "output_type": "stream",
     "text": [
      "4563Hlo\n"
     ]
    }
   ],
   "source": [
    "try:\n",
    "    u = '4563' + \"Hlo\"\n",
    "    print(u)\n",
    "except TypeError:\n",
    "    print(\"We cant concatenate string and number\")"
   ]
  },
  {
   "cell_type": "code",
   "execution_count": 13,
   "id": "1c151361",
   "metadata": {},
   "outputs": [
    {
     "name": "stdout",
     "output_type": "stream",
     "text": [
      "4563Hlo\n",
      "Code execute successfully\n"
     ]
    }
   ],
   "source": [
    "try:\n",
    "    u = '4563' + \"Hlo\"\n",
    "    print(u)\n",
    "except TypeError:\n",
    "    print(\"We cant concatenate string and number\")\n",
    "\n",
    "finally:\n",
    "    print(\"Code execute successfully\")\n"
   ]
  },
  {
   "cell_type": "code",
   "execution_count": 20,
   "id": "6368bf2d",
   "metadata": {},
   "outputs": [
    {
     "name": "stdout",
     "output_type": "stream",
     "text": [
      "4563Hlo\n",
      "Please pass a valid index value\n",
      "Code execute successfully\n"
     ]
    }
   ],
   "source": [
    "try:\n",
    "    # u = '4563' + \"Hlo\"\n",
    "    y = \"machine\"\n",
    "    print(u)\n",
    "    print(y[10])\n",
    "    a = 89\n",
    "    b = 0\n",
    "    div = a/b\n",
    "    print(div)\n",
    "except TypeError:\n",
    "    print(\"We cant concatenate string and number\")\n",
    "except IndexError:\n",
    "    print(\"Please pass a valid index value\")\n",
    "finally:\n",
    "    print(\"Code execute successfully\")"
   ]
  },
  {
   "cell_type": "code",
   "execution_count": 21,
   "id": "a0befd10",
   "metadata": {},
   "outputs": [
    {
     "name": "stdout",
     "output_type": "stream",
     "text": [
      "we cant devideby zero\n"
     ]
    }
   ],
   "source": [
    "try:\n",
    "    a = 89\n",
    "    b = 0\n",
    "    div = a/b\n",
    "    print(div)\n",
    "except ZeroDivisionError:\n",
    "    print(\"we cant devideby zero\")"
   ]
  },
  {
   "cell_type": "code",
   "execution_count": 23,
   "id": "98bc5e46",
   "metadata": {},
   "outputs": [
    {
     "name": "stdout",
     "output_type": "stream",
     "text": [
      "Type of Error: division by zero\n"
     ]
    }
   ],
   "source": [
    "try:\n",
    "    a = 89\n",
    "    b = 0\n",
    "    div = a/b\n",
    "    print(div)\n",
    "except Exception as arg:\n",
    "    print(\"Type of Error:\", arg)"
   ]
  },
  {
   "cell_type": "code",
   "execution_count": null,
   "id": "2a3fa900",
   "metadata": {},
   "outputs": [
    {
     "name": "stdout",
     "output_type": "stream",
     "text": [
      "We cant devide by zero\n"
     ]
    }
   ],
   "source": [
    "try:\n",
    "    a = 89\n",
    "    b = 0\n",
    "    div = a/b\n",
    "    print(div)\n",
    "    ou = \"Machine elarning\"\n",
    "    print(ou[19])\n",
    "except TypeError:\n",
    "    print(\"This is a type error\")\n",
    "except ZeroDivisionError:\n",
    "    print(\"We cant devide by zero\")\n"
   ]
  },
  {
   "cell_type": "code",
   "execution_count": null,
   "id": "cf9af563",
   "metadata": {},
   "outputs": [
    {
     "name": "stdout",
     "output_type": "stream",
     "text": [
      "Error type: unsupported operand type(s) for +: 'int' and 'str'\n",
      "Code successfully executed\n",
      "Data scientist\n"
     ]
    }
   ],
   "source": [
    "try:\n",
    "    u = 4563 + \"Hlo\"\n",
    "    u\n",
    "except Exception as arg:\n",
    "    print(\"Error type:\",arg)\n",
    "finally:\n",
    "    print(\"Code successfully executed\")\n",
    "    print(\"Data scientist\")"
   ]
  },
  {
   "cell_type": "code",
   "execution_count": 36,
   "id": "70ad7c45",
   "metadata": {},
   "outputs": [
    {
     "name": "stdout",
     "output_type": "stream",
     "text": [
      "Error type: division by zero\n",
      "Code successfully executed\n",
      "Data scientist\n"
     ]
    }
   ],
   "source": [
    "try:\n",
    "    a = int(input(\"value of A:\"))\n",
    "    b = int(input(\"Value of B:\"))\n",
    "    div = a/b\n",
    "except Exception as arg:\n",
    "    print(\"Error type:\",arg)\n",
    "finally:\n",
    "    print(\"Code successfully executed\")\n",
    "    print(\"Data scientist\")"
   ]
  },
  {
   "cell_type": "code",
   "execution_count": 44,
   "id": "474517a6",
   "metadata": {},
   "outputs": [
    {
     "name": "stdout",
     "output_type": "stream",
     "text": [
      "Division 2.9130434782608696\n",
      "Addition 90\n",
      "Multiplication 1541\n",
      "Substraction 44\n",
      "Always printable\n",
      "Operation Sindoor success\n"
     ]
    }
   ],
   "source": [
    "try:\n",
    "    a = int(input(\"value of A:\"))\n",
    "    b = int(input(\"Value of B:\"))\n",
    "    div = a/b\n",
    "    print(\"Division\",div)\n",
    "except Exception as arg:\n",
    "    print(\"Error type:\",arg)\n",
    "else:\n",
    "    print(\"Addition\", a + b)\n",
    "    print(\"Multiplication\", a * b)\n",
    "    print(\"Substraction\", a - b)\n",
    "finally:\n",
    "    print(\"Always printable\")\n",
    "    print(\"Operation Sindoor success\")"
   ]
  },
  {
   "cell_type": "code",
   "execution_count": 45,
   "id": "9fde0992",
   "metadata": {},
   "outputs": [
    {
     "ename": "FileNotFoundError",
     "evalue": "[Errno 2] No such file or directory: 'bottle.txt'",
     "output_type": "error",
     "traceback": [
      "\u001b[31m---------------------------------------------------------------------------\u001b[39m",
      "\u001b[31mFileNotFoundError\u001b[39m                         Traceback (most recent call last)",
      "\u001b[36mCell\u001b[39m\u001b[36m \u001b[39m\u001b[32mIn[45]\u001b[39m\u001b[32m, line 1\u001b[39m\n\u001b[32m----> \u001b[39m\u001b[32m1\u001b[39m file = \u001b[38;5;28;43mopen\u001b[39;49m\u001b[43m(\u001b[49m\u001b[33;43m\"\u001b[39;49m\u001b[33;43mbottle.txt\u001b[39;49m\u001b[33;43m\"\u001b[39;49m\u001b[43m)\u001b[49m\n\u001b[32m      2\u001b[39m file.read()\n",
      "\u001b[36mFile \u001b[39m\u001b[32m~\\AppData\\Local\\Packages\\PythonSoftwareFoundation.Python.3.11_qbz5n2kfra8p0\\LocalCache\\local-packages\\Python311\\site-packages\\IPython\\core\\interactiveshell.py:326\u001b[39m, in \u001b[36m_modified_open\u001b[39m\u001b[34m(file, *args, **kwargs)\u001b[39m\n\u001b[32m    319\u001b[39m \u001b[38;5;28;01mif\u001b[39;00m file \u001b[38;5;129;01min\u001b[39;00m {\u001b[32m0\u001b[39m, \u001b[32m1\u001b[39m, \u001b[32m2\u001b[39m}:\n\u001b[32m    320\u001b[39m     \u001b[38;5;28;01mraise\u001b[39;00m \u001b[38;5;167;01mValueError\u001b[39;00m(\n\u001b[32m    321\u001b[39m         \u001b[33mf\u001b[39m\u001b[33m\"\u001b[39m\u001b[33mIPython won\u001b[39m\u001b[33m'\u001b[39m\u001b[33mt let you open fd=\u001b[39m\u001b[38;5;132;01m{\u001b[39;00mfile\u001b[38;5;132;01m}\u001b[39;00m\u001b[33m by default \u001b[39m\u001b[33m\"\u001b[39m\n\u001b[32m    322\u001b[39m         \u001b[33m\"\u001b[39m\u001b[33mas it is likely to crash IPython. If you know what you are doing, \u001b[39m\u001b[33m\"\u001b[39m\n\u001b[32m    323\u001b[39m         \u001b[33m\"\u001b[39m\u001b[33myou can use builtins\u001b[39m\u001b[33m'\u001b[39m\u001b[33m open.\u001b[39m\u001b[33m\"\u001b[39m\n\u001b[32m    324\u001b[39m     )\n\u001b[32m--> \u001b[39m\u001b[32m326\u001b[39m \u001b[38;5;28;01mreturn\u001b[39;00m \u001b[43mio_open\u001b[49m\u001b[43m(\u001b[49m\u001b[43mfile\u001b[49m\u001b[43m,\u001b[49m\u001b[43m \u001b[49m\u001b[43m*\u001b[49m\u001b[43margs\u001b[49m\u001b[43m,\u001b[49m\u001b[43m \u001b[49m\u001b[43m*\u001b[49m\u001b[43m*\u001b[49m\u001b[43mkwargs\u001b[49m\u001b[43m)\u001b[49m\n",
      "\u001b[31mFileNotFoundError\u001b[39m: [Errno 2] No such file or directory: 'bottle.txt'"
     ]
    }
   ],
   "source": [
    "file = open(\"bottle.txt\")\n",
    "file.read()"
   ]
  },
  {
   "cell_type": "code",
   "execution_count": 46,
   "id": "115c62fa",
   "metadata": {},
   "outputs": [
    {
     "name": "stdout",
     "output_type": "stream",
     "text": [
      "Error [Errno 2] No such file or directory: 'Bottle.txt'\n"
     ]
    }
   ],
   "source": [
    "try:\n",
    "    with open(\"Bottle.txt\", 'r') as file:\n",
    "        file.read()\n",
    "except Exception as arg:\n",
    "    print(\"Error\",arg)"
   ]
  },
  {
   "cell_type": "code",
   "execution_count": null,
   "id": "8e5ac5a1",
   "metadata": {},
   "outputs": [],
   "source": []
  }
 ],
 "metadata": {
  "kernelspec": {
   "display_name": "Python 3",
   "language": "python",
   "name": "python3"
  },
  "language_info": {
   "codemirror_mode": {
    "name": "ipython",
    "version": 3
   },
   "file_extension": ".py",
   "mimetype": "text/x-python",
   "name": "python",
   "nbconvert_exporter": "python",
   "pygments_lexer": "ipython3",
   "version": "3.11.9"
  }
 },
 "nbformat": 4,
 "nbformat_minor": 5
}
