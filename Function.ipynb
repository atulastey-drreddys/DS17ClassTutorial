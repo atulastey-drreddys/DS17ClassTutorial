{
 "cells": [
  {
   "cell_type": "code",
   "execution_count": 6,
   "id": "0c73de00",
   "metadata": {},
   "outputs": [
    {
     "name": "stdout",
     "output_type": "stream",
     "text": [
      "131\n"
     ]
    }
   ],
   "source": [
    "# Keyword argument\n",
    "def Addition(a,b,c):\n",
    "    add = a + b + c\n",
    "    return add\n",
    "\n",
    "print(Addition(34,52,45))"
   ]
  },
  {
   "cell_type": "code",
   "execution_count": 2,
   "id": "ced7b2c0",
   "metadata": {},
   "outputs": [
    {
     "data": {
      "text/plain": [
       "157"
      ]
     },
     "execution_count": 2,
     "metadata": {},
     "output_type": "execute_result"
    }
   ],
   "source": [
    "Addition(45,36,76,)"
   ]
  },
  {
   "cell_type": "code",
   "execution_count": 3,
   "id": "3f343f1c",
   "metadata": {},
   "outputs": [
    {
     "data": {
      "text/plain": [
       "7683"
      ]
     },
     "execution_count": 3,
     "metadata": {},
     "output_type": "execute_result"
    }
   ],
   "source": [
    "Addition(463,764,6456)"
   ]
  },
  {
   "cell_type": "code",
   "execution_count": 5,
   "id": "7dee0a2e",
   "metadata": {},
   "outputs": [
    {
     "name": "stdout",
     "output_type": "stream",
     "text": [
      "131\n",
      "None\n"
     ]
    }
   ],
   "source": [
    "def Addition(a,b,c):\n",
    "    add = a + b + c\n",
    "    print(add)\n",
    "\n",
    "print(Addition(34,52,45))"
   ]
  },
  {
   "cell_type": "code",
   "execution_count": 10,
   "id": "371bd18e",
   "metadata": {},
   "outputs": [
    {
     "name": "stdout",
     "output_type": "stream",
     "text": [
      "Keyword arg 120\n",
      "Positional 60\n"
     ]
    }
   ],
   "source": [
    "# Positional argument\n",
    "\n",
    "def Multiplication(a,b,c):\n",
    "    multi = a * b * c\n",
    "    return multi\n",
    "\n",
    "print(\"Keyword arg\",Multiplication(4,5,6)) # Keyword arg\n",
    "print(\"Positional\",Multiplication(b = 2, a = 5, c = 6)) # Positional"
   ]
  },
  {
   "cell_type": "code",
   "execution_count": 13,
   "id": "7a4b743d",
   "metadata": {},
   "outputs": [
    {
     "name": "stdout",
     "output_type": "stream",
     "text": [
      "Keyword arg 120\n",
      "Positional 60\n",
      "Default 150\n",
      "576\n"
     ]
    }
   ],
   "source": [
    "# Default argument\n",
    "def Multiplication(a,b,c = 10):\n",
    "    multi = a * b * c\n",
    "    return multi\n",
    "\n",
    "print(\"Keyword arg\",Multiplication(4,5,6)) # Keyword arg\n",
    "print(\"Positional\",Multiplication(b = 2, a = 5, c = 6)) # Positional\n",
    "print('Default',Multiplication(3,5))\n",
    "print(Multiplication(6,8,12))"
   ]
  },
  {
   "cell_type": "code",
   "execution_count": null,
   "id": "b84f6c91",
   "metadata": {},
   "outputs": [
    {
     "name": "stdout",
     "output_type": "stream",
     "text": [
      "21\n"
     ]
    }
   ],
   "source": [
    "def Fun(*n):\n",
    "    total = 1\n",
    "    for i in n:\n",
    "        total += i\n",
    "    return total\n",
    "print(Fun(5,5,6,4))"
   ]
  },
  {
   "cell_type": "code",
   "execution_count": 1,
   "id": "bafbdd4c",
   "metadata": {},
   "outputs": [
    {
     "name": "stdout",
     "output_type": "stream",
     "text": [
      "Hello\n"
     ]
    }
   ],
   "source": [
    "print(\"Hello\")"
   ]
  },
  {
   "cell_type": "code",
   "execution_count": 2,
   "id": "fc3fbccf",
   "metadata": {},
   "outputs": [
    {
     "name": "stdout",
     "output_type": "stream",
     "text": [
      "131\n",
      "None\n",
      "21\n"
     ]
    }
   ],
   "source": [
    "import Module1"
   ]
  },
  {
   "cell_type": "code",
   "execution_count": 3,
   "id": "7d2ccb40",
   "metadata": {},
   "outputs": [
    {
     "data": {
      "text/plain": [
       "29"
      ]
     },
     "execution_count": 3,
     "metadata": {},
     "output_type": "execute_result"
    }
   ],
   "source": [
    "Module1.Sum_Number(4,6,3,5,6,4)"
   ]
  },
  {
   "cell_type": "code",
   "execution_count": 4,
   "id": "46d0fb3c",
   "metadata": {},
   "outputs": [
    {
     "name": "stdout",
     "output_type": "stream",
     "text": [
      "713\n"
     ]
    }
   ],
   "source": [
    "Module1.Addition(45,23,645)"
   ]
  },
  {
   "cell_type": "code",
   "execution_count": 5,
   "id": "cfee5572",
   "metadata": {},
   "outputs": [
    {
     "name": "stdout",
     "output_type": "stream",
     "text": [
      "733\n"
     ]
    }
   ],
   "source": [
    "from Module1 import Addition\n",
    "\n",
    "Addition(45,34,654)"
   ]
  },
  {
   "cell_type": "code",
   "execution_count": 10,
   "id": "bf0c82af",
   "metadata": {},
   "outputs": [
    {
     "data": {
      "text/plain": [
       "206400"
      ]
     },
     "execution_count": 10,
     "metadata": {},
     "output_type": "execute_result"
    }
   ],
   "source": [
    "from Module1 import Multiplication\n",
    "\n",
    "Multiplication(43,64,75)"
   ]
  },
  {
   "cell_type": "code",
   "execution_count": null,
   "id": "334eccf5",
   "metadata": {},
   "outputs": [],
   "source": []
  },
  {
   "cell_type": "code",
   "execution_count": null,
   "id": "ec7c8b5c",
   "metadata": {},
   "outputs": [],
   "source": []
  },
  {
   "cell_type": "code",
   "execution_count": null,
   "id": "a8b5c59f",
   "metadata": {},
   "outputs": [],
   "source": []
  },
  {
   "cell_type": "code",
   "execution_count": null,
   "id": "d2126e9c",
   "metadata": {},
   "outputs": [],
   "source": []
  },
  {
   "cell_type": "code",
   "execution_count": 7,
   "id": "df34a6a0",
   "metadata": {},
   "outputs": [],
   "source": [
    "import  matplotlib.pyplot as plt\n"
   ]
  },
  {
   "cell_type": "code",
   "execution_count": 9,
   "id": "47fc6e46",
   "metadata": {},
   "outputs": [
    {
     "data": {
      "text/plain": [
       "(array([1., 0., 0., 0., 0., 0., 0., 0., 1., 1.]),\n",
       " array([ 35. ,  95.8, 156.6, 217.4, 278.2, 339. , 399.8, 460.6, 521.4,\n",
       "        582.2, 643. ]),\n",
       " <BarContainer object of 10 artists>)"
      ]
     },
     "execution_count": 9,
     "metadata": {},
     "output_type": "execute_result"
    },
    {
     "data": {
      "image/png": "[encoded data removed]",
      "text/plain": [
       "<Figure size 640x480 with 1 Axes>"
      ]
     },
     "metadata": {},
     "output_type": "display_data"
    }
   ],
   "source": [
    "plt.hist([563,35,643])"
   ]
  },
  {
   "cell_type": "code",
   "execution_count": null,
   "id": "6999e423",
   "metadata": {},
   "outputs": [],
   "source": [
    "from sklearn.preprocessing import LabelEncoder"
   ]
  }
 ],
 "metadata": {
  "kernelspec": {
   "display_name": "Python 3",
   "language": "python",
   "name": "python3"
  },
  "language_info": {
   "codemirror_mode": {
    "name": "ipython",
    "version": 3
   },
   "file_extension": ".py",
   "mimetype": "text/x-python",
   "name": "python",
   "nbconvert_exporter": "python",
   "pygments_lexer": "ipython3",
   "version": "3.11.9"
  }
 },
 "nbformat": 4,
 "nbformat_minor": 5
}
