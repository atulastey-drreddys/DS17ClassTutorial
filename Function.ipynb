{
 "cells": [
  {
   "cell_type": "code",
   "execution_count": 1,
   "id": "ecc9a96c",
   "metadata": {},
   "outputs": [],
   "source": [
    "# arbitrary argument"
   ]
  },
  {
   "cell_type": "code",
   "execution_count": 2,
   "id": "b81eab65",
   "metadata": {},
   "outputs": [
    {
     "name": "stdout",
     "output_type": "stream",
     "text": [
      "46\n",
      "1964\n"
     ]
    }
   ],
   "source": [
    "def Mouse(*arg):\n",
    "    total = 0\n",
    "    for i in arg:\n",
    "        total += i\n",
    "    return total\n",
    "\n",
    "print(Mouse(4,5,6,6,7,3,4,6,5))\n",
    "print(Mouse(4,5,6,6,79,33,4,546,5,643,234,54,345,))\n"
   ]
  },
  {
   "cell_type": "code",
   "execution_count": 3,
   "id": "0391c251",
   "metadata": {},
   "outputs": [
    {
     "name": "stdout",
     "output_type": "stream",
     "text": [
      "1814400\n",
      "57456061308854208000\n"
     ]
    }
   ],
   "source": [
    "def Mouse(*arg):\n",
    "    total = 1\n",
    "    for i in arg:\n",
    "        total *= i\n",
    "    return total\n",
    "\n",
    "print(Mouse(4,5,6,6,7,3,4,6,5))\n",
    "print(Mouse(4,5,6,6,79,33,4,546,5,643,234,54,345,))"
   ]
  },
  {
   "cell_type": "code",
   "execution_count": 4,
   "id": "1e0b6f50",
   "metadata": {},
   "outputs": [
    {
     "name": "stdout",
     "output_type": "stream",
     "text": [
      "28\n",
      "1221\n"
     ]
    }
   ],
   "source": [
    "def Mouse(*arg):\n",
    "    total = 0\n",
    "    for i in arg:\n",
    "        total += i\n",
    "    return total\n",
    "x = [3,5,3,5,4,5,3] # pass a list in a function as a arbitrary argument\n",
    "print(Mouse(*x))\n",
    "print(Mouse(*[523,64,634]))"
   ]
  },
  {
   "cell_type": "code",
   "execution_count": 11,
   "id": "b59dbcc4",
   "metadata": {},
   "outputs": [
    {
     "name": "stdout",
     "output_type": "stream",
     "text": [
      "name:Atul\n",
      "Age:27\n",
      "Designation:Trainer\n"
     ]
    }
   ],
   "source": [
    "# kwargs\n",
    "\n",
    "def Mouse(**arg):\n",
    "    for i,j in arg.items():\n",
    "        print(f\"{i}:{j}\")\n",
    "    \n",
    "Mouse(name = \"Atul\",Age = 27,Designation = \"Trainer\")"
   ]
  },
  {
   "cell_type": "code",
   "execution_count": 18,
   "id": "c96cd0e7",
   "metadata": {},
   "outputs": [
    {
     "name": "stdout",
     "output_type": "stream",
     "text": [
      "2\n",
      "6\n",
      "120\n",
      "1307674368000\n"
     ]
    }
   ],
   "source": [
    "# recursion\n",
    "\n",
    "def Fact(n):\n",
    "    if n <= 0:\n",
    "        return 0\n",
    "    elif n == 1:\n",
    "        return 1\n",
    "    else:\n",
    "        return n * Fact(n-1)\n",
    "print(Fact(2))\n",
    "print(Fact(3))\n",
    "print(Fact(5))\n",
    "print(Fact(15))\n"
   ]
  },
  {
   "cell_type": "code",
   "execution_count": 16,
   "id": "e64f2fd1",
   "metadata": {},
   "outputs": [
    {
     "name": "stdout",
     "output_type": "stream",
     "text": [
      "15\n",
      "120\n"
     ]
    }
   ],
   "source": [
    "def Counter(n):\n",
    "    if n <= 0:\n",
    "        return 0\n",
    "    else:\n",
    "        return n + Counter(n-1)\n",
    "print(Counter(5))\n",
    "print(Counter(15))"
   ]
  },
  {
   "cell_type": "code",
   "execution_count": 19,
   "id": "9ed08c93",
   "metadata": {},
   "outputs": [],
   "source": [
    "# lambda function"
   ]
  },
  {
   "cell_type": "code",
   "execution_count": 21,
   "id": "afa7713f",
   "metadata": {},
   "outputs": [
    {
     "name": "stdout",
     "output_type": "stream",
     "text": [
      "11\n"
     ]
    }
   ],
   "source": [
    "add = lambda a, b : a + b\n",
    "print(add(5,6))"
   ]
  },
  {
   "cell_type": "code",
   "execution_count": 23,
   "id": "085c9dfe",
   "metadata": {},
   "outputs": [
    {
     "name": "stdout",
     "output_type": "stream",
     "text": [
      "21\n"
     ]
    }
   ],
   "source": [
    "add = lambda a, b, c : a + b + c\n",
    "print(add(5,6,10))"
   ]
  },
  {
   "cell_type": "code",
   "execution_count": 26,
   "id": "344c4546",
   "metadata": {},
   "outputs": [
    {
     "name": "stdout",
     "output_type": "stream",
     "text": [
      "168\n"
     ]
    }
   ],
   "source": [
    "multi = lambda x,y,z : x * y * z\n",
    "print(multi(4,6,7))"
   ]
  },
  {
   "cell_type": "code",
   "execution_count": 27,
   "id": "7f39859a",
   "metadata": {},
   "outputs": [
    {
     "data": {
      "text/plain": [
       "'PYTHON'"
      ]
     },
     "execution_count": 27,
     "metadata": {},
     "output_type": "execute_result"
    }
   ],
   "source": [
    "String = lambda x : x.upper()\n",
    "String(\"python\")"
   ]
  },
  {
   "cell_type": "code",
   "execution_count": 28,
   "id": "2e5c521c",
   "metadata": {},
   "outputs": [
    {
     "name": "stdout",
     "output_type": "stream",
     "text": [
      "[1, 2, 3, 4, 5, 6, 7, 8, 9, 10, 11, 12, 13, 14, 15, 16, 17, 18, 19, 20, 21, 22, 23, 24, 25, 26, 27, 28, 29, 30, 31, 32, 33, 34, 35, 36, 37, 38, 39, 40, 41, 42, 43, 44, 45, 46, 47, 48, 49, 50, 51, 52, 53, 54, 55, 56, 57, 58, 59, 60, 61, 62, 63, 64, 65, 66, 67, 68, 69, 70, 71, 72, 73, 74, 75, 76, 77, 78, 79, 80, 81, 82, 83, 84, 85, 86, 87, 88, 89, 90, 91, 92, 93, 94, 95, 96, 97, 98, 99]\n"
     ]
    }
   ],
   "source": [
    "my_list = list(range(1,100))\n",
    "print(my_list)"
   ]
  },
  {
   "cell_type": "code",
   "execution_count": 30,
   "id": "93a42055",
   "metadata": {},
   "outputs": [
    {
     "name": "stdout",
     "output_type": "stream",
     "text": [
      "[1, 4, 9, 16, 25, 36, 49, 64, 81, 100, 121, 144, 169, 196, 225, 256, 289, 324, 361, 400, 441, 484, 529, 576, 625, 676, 729, 784, 841, 900, 961, 1024, 1089, 1156, 1225, 1296, 1369, 1444, 1521, 1600, 1681, 1764, 1849, 1936, 2025, 2116, 2209, 2304, 2401, 2500, 2601, 2704, 2809, 2916, 3025, 3136, 3249, 3364, 3481, 3600, 3721, 3844, 3969, 4096, 4225, 4356, 4489, 4624, 4761, 4900, 5041, 5184, 5329, 5476, 5625, 5776, 5929, 6084, 6241, 6400, 6561, 6724, 6889, 7056, 7225, 7396, 7569, 7744, 7921, 8100, 8281, 8464, 8649, 8836, 9025, 9216, 9409, 9604, 9801]\n"
     ]
    }
   ],
   "source": [
    "print(list(map(lambda x : x**2, my_list)))"
   ]
  },
  {
   "cell_type": "code",
   "execution_count": 31,
   "id": "da01a903",
   "metadata": {},
   "outputs": [
    {
     "name": "stdout",
     "output_type": "stream",
     "text": [
      "['RUBY', 'PYTHON', 'JASMIT']\n"
     ]
    }
   ],
   "source": [
    "ui = ['ruby', 'python','jasmit',]\n",
    "print(list(map(lambda x: x.upper(),ui)))"
   ]
  },
  {
   "cell_type": "code",
   "execution_count": 33,
   "id": "f91e08eb",
   "metadata": {},
   "outputs": [
    {
     "name": "stdout",
     "output_type": "stream",
     "text": [
      "[1, 2, 3, 4, 5, 6, 7, 8, 9, 10, 11, 12, 13, 14, 15, 16, 17, 18, 19, 20, 21, 22, 23, 24, 25, 26, 27, 28, 29, 30, 31, 32, 33, 34, 35, 36, 37, 38, 39, 40, 41, 42, 43, 44, 45, 46, 47, 48, 49, 50, 51, 52, 53, 54, 55, 56, 57, 58, 59, 60, 61, 62, 63, 64, 65, 66, 67, 68, 69, 70, 71, 72, 73, 74, 75, 76, 77, 78, 79, 80, 81, 82, 83, 84, 85, 86, 87, 88, 89, 90, 91, 92, 93, 94, 95, 96, 97, 98, 99]\n",
      "[2, 4, 6, 8, 10, 12, 14, 16, 18, 20, 22, 24, 26, 28, 30, 32, 34, 36, 38, 40, 42, 44, 46, 48, 50, 52, 54, 56, 58, 60, 62, 64, 66, 68, 70, 72, 74, 76, 78, 80, 82, 84, 86, 88, 90, 92, 94, 96, 98]\n",
      "[1, 3, 5, 7, 9, 11, 13, 15, 17, 19, 21, 23, 25, 27, 29, 31, 33, 35, 37, 39, 41, 43, 45, 47, 49, 51, 53, 55, 57, 59, 61, 63, 65, 67, 69, 71, 73, 75, 77, 79, 81, 83, 85, 87, 89, 91, 93, 95, 97, 99]\n"
     ]
    }
   ],
   "source": [
    "my_list = list(range(1,100))\n",
    "print(my_list)\n",
    "print(list(filter(lambda x: x%2 ==0, my_list)))\n",
    "print(list(filter(lambda x: x%2 ==1, my_list)))"
   ]
  },
  {
   "cell_type": "code",
   "execution_count": 35,
   "id": "c0039773",
   "metadata": {},
   "outputs": [
    {
     "data": {
      "text/plain": [
       "70"
      ]
     },
     "execution_count": 35,
     "metadata": {},
     "output_type": "execute_result"
    }
   ],
   "source": [
    "i = lambda a,b: a if a>b else b\n",
    "i(7,9)\n",
    "i(70,9)"
   ]
  },
  {
   "cell_type": "code",
   "execution_count": null,
   "id": "06c03e82",
   "metadata": {},
   "outputs": [],
   "source": []
  }
 ],
 "metadata": {
  "kernelspec": {
   "display_name": "Python 3",
   "language": "python",
   "name": "python3"
  },
  "language_info": {
   "codemirror_mode": {
    "name": "ipython",
    "version": 3
   },
   "file_extension": ".py",
   "mimetype": "text/x-python",
   "name": "python",
   "nbconvert_exporter": "python",
   "pygments_lexer": "ipython3",
   "version": "3.11.9"
  }
 },
 "nbformat": 4,
 "nbformat_minor": 5
}
