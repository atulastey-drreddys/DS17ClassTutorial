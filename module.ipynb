{
 "cells": [
  {
   "cell_type": "code",
   "execution_count": 1,
   "id": "7625274a",
   "metadata": {},
   "outputs": [],
   "source": [
    "import math as mt\n"
   ]
  },
  {
   "cell_type": "code",
   "execution_count": 3,
   "id": "dd1e2646",
   "metadata": {},
   "outputs": [
    {
     "name": "stdout",
     "output_type": "stream",
     "text": [
      "24\n",
      "720\n"
     ]
    }
   ],
   "source": [
    "print(mt.factorial(4))\n",
    "print(mt.factorial(6))"
   ]
  },
  {
   "cell_type": "code",
   "execution_count": 6,
   "id": "79acd9bb",
   "metadata": {},
   "outputs": [
    {
     "name": "stdout",
     "output_type": "stream",
     "text": [
      "5436.0\n",
      "5.436\n",
      "5436.0\n"
     ]
    }
   ],
   "source": [
    "print(mt.fabs(5436))\n",
    "print(mt.fabs(5.436))\n",
    "print(mt.fabs(-5436))"
   ]
  },
  {
   "cell_type": "code",
   "execution_count": 8,
   "id": "251308c6",
   "metadata": {},
   "outputs": [
    {
     "name": "stdout",
     "output_type": "stream",
     "text": [
      "67\n",
      "57\n"
     ]
    }
   ],
   "source": [
    "print(round(67.34))\n",
    "print(round(56.52))"
   ]
  },
  {
   "cell_type": "code",
   "execution_count": 10,
   "id": "f952f0bf",
   "metadata": {},
   "outputs": [
    {
     "name": "stdout",
     "output_type": "stream",
     "text": [
      "563\n",
      "25455\n"
     ]
    }
   ],
   "source": [
    "print(abs(563))\n",
    "print(abs(-25455))"
   ]
  },
  {
   "cell_type": "code",
   "execution_count": null,
   "id": "d0388a74",
   "metadata": {},
   "outputs": [
    {
     "name": "stdout",
     "output_type": "stream",
     "text": [
      "35\n",
      "35\n",
      "38\n"
     ]
    }
   ],
   "source": [
    "# floor \n",
    "print(mt.floor(35.68))\n",
    "print(mt.floor(35.99))\n",
    "print(mt.floor(38.1))"
   ]
  },
  {
   "cell_type": "code",
   "execution_count": null,
   "id": "9048e961",
   "metadata": {},
   "outputs": [
    {
     "name": "stdout",
     "output_type": "stream",
     "text": [
      "39\n",
      "39\n"
     ]
    }
   ],
   "source": [
    "# ceil\n",
    "print(mt.ceil(38.90))\n",
    "print(mt.ceil(38.10))"
   ]
  },
  {
   "cell_type": "code",
   "execution_count": 17,
   "id": "ccbb5cb1",
   "metadata": {},
   "outputs": [
    {
     "name": "stdout",
     "output_type": "stream",
     "text": [
      "16.0\n",
      "9.0\n",
      "1296.0\n",
      "1296\n"
     ]
    }
   ],
   "source": [
    "# pow\n",
    "\n",
    "print(mt.pow(2,4))\n",
    "print(mt.pow(3,2))\n",
    "print(mt.pow(6,4))\n",
    "print(int(mt.pow(6,4)))"
   ]
  },
  {
   "cell_type": "code",
   "execution_count": 20,
   "id": "1b43af1d",
   "metadata": {},
   "outputs": [
    {
     "name": "stdout",
     "output_type": "stream",
     "text": [
      "4.0\n",
      "5.0\n",
      "12.649110640673518\n"
     ]
    }
   ],
   "source": [
    "# sqrt\n",
    "print(mt.sqrt(16))\n",
    "print(mt.sqrt(25))\n",
    "print(mt.sqrt(160))"
   ]
  },
  {
   "cell_type": "code",
   "execution_count": 22,
   "id": "685c025e",
   "metadata": {},
   "outputs": [
    {
     "name": "stdout",
     "output_type": "stream",
     "text": [
      "3.0\n",
      "4.0\n"
     ]
    }
   ],
   "source": [
    "# cbrt\n",
    "print(mt.cbrt(27))\n",
    "print(mt.cbrt(64))"
   ]
  },
  {
   "cell_type": "code",
   "execution_count": 24,
   "id": "770d7412",
   "metadata": {},
   "outputs": [
    {
     "name": "stdout",
     "output_type": "stream",
     "text": [
      "18.0\n",
      "1246.0\n"
     ]
    }
   ],
   "source": [
    "print(mt.fsum([5,3,6,4,]))\n",
    "print(mt.fsum([5,3,6,4,10,34,254,64,345,65,456]))"
   ]
  },
  {
   "cell_type": "code",
   "execution_count": null,
   "id": "22dc7a01",
   "metadata": {},
   "outputs": [
    {
     "name": "stdout",
     "output_type": "stream",
     "text": [
      "2025-07-04 11:16:41.196563\n",
      "2025\n",
      "7\n",
      "2025-07-04\n",
      "4\n",
      "11\n",
      "16\n",
      "41\n",
      "196563\n"
     ]
    }
   ],
   "source": [
    "from datetime import datetime\n",
    "dt = datetime.today()\n",
    "print(dt)\n",
    "print(dt.year)\n",
    "print(dt.month)\n",
    "print(dt.date())\n",
    "print(dt.day)\n",
    "print(dt.hour)\n",
    "print(dt.minute)\n",
    "print(dt.second)\n",
    "print(dt.microsecond)\n"
   ]
  },
  {
   "cell_type": "code",
   "execution_count": 55,
   "id": "efaf48c0",
   "metadata": {},
   "outputs": [
    {
     "name": "stdout",
     "output_type": "stream",
     "text": [
      "Fri\n",
      "Friday\n",
      "Jul\n",
      "July\n",
      "Fri Jul  4 11:24:29 2025\n",
      "20\n",
      "04\n",
      "07/04/25\n",
      "24\n",
      "07\n",
      "5\n",
      "26\n"
     ]
    }
   ],
   "source": [
    "dd = datetime.today()\n",
    "print(dd.strftime(\"%a\"))\n",
    "print(dd.strftime(\"%A\"))\n",
    "print(dd.strftime(\"%b\"))\n",
    "print(dd.strftime(\"%B\"))\n",
    "print(dd.strftime(\"%c\"))\n",
    "print(dd.strftime(\"%C\"))\n",
    "print(dd.strftime(\"%d\"))\n",
    "print(dd.strftime(\"%D\"))\n",
    "print(dd.strftime(\"%M\"))\n",
    "print(dd.strftime(\"%m\"))\n",
    "print(dd.strftime(\"%w\"))\n",
    "print(dd.strftime(\"%W\"))\n"
   ]
  },
  {
   "cell_type": "code",
   "execution_count": 26,
   "id": "b2ad2422",
   "metadata": {},
   "outputs": [
    {
     "data": {
      "text/plain": [
       "datetime.time(11, 13, 15, 318916)"
      ]
     },
     "execution_count": 26,
     "metadata": {},
     "output_type": "execute_result"
    }
   ],
   "source": [
    "dt.time()"
   ]
  },
  {
   "cell_type": "code",
   "execution_count": 57,
   "id": "89cf125a",
   "metadata": {},
   "outputs": [
    {
     "name": "stdout",
     "output_type": "stream",
     "text": [
      "                                  2025\n",
      "\n",
      "      January                   February                   March\n",
      "Mo Tu We Th Fr Sa Su      Mo Tu We Th Fr Sa Su      Mo Tu We Th Fr Sa Su\n",
      "       1  2  3  4  5                      1  2                      1  2\n",
      " 6  7  8  9 10 11 12       3  4  5  6  7  8  9       3  4  5  6  7  8  9\n",
      "13 14 15 16 17 18 19      10 11 12 13 14 15 16      10 11 12 13 14 15 16\n",
      "20 21 22 23 24 25 26      17 18 19 20 21 22 23      17 18 19 20 21 22 23\n",
      "27 28 29 30 31            24 25 26 27 28            24 25 26 27 28 29 30\n",
      "                                                    31\n",
      "\n",
      "       April                      May                       June\n",
      "Mo Tu We Th Fr Sa Su      Mo Tu We Th Fr Sa Su      Mo Tu We Th Fr Sa Su\n",
      "    1  2  3  4  5  6                1  2  3  4                         1\n",
      " 7  8  9 10 11 12 13       5  6  7  8  9 10 11       2  3  4  5  6  7  8\n",
      "14 15 16 17 18 19 20      12 13 14 15 16 17 18       9 10 11 12 13 14 15\n",
      "21 22 23 24 25 26 27      19 20 21 22 23 24 25      16 17 18 19 20 21 22\n",
      "28 29 30                  26 27 28 29 30 31         23 24 25 26 27 28 29\n",
      "                                                    30\n",
      "\n",
      "        July                     August                  September\n",
      "Mo Tu We Th Fr Sa Su      Mo Tu We Th Fr Sa Su      Mo Tu We Th Fr Sa Su\n",
      "    1  2  3  4  5  6                   1  2  3       1  2  3  4  5  6  7\n",
      " 7  8  9 10 11 12 13       4  5  6  7  8  9 10       8  9 10 11 12 13 14\n",
      "14 15 16 17 18 19 20      11 12 13 14 15 16 17      15 16 17 18 19 20 21\n",
      "21 22 23 24 25 26 27      18 19 20 21 22 23 24      22 23 24 25 26 27 28\n",
      "28 29 30 31               25 26 27 28 29 30 31      29 30\n",
      "\n",
      "      October                   November                  December\n",
      "Mo Tu We Th Fr Sa Su      Mo Tu We Th Fr Sa Su      Mo Tu We Th Fr Sa Su\n",
      "       1  2  3  4  5                      1  2       1  2  3  4  5  6  7\n",
      " 6  7  8  9 10 11 12       3  4  5  6  7  8  9       8  9 10 11 12 13 14\n",
      "13 14 15 16 17 18 19      10 11 12 13 14 15 16      15 16 17 18 19 20 21\n",
      "20 21 22 23 24 25 26      17 18 19 20 21 22 23      22 23 24 25 26 27 28\n",
      "27 28 29 30 31            24 25 26 27 28 29 30      29 30 31\n",
      "\n"
     ]
    }
   ],
   "source": [
    "import calendar\n",
    "\n",
    "print(calendar.calendar(2025))"
   ]
  },
  {
   "cell_type": "code",
   "execution_count": 58,
   "id": "70d9b2fa",
   "metadata": {},
   "outputs": [
    {
     "name": "stdout",
     "output_type": "stream",
     "text": [
      "                                  2026\n",
      "\n",
      "      January                   February                   March\n",
      "Mo Tu We Th Fr Sa Su      Mo Tu We Th Fr Sa Su      Mo Tu We Th Fr Sa Su\n",
      "          1  2  3  4                         1                         1\n",
      " 5  6  7  8  9 10 11       2  3  4  5  6  7  8       2  3  4  5  6  7  8\n",
      "12 13 14 15 16 17 18       9 10 11 12 13 14 15       9 10 11 12 13 14 15\n",
      "19 20 21 22 23 24 25      16 17 18 19 20 21 22      16 17 18 19 20 21 22\n",
      "26 27 28 29 30 31         23 24 25 26 27 28         23 24 25 26 27 28 29\n",
      "                                                    30 31\n",
      "\n",
      "       April                      May                       June\n",
      "Mo Tu We Th Fr Sa Su      Mo Tu We Th Fr Sa Su      Mo Tu We Th Fr Sa Su\n",
      "       1  2  3  4  5                   1  2  3       1  2  3  4  5  6  7\n",
      " 6  7  8  9 10 11 12       4  5  6  7  8  9 10       8  9 10 11 12 13 14\n",
      "13 14 15 16 17 18 19      11 12 13 14 15 16 17      15 16 17 18 19 20 21\n",
      "20 21 22 23 24 25 26      18 19 20 21 22 23 24      22 23 24 25 26 27 28\n",
      "27 28 29 30               25 26 27 28 29 30 31      29 30\n",
      "\n",
      "        July                     August                  September\n",
      "Mo Tu We Th Fr Sa Su      Mo Tu We Th Fr Sa Su      Mo Tu We Th Fr Sa Su\n",
      "       1  2  3  4  5                      1  2          1  2  3  4  5  6\n",
      " 6  7  8  9 10 11 12       3  4  5  6  7  8  9       7  8  9 10 11 12 13\n",
      "13 14 15 16 17 18 19      10 11 12 13 14 15 16      14 15 16 17 18 19 20\n",
      "20 21 22 23 24 25 26      17 18 19 20 21 22 23      21 22 23 24 25 26 27\n",
      "27 28 29 30 31            24 25 26 27 28 29 30      28 29 30\n",
      "                          31\n",
      "\n",
      "      October                   November                  December\n",
      "Mo Tu We Th Fr Sa Su      Mo Tu We Th Fr Sa Su      Mo Tu We Th Fr Sa Su\n",
      "          1  2  3  4                         1          1  2  3  4  5  6\n",
      " 5  6  7  8  9 10 11       2  3  4  5  6  7  8       7  8  9 10 11 12 13\n",
      "12 13 14 15 16 17 18       9 10 11 12 13 14 15      14 15 16 17 18 19 20\n",
      "19 20 21 22 23 24 25      16 17 18 19 20 21 22      21 22 23 24 25 26 27\n",
      "26 27 28 29 30 31         23 24 25 26 27 28 29      28 29 30 31\n",
      "                          30\n",
      "\n"
     ]
    }
   ],
   "source": [
    "print(calendar.calendar(2026))"
   ]
  },
  {
   "cell_type": "code",
   "execution_count": 62,
   "id": "36cc5dca",
   "metadata": {},
   "outputs": [
    {
     "name": "stdout",
     "output_type": "stream",
     "text": [
      "0\n",
      "1\n",
      "2\n",
      "3\n",
      "4\n",
      "5\n",
      "6\n",
      "7\n",
      "8\n",
      "9\n",
      "10\n",
      "11\n",
      "12\n",
      "13\n",
      "14\n",
      "15\n",
      "16\n",
      "17\n",
      "18\n",
      "19\n",
      "20\n",
      "21\n",
      "22\n",
      "23\n",
      "24\n",
      "25\n",
      "26\n",
      "27\n",
      "28\n",
      "29\n",
      "30\n",
      "31\n",
      "0\n",
      "0\n",
      "0\n"
     ]
    }
   ],
   "source": [
    "cal = calendar.Calendar()\n",
    "for i in cal.itermonthdays(2025,7):\n",
    "    print(i)"
   ]
  },
  {
   "cell_type": "code",
   "execution_count": 69,
   "id": "078d3658",
   "metadata": {},
   "outputs": [
    {
     "name": "stdout",
     "output_type": "stream",
     "text": [
      "(0, 1)\n",
      "(0, 2)\n",
      "(0, 3)\n",
      "(1, 4)\n",
      "(2, 5)\n",
      "(3, 6)\n",
      "(4, 0)\n",
      "(5, 1)\n",
      "(6, 2)\n",
      "(7, 3)\n",
      "(8, 4)\n",
      "(9, 5)\n",
      "(10, 6)\n",
      "(11, 0)\n",
      "(12, 1)\n",
      "(13, 2)\n",
      "(14, 3)\n",
      "(15, 4)\n",
      "(16, 5)\n",
      "(17, 6)\n",
      "(18, 0)\n",
      "(19, 1)\n",
      "(20, 2)\n",
      "(21, 3)\n",
      "(22, 4)\n",
      "(23, 5)\n",
      "(24, 6)\n",
      "(25, 0)\n",
      "(26, 1)\n",
      "(27, 2)\n",
      "(28, 3)\n",
      "(29, 4)\n",
      "(30, 5)\n",
      "(31, 6)\n",
      "(0, 0)\n"
     ]
    }
   ],
   "source": [
    "cal = calendar.Calendar(firstweekday=1)\n",
    "for i in cal.itermonthdays2(2025,8):\n",
    "    print(i)"
   ]
  },
  {
   "cell_type": "code",
   "execution_count": 64,
   "id": "85039442",
   "metadata": {},
   "outputs": [
    {
     "name": "stdout",
     "output_type": "stream",
     "text": [
      "(2025, 6, 30)\n",
      "(2025, 7, 1)\n",
      "(2025, 7, 2)\n",
      "(2025, 7, 3)\n",
      "(2025, 7, 4)\n",
      "(2025, 7, 5)\n",
      "(2025, 7, 6)\n",
      "(2025, 7, 7)\n",
      "(2025, 7, 8)\n",
      "(2025, 7, 9)\n",
      "(2025, 7, 10)\n",
      "(2025, 7, 11)\n",
      "(2025, 7, 12)\n",
      "(2025, 7, 13)\n",
      "(2025, 7, 14)\n",
      "(2025, 7, 15)\n",
      "(2025, 7, 16)\n",
      "(2025, 7, 17)\n",
      "(2025, 7, 18)\n",
      "(2025, 7, 19)\n",
      "(2025, 7, 20)\n",
      "(2025, 7, 21)\n",
      "(2025, 7, 22)\n",
      "(2025, 7, 23)\n",
      "(2025, 7, 24)\n",
      "(2025, 7, 25)\n",
      "(2025, 7, 26)\n",
      "(2025, 7, 27)\n",
      "(2025, 7, 28)\n",
      "(2025, 7, 29)\n",
      "(2025, 7, 30)\n",
      "(2025, 7, 31)\n",
      "(2025, 8, 1)\n",
      "(2025, 8, 2)\n",
      "(2025, 8, 3)\n"
     ]
    }
   ],
   "source": [
    "cal = calendar.Calendar()\n",
    "for i in cal.itermonthdays3(2025,7):\n",
    "    print(i)"
   ]
  },
  {
   "cell_type": "code",
   "execution_count": 65,
   "id": "64a7530a",
   "metadata": {},
   "outputs": [
    {
     "name": "stdout",
     "output_type": "stream",
     "text": [
      "(2025, 6, 30, 0)\n",
      "(2025, 7, 1, 1)\n",
      "(2025, 7, 2, 2)\n",
      "(2025, 7, 3, 3)\n",
      "(2025, 7, 4, 4)\n",
      "(2025, 7, 5, 5)\n",
      "(2025, 7, 6, 6)\n",
      "(2025, 7, 7, 0)\n",
      "(2025, 7, 8, 1)\n",
      "(2025, 7, 9, 2)\n",
      "(2025, 7, 10, 3)\n",
      "(2025, 7, 11, 4)\n",
      "(2025, 7, 12, 5)\n",
      "(2025, 7, 13, 6)\n",
      "(2025, 7, 14, 0)\n",
      "(2025, 7, 15, 1)\n",
      "(2025, 7, 16, 2)\n",
      "(2025, 7, 17, 3)\n",
      "(2025, 7, 18, 4)\n",
      "(2025, 7, 19, 5)\n",
      "(2025, 7, 20, 6)\n",
      "(2025, 7, 21, 0)\n",
      "(2025, 7, 22, 1)\n",
      "(2025, 7, 23, 2)\n",
      "(2025, 7, 24, 3)\n",
      "(2025, 7, 25, 4)\n",
      "(2025, 7, 26, 5)\n",
      "(2025, 7, 27, 6)\n",
      "(2025, 7, 28, 0)\n",
      "(2025, 7, 29, 1)\n",
      "(2025, 7, 30, 2)\n",
      "(2025, 7, 31, 3)\n",
      "(2025, 8, 1, 4)\n",
      "(2025, 8, 2, 5)\n",
      "(2025, 8, 3, 6)\n"
     ]
    }
   ],
   "source": [
    "cal = calendar.Calendar()\n",
    "for i in cal.itermonthdays4(2025,7):\n",
    "    print(i)"
   ]
  },
  {
   "cell_type": "code",
   "execution_count": 70,
   "id": "5d657026",
   "metadata": {},
   "outputs": [],
   "source": [
    "import scipy as sp"
   ]
  },
  {
   "cell_type": "code",
   "execution_count": 71,
   "id": "13f0e992",
   "metadata": {},
   "outputs": [],
   "source": [
    "from scipy import stats"
   ]
  },
  {
   "cell_type": "code",
   "execution_count": 72,
   "id": "7f7c6d68",
   "metadata": {},
   "outputs": [],
   "source": [
    "from scipy import constants\n"
   ]
  },
  {
   "cell_type": "code",
   "execution_count": 74,
   "id": "1861ed10",
   "metadata": {},
   "outputs": [
    {
     "data": {
      "text/plain": [
       "0.15898729492799998"
      ]
     },
     "execution_count": 74,
     "metadata": {},
     "output_type": "execute_result"
    }
   ],
   "source": [
    "constants.barrel"
   ]
  },
  {
   "cell_type": "code",
   "execution_count": 75,
   "id": "0a2861f3",
   "metadata": {},
   "outputs": [
    {
     "data": {
      "text/plain": [
       "4046.8564223999992"
      ]
     },
     "execution_count": 75,
     "metadata": {},
     "output_type": "execute_result"
    }
   ],
   "source": [
    "constants.acre"
   ]
  },
  {
   "cell_type": "code",
   "execution_count": 76,
   "id": "80f5fc00",
   "metadata": {},
   "outputs": [
    {
     "data": {
      "text/plain": [
       "0.30479999999999996"
      ]
     },
     "execution_count": 76,
     "metadata": {},
     "output_type": "execute_result"
    }
   ],
   "source": [
    "constants.foot"
   ]
  },
  {
   "cell_type": "code",
   "execution_count": null,
   "id": "554b040a",
   "metadata": {},
   "outputs": [],
   "source": []
  }
 ],
 "metadata": {
  "kernelspec": {
   "display_name": "Python 3",
   "language": "python",
   "name": "python3"
  },
  "language_info": {
   "codemirror_mode": {
    "name": "ipython",
    "version": 3
   },
   "file_extension": ".py",
   "mimetype": "text/x-python",
   "name": "python",
   "nbconvert_exporter": "python",
   "pygments_lexer": "ipython3",
   "version": "3.11.9"
  }
 },
 "nbformat": 4,
 "nbformat_minor": 5
}
