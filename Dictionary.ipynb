{
 "cells": [
  {
   "cell_type": "code",
   "execution_count": 3,
   "id": "1b29d86a",
   "metadata": {},
   "outputs": [
    {
     "name": "stdout",
     "output_type": "stream",
     "text": [
      "{}\n",
      "<class 'dict'>\n",
      "0\n"
     ]
    }
   ],
   "source": [
    "dict1 = {}\n",
    "print(dict1)\n",
    "print(type(dict1))\n",
    "print(len(dict1))"
   ]
  },
  {
   "cell_type": "code",
   "execution_count": 4,
   "id": "4ecc27a1",
   "metadata": {},
   "outputs": [
    {
     "name": "stdout",
     "output_type": "stream",
     "text": [
      "{'name': 'Vinay'}\n",
      "1\n"
     ]
    }
   ],
   "source": [
    "d2 = {\"name\":\"Vinay\"}\n",
    "print(d2)\n",
    "print(len(d2))"
   ]
  },
  {
   "cell_type": "code",
   "execution_count": 5,
   "id": "c4444302",
   "metadata": {},
   "outputs": [
    {
     "name": "stdout",
     "output_type": "stream",
     "text": [
      "{'name': 'Vinay', 'Age': 45}\n",
      "2\n"
     ]
    }
   ],
   "source": [
    "d2 = {\"name\":\"Vinay\",\"Age\":45}\n",
    "print(d2)\n",
    "print(len(d2))"
   ]
  },
  {
   "cell_type": "code",
   "execution_count": 6,
   "id": "fdaa019f",
   "metadata": {},
   "outputs": [
    {
     "name": "stdout",
     "output_type": "stream",
     "text": [
      "{'name': 'Anuj', 'City': 'Indore'}\n",
      "2\n"
     ]
    }
   ],
   "source": [
    "d3 = {\"name\":\"Vinay\",\"City\":\"Indore\",\"name\":\"Anuj\"}\n",
    "print(d3)\n",
    "print(len(d3))"
   ]
  },
  {
   "cell_type": "code",
   "execution_count": 7,
   "id": "eebf6d11",
   "metadata": {},
   "outputs": [
    {
     "name": "stdout",
     "output_type": "stream",
     "text": [
      "{'Name': 'Vinay', 'City': 'Indore', 'name': 'Anuj'}\n",
      "3\n"
     ]
    }
   ],
   "source": [
    "d3 = {\"Name\":\"Vinay\",\"City\":\"Indore\",\"name\":\"Anuj\"}\n",
    "print(d3)\n",
    "print(len(d3))"
   ]
  },
  {
   "cell_type": "code",
   "execution_count": 11,
   "id": "db887f38",
   "metadata": {},
   "outputs": [
    {
     "name": "stdout",
     "output_type": "stream",
     "text": [
      "{'Name': ['Vijay', 'Vishal', 'Rahul', 'Jasmit', 'Sonali'], 'Age': [54, 63, 23, 66, 73], 'Location': ['Indore', 'Bhopal', 'Ujjain', 'Sagar', 'Katni']}\n"
     ]
    }
   ],
   "source": [
    "d4 = {\"Name\":['Vijay',\"Vishal\",\"Rahul\",\"Jasmit\",\"Sonali\"],\n",
    "      \"Age\":[54,63,23,66,73],\n",
    "      \"Location\":[\"Indore\",\"Bhopal\",\"Ujjain\",\"Sagar\",\"Katni\"]}\n",
    "print(d4)"
   ]
  },
  {
   "cell_type": "code",
   "execution_count": 12,
   "id": "7a15f293",
   "metadata": {},
   "outputs": [
    {
     "ename": "KeyError",
     "evalue": "0",
     "output_type": "error",
     "traceback": [
      "\u001b[31m---------------------------------------------------------------------------\u001b[39m",
      "\u001b[31mKeyError\u001b[39m                                  Traceback (most recent call last)",
      "\u001b[36mCell\u001b[39m\u001b[36m \u001b[39m\u001b[32mIn[12]\u001b[39m\u001b[32m, line 1\u001b[39m\n\u001b[32m----> \u001b[39m\u001b[32m1\u001b[39m \u001b[43md4\u001b[49m\u001b[43m[\u001b[49m\u001b[32;43m0\u001b[39;49m\u001b[43m]\u001b[49m\n",
      "\u001b[31mKeyError\u001b[39m: 0"
     ]
    }
   ],
   "source": [
    "d4[0]"
   ]
  },
  {
   "cell_type": "code",
   "execution_count": 13,
   "id": "57f9f0f1",
   "metadata": {},
   "outputs": [
    {
     "data": {
      "text/plain": [
       "['Vijay', 'Vishal', 'Rahul', 'Jasmit', 'Sonali']"
      ]
     },
     "execution_count": 13,
     "metadata": {},
     "output_type": "execute_result"
    }
   ],
   "source": [
    "d4['Name']"
   ]
  },
  {
   "cell_type": "code",
   "execution_count": 14,
   "id": "3e918b93",
   "metadata": {},
   "outputs": [
    {
     "data": {
      "text/plain": [
       "'Vijay'"
      ]
     },
     "execution_count": 14,
     "metadata": {},
     "output_type": "execute_result"
    }
   ],
   "source": [
    "d4['Name'][0]"
   ]
  },
  {
   "cell_type": "code",
   "execution_count": 15,
   "id": "5970243e",
   "metadata": {},
   "outputs": [
    {
     "data": {
      "text/plain": [
       "'Jasmit'"
      ]
     },
     "execution_count": 15,
     "metadata": {},
     "output_type": "execute_result"
    }
   ],
   "source": [
    "d4['Name'][3]"
   ]
  },
  {
   "cell_type": "code",
   "execution_count": 16,
   "id": "2367f035",
   "metadata": {},
   "outputs": [
    {
     "data": {
      "text/plain": [
       "['Vishal', 'Rahul', 'Jasmit', 'Sonali']"
      ]
     },
     "execution_count": 16,
     "metadata": {},
     "output_type": "execute_result"
    }
   ],
   "source": [
    "d4['Name'][1:]"
   ]
  },
  {
   "cell_type": "code",
   "execution_count": 17,
   "id": "0e4948df",
   "metadata": {},
   "outputs": [
    {
     "data": {
      "text/plain": [
       "['Sonali', 'Jasmit', 'Rahul', 'Vishal', 'Vijay']"
      ]
     },
     "execution_count": 17,
     "metadata": {},
     "output_type": "execute_result"
    }
   ],
   "source": [
    "d4['Name'][::-1]"
   ]
  },
  {
   "cell_type": "code",
   "execution_count": 18,
   "id": "195bcd5a",
   "metadata": {},
   "outputs": [
    {
     "data": {
      "text/plain": [
       "23"
      ]
     },
     "execution_count": 18,
     "metadata": {},
     "output_type": "execute_result"
    }
   ],
   "source": [
    "d4['Age'][2]"
   ]
  },
  {
   "cell_type": "code",
   "execution_count": 19,
   "id": "7bec9d76",
   "metadata": {},
   "outputs": [
    {
     "data": {
      "text/plain": [
       "'Ujjain'"
      ]
     },
     "execution_count": 19,
     "metadata": {},
     "output_type": "execute_result"
    }
   ],
   "source": [
    "d4['Location'][2]"
   ]
  },
  {
   "cell_type": "code",
   "execution_count": 21,
   "id": "628a1e6c",
   "metadata": {},
   "outputs": [],
   "source": [
    "d4['Location'][2] = \"Ratlam\""
   ]
  },
  {
   "cell_type": "code",
   "execution_count": 22,
   "id": "c9242817",
   "metadata": {},
   "outputs": [
    {
     "data": {
      "text/plain": [
       "{'Name': ['Vijay', 'Vishal', 'Rahul', 'Jasmit', 'Sonali'],\n",
       " 'Age': [54, 63, 23, 66, 73],\n",
       " 'Location': ['Indore', 'Bhopal', 'Ratlam', 'Sagar', 'Katni']}"
      ]
     },
     "execution_count": 22,
     "metadata": {},
     "output_type": "execute_result"
    }
   ],
   "source": [
    "d4"
   ]
  },
  {
   "cell_type": "code",
   "execution_count": 23,
   "id": "849a9712",
   "metadata": {},
   "outputs": [
    {
     "data": {
      "text/plain": [
       "{'Name': ['Vijay', 'Virat', 'Rahul', 'Jasmit', 'Sonali'],\n",
       " 'Age': [54, 63, 23, 66, 73],\n",
       " 'Location': ['Indore', 'Bhopal', 'Ratlam', 'Sagar', 'Katni']}"
      ]
     },
     "execution_count": 23,
     "metadata": {},
     "output_type": "execute_result"
    }
   ],
   "source": [
    "d4['Name'][1] = \"Virat\"\n",
    "d4"
   ]
  },
  {
   "cell_type": "code",
   "execution_count": 24,
   "id": "e8e27baa",
   "metadata": {},
   "outputs": [
    {
     "data": {
      "text/plain": [
       "{'Name': ['Vijay', 'Virat', 'Rahul', 'Jasmit', 'Sonali'],\n",
       " 'Age': [54, 63, 23, 66, 73],\n",
       " 'Location': ['Indore', 'Bhopal', 'Ratlam', 'Sagar', 'Katni'],\n",
       " 'Gender': ['M', 'F', 'F', 'M', 'F']}"
      ]
     },
     "execution_count": 24,
     "metadata": {},
     "output_type": "execute_result"
    }
   ],
   "source": [
    "d4['Gender'] = [\"M\",\"F\",\"F\",\"M\",\"F\"]\n",
    "d4"
   ]
  },
  {
   "cell_type": "code",
   "execution_count": 25,
   "id": "e7d207d2",
   "metadata": {},
   "outputs": [],
   "source": [
    "d4['Qualification'] = [\"B.COm\",\"B.Sc.\",\"M.Sc\"]"
   ]
  },
  {
   "cell_type": "code",
   "execution_count": 26,
   "id": "f83a1e13",
   "metadata": {},
   "outputs": [
    {
     "data": {
      "text/plain": [
       "{'Name': ['Vijay', 'Virat', 'Rahul', 'Jasmit', 'Sonali'],\n",
       " 'Age': [54, 63, 23, 66, 73],\n",
       " 'Location': ['Indore', 'Bhopal', 'Ratlam', 'Sagar', 'Katni'],\n",
       " 'Gender': ['M', 'F', 'F', 'M', 'F'],\n",
       " 'Qualification': ['B.COm', 'B.Sc.', 'M.Sc']}"
      ]
     },
     "execution_count": 26,
     "metadata": {},
     "output_type": "execute_result"
    }
   ],
   "source": [
    "d4"
   ]
  },
  {
   "cell_type": "code",
   "execution_count": 30,
   "id": "dcdc3443",
   "metadata": {},
   "outputs": [
    {
     "data": {
      "text/plain": [
       "{'Name': ['Vijay', 'Virat', 'Rahul', 'Jasmit', 'Sonali', 'Rohit Sharma'],\n",
       " 'Age': [54, 63, 23, 66, 73],\n",
       " 'Location': ['Indore', 'Bhopal', 'Ratlam', 'Sagar', 'Katni'],\n",
       " 'Gender': ['M', 'F', 'F', 'M', 'F'],\n",
       " 'Qualification': ['B.COm', 'B.Sc.', 'M.Sc']}"
      ]
     },
     "execution_count": 30,
     "metadata": {},
     "output_type": "execute_result"
    }
   ],
   "source": [
    "d4['Name'].append(\"Rohit Sharma\")\n",
    "d4"
   ]
  },
  {
   "cell_type": "code",
   "execution_count": 27,
   "id": "0d6f3252",
   "metadata": {},
   "outputs": [
    {
     "name": "stdout",
     "output_type": "stream",
     "text": [
      "{'Name': {'Vijay', 'Rahul', 'Jasmit', 'Sonali', 'Virat'}, 'Age': [54, 63, 23, 66, 73]}\n"
     ]
    }
   ],
   "source": [
    "d5 = {'Name': {'Vijay', 'Virat', 'Rahul', 'Jasmit', 'Sonali',\"Virat\"},\n",
    " 'Age': [54, 63, 23, 66, 73]}\n",
    "print(d5)"
   ]
  },
  {
   "cell_type": "code",
   "execution_count": 29,
   "id": "dadd030c",
   "metadata": {},
   "outputs": [
    {
     "data": {
      "text/plain": [
       "1"
      ]
     },
     "execution_count": 29,
     "metadata": {},
     "output_type": "execute_result"
    }
   ],
   "source": [
    "d5['Age'].count(63)"
   ]
  },
  {
   "cell_type": "code",
   "execution_count": 31,
   "id": "6a18466d",
   "metadata": {},
   "outputs": [
    {
     "name": "stdout",
     "output_type": "stream",
     "text": [
      "Name\n",
      "Age\n",
      "Location\n",
      "Gender\n",
      "Qualification\n"
     ]
    }
   ],
   "source": [
    "for i in d4:\n",
    "    print(i)"
   ]
  },
  {
   "cell_type": "code",
   "execution_count": 33,
   "id": "05a43565",
   "metadata": {},
   "outputs": [
    {
     "name": "stdout",
     "output_type": "stream",
     "text": [
      "Name\n",
      "['Vijay', 'Virat', 'Rahul', 'Jasmit', 'Sonali', 'Rohit Sharma']\n",
      "Age\n",
      "[54, 63, 23, 66, 73]\n",
      "Location\n",
      "['Indore', 'Bhopal', 'Ratlam', 'Sagar', 'Katni']\n",
      "Gender\n",
      "['M', 'F', 'F', 'M', 'F']\n",
      "Qualification\n",
      "['B.COm', 'B.Sc.', 'M.Sc']\n"
     ]
    }
   ],
   "source": [
    "for i,j in d4.items():\n",
    "    print(i)\n",
    "    print(j)"
   ]
  },
  {
   "cell_type": "code",
   "execution_count": 36,
   "id": "fa1f0832",
   "metadata": {},
   "outputs": [
    {
     "name": "stdout",
     "output_type": "stream",
     "text": [
      "Name ['Vijay', 'Virat', 'Rahul', 'Jasmit', 'Sonali', 'Rohit Sharma']\n",
      "Age [54, 63, 23, 66, 73]\n",
      "Location ['Indore', 'Bhopal', 'Ratlam', 'Sagar', 'Katni']\n",
      "Gender ['M', 'F', 'F', 'M', 'F']\n",
      "Qualification ['B.COm', 'B.Sc.', 'M.Sc']\n"
     ]
    }
   ],
   "source": [
    "for key,value in d4.items():\n",
    "    # print(key)\n",
    "    # print(value)\n",
    "    print(key,value)"
   ]
  },
  {
   "cell_type": "code",
   "execution_count": 47,
   "id": "3a7df35f",
   "metadata": {},
   "outputs": [
    {
     "ename": "TypeError",
     "evalue": "unhashable type: 'list'",
     "output_type": "error",
     "traceback": [
      "\u001b[31m---------------------------------------------------------------------------\u001b[39m",
      "\u001b[31mTypeError\u001b[39m                                 Traceback (most recent call last)",
      "\u001b[36mCell\u001b[39m\u001b[36m \u001b[39m\u001b[32mIn[47]\u001b[39m\u001b[32m, line 1\u001b[39m\n\u001b[32m----> \u001b[39m\u001b[32m1\u001b[39m \u001b[43md4\u001b[49m\u001b[43m[\u001b[49m\u001b[43m[\u001b[49m\u001b[33;43m'\u001b[39;49m\u001b[33;43mLocation\u001b[39;49m\u001b[33;43m'\u001b[39;49m\u001b[43m,\u001b[49m\u001b[33;43m'\u001b[39;49m\u001b[33;43mName\u001b[39;49m\u001b[33;43m'\u001b[39;49m\u001b[43m]\u001b[49m\u001b[43m]\u001b[49m\n",
      "\u001b[31mTypeError\u001b[39m: unhashable type: 'list'"
     ]
    }
   ],
   "source": [
    "d4[['Location','Name']]"
   ]
  },
  {
   "cell_type": "code",
   "execution_count": 43,
   "id": "1e40e4e9",
   "metadata": {},
   "outputs": [],
   "source": [
    "d6  = {'Name': ['Vijay', 'Virat', 'Rahul', 'Jasmit', 'Sonali'],\n",
    " 'Age': [54, 63, 23, 66, 73],\n",
    " 'Location': ['Indore', 'Bhopal', 'Ratlam', 'Sagar', 'Katni'],\n",
    " 'Gender': ['M', 'F', 'F', 'M', 'F']}"
   ]
  },
  {
   "cell_type": "code",
   "execution_count": 37,
   "id": "1abbcffe",
   "metadata": {},
   "outputs": [
    {
     "name": "stdout",
     "output_type": "stream",
     "text": [
      "{'GrandFather': {'Name': 'Hariram', 'Age': 90}, 'Father': {'Name': 'Atmaram', 'Age': 54}, 'Self': {'Name': 'Ashvini', 'Age': 24}}\n"
     ]
    }
   ],
   "source": [
    "nest_dict = {\"GrandFather\":{\"Name\":\"Hariram\",\n",
    "                            \"Age\":90},\n",
    "            \"Father\":{\"Name\":\"Atmaram\",\n",
    "                      \"Age\":54},\n",
    "            \"Self\":{\"Name\":\"Ashvini\",\n",
    "                    \"Age\":24}}\n",
    "print(nest_dict)"
   ]
  },
  {
   "cell_type": "code",
   "execution_count": null,
   "id": "70bfea89",
   "metadata": {},
   "outputs": [],
   "source": [
    "d6."
   ]
  }
 ],
 "metadata": {
  "kernelspec": {
   "display_name": "Python 3",
   "language": "python",
   "name": "python3"
  },
  "language_info": {
   "codemirror_mode": {
    "name": "ipython",
    "version": 3
   },
   "file_extension": ".py",
   "mimetype": "text/x-python",
   "name": "python",
   "nbconvert_exporter": "python",
   "pygments_lexer": "ipython3",
   "version": "3.11.9"
  }
 },
 "nbformat": 4,
 "nbformat_minor": 5
}
