{
 "cells": [
  {
   "cell_type": "code",
   "execution_count": null,
   "id": "75a4e2f0",
   "metadata": {},
   "outputs": [],
   "source": []
  },
  {
   "cell_type": "markdown",
   "id": "c2d8bb32",
   "metadata": {},
   "source": [
    "# Tuple"
   ]
  },
  {
   "cell_type": "code",
   "execution_count": 1,
   "id": "b5de979b",
   "metadata": {},
   "outputs": [
    {
     "name": "stdout",
     "output_type": "stream",
     "text": [
      "()\n",
      "<class 'tuple'>\n"
     ]
    }
   ],
   "source": [
    "x = ()\n",
    "print(x)\n",
    "print(type(x))"
   ]
  },
  {
   "cell_type": "code",
   "execution_count": 2,
   "id": "25440de2",
   "metadata": {},
   "outputs": [
    {
     "name": "stdout",
     "output_type": "stream",
     "text": [
      "()\n",
      "<class 'tuple'>\n"
     ]
    }
   ],
   "source": [
    "y = tuple(())\n",
    "print(y)\n",
    "print(type(y))"
   ]
  },
  {
   "cell_type": "code",
   "execution_count": 3,
   "id": "a24b4930",
   "metadata": {},
   "outputs": [
    {
     "name": "stdout",
     "output_type": "stream",
     "text": [
      "(34, 234, 654, 'Mouse', 'Keyboard')\n",
      "<class 'tuple'>\n"
     ]
    }
   ],
   "source": [
    "tup = (34,234,654,\"Mouse\", \"Keyboard\")\n",
    "print(tup)\n",
    "print(type(tup))"
   ]
  },
  {
   "cell_type": "code",
   "execution_count": 5,
   "id": "ec0e723c",
   "metadata": {},
   "outputs": [
    {
     "name": "stdout",
     "output_type": "stream",
     "text": [
      "(34, 234, 654, 'Mouse', 'Keyboard')\n",
      "<class 'tuple'>\n"
     ]
    }
   ],
   "source": [
    "tup1 = tuple([34,234,654,\"Mouse\", \"Keyboard\"])\n",
    "print(tup1)\n",
    "print(type(tup1))"
   ]
  },
  {
   "cell_type": "code",
   "execution_count": 6,
   "id": "ece60ed6",
   "metadata": {},
   "outputs": [
    {
     "name": "stdout",
     "output_type": "stream",
     "text": [
      "45\n",
      "<class 'int'>\n"
     ]
    }
   ],
   "source": [
    "iop = 45\n",
    "print(iop)\n",
    "print(type(iop))"
   ]
  },
  {
   "cell_type": "code",
   "execution_count": 9,
   "id": "be3f345e",
   "metadata": {},
   "outputs": [
    {
     "name": "stdout",
     "output_type": "stream",
     "text": [
      "(45, 47, 'Vinay')\n",
      "<class 'tuple'>\n"
     ]
    }
   ],
   "source": [
    "# tuple unpacking\n",
    "iop = 45,47,\"Vinay\"\n",
    "print(iop)\n",
    "print(type(iop))"
   ]
  },
  {
   "cell_type": "code",
   "execution_count": 16,
   "id": "6936c6cd",
   "metadata": {},
   "outputs": [
    {
     "name": "stdout",
     "output_type": "stream",
     "text": [
      "46\n",
      "235\n",
      "['Raj', 7654, 'Rahul']\n",
      "<class 'int'>\n",
      "<class 'list'>\n"
     ]
    }
   ],
   "source": [
    "x,u, *y = 46,235,\"Raj\",7654,\"Rahul\",\n",
    "print(x)\n",
    "print(u)\n",
    "print(y)\n",
    "print(type(x))\n",
    "print(type(y))"
   ]
  },
  {
   "cell_type": "code",
   "execution_count": 18,
   "id": "d17c907d",
   "metadata": {},
   "outputs": [
    {
     "data": {
      "text/plain": [
       "'Honey'"
      ]
     },
     "execution_count": 18,
     "metadata": {},
     "output_type": "execute_result"
    }
   ],
   "source": [
    "io = (\"Honey\", \"sat\",\"Mat\",\"Anny\")\n",
    "io[0]"
   ]
  },
  {
   "cell_type": "code",
   "execution_count": 19,
   "id": "061f1d96",
   "metadata": {},
   "outputs": [
    {
     "data": {
      "text/plain": [
       "('Honey', 'sat', 'Mat')"
      ]
     },
     "execution_count": 19,
     "metadata": {},
     "output_type": "execute_result"
    }
   ],
   "source": [
    "io = (\"Honey\", \"sat\",\"Mat\",\"Anny\")\n",
    "io[0:3]"
   ]
  },
  {
   "cell_type": "code",
   "execution_count": 22,
   "id": "d5322aea",
   "metadata": {},
   "outputs": [
    {
     "ename": "TypeError",
     "evalue": "'tuple' object does not support item assignment",
     "output_type": "error",
     "traceback": [
      "\u001b[31m---------------------------------------------------------------------------\u001b[39m",
      "\u001b[31mTypeError\u001b[39m                                 Traceback (most recent call last)",
      "\u001b[36mCell\u001b[39m\u001b[36m \u001b[39m\u001b[32mIn[22]\u001b[39m\u001b[32m, line 2\u001b[39m\n\u001b[32m      1\u001b[39m io = (\u001b[33m\"\u001b[39m\u001b[33mHoney\u001b[39m\u001b[33m\"\u001b[39m, \u001b[33m\"\u001b[39m\u001b[33msat\u001b[39m\u001b[33m\"\u001b[39m,\u001b[33m\"\u001b[39m\u001b[33mMat\u001b[39m\u001b[33m\"\u001b[39m,\u001b[33m\"\u001b[39m\u001b[33mAnny\u001b[39m\u001b[33m\"\u001b[39m,\u001b[33m'\u001b[39m\u001b[33msat\u001b[39m\u001b[33m'\u001b[39m)\n\u001b[32m----> \u001b[39m\u001b[32m2\u001b[39m \u001b[43mio\u001b[49m\u001b[43m[\u001b[49m\u001b[32;43m0\u001b[39;49m\u001b[43m]\u001b[49m = \u001b[33m\"\u001b[39m\u001b[33mJaggery\u001b[39m\u001b[33m\"\u001b[39m\n\u001b[32m      3\u001b[39m \u001b[38;5;28mprint\u001b[39m(io)\n",
      "\u001b[31mTypeError\u001b[39m: 'tuple' object does not support item assignment"
     ]
    }
   ],
   "source": [
    "io = (\"Honey\", \"sat\",\"Mat\",\"Anny\",'sat')\n",
    "io[0] = \"Jaggery\"\n",
    "print(io)"
   ]
  },
  {
   "cell_type": "code",
   "execution_count": 24,
   "id": "5b2bb9f2",
   "metadata": {},
   "outputs": [
    {
     "data": {
      "text/plain": [
       "4"
      ]
     },
     "execution_count": 24,
     "metadata": {},
     "output_type": "execute_result"
    }
   ],
   "source": [
    "io.index(\"sat\",2)"
   ]
  },
  {
   "cell_type": "code",
   "execution_count": 25,
   "id": "4d5ec2e5",
   "metadata": {},
   "outputs": [
    {
     "data": {
      "text/plain": [
       "2"
      ]
     },
     "execution_count": 25,
     "metadata": {},
     "output_type": "execute_result"
    }
   ],
   "source": [
    "io.count('sat')"
   ]
  },
  {
   "cell_type": "code",
   "execution_count": 28,
   "id": "29acb0b5",
   "metadata": {},
   "outputs": [
    {
     "name": "stdout",
     "output_type": "stream",
     "text": [
      "('Honey', 'sat', 'Mat', 'Anny', 'sat', 'dhiraj', 'Sunayana')\n",
      "7\n"
     ]
    }
   ],
   "source": [
    "# tuple concatenation\n",
    "io = (\"Honey\", \"sat\",\"Mat\",\"Anny\",'sat')\n",
    "ip = (\"dhiraj\",\"Sunayana\")\n",
    "\n",
    "concat = io + ip\n",
    "print(concat)\n",
    "print(len(concat))"
   ]
  },
  {
   "cell_type": "code",
   "execution_count": null,
   "id": "fce87299",
   "metadata": {},
   "outputs": [],
   "source": []
  }
 ],
 "metadata": {
  "kernelspec": {
   "display_name": "Python 3",
   "language": "python",
   "name": "python3"
  },
  "language_info": {
   "codemirror_mode": {
    "name": "ipython",
    "version": 3
   },
   "file_extension": ".py",
   "mimetype": "text/x-python",
   "name": "python",
   "nbconvert_exporter": "python",
   "pygments_lexer": "ipython3",
   "version": "3.11.9"
  }
 },
 "nbformat": 4,
 "nbformat_minor": 5
}
