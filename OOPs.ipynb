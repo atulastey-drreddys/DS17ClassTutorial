{
 "cells": [
  {
   "cell_type": "markdown",
   "id": "50a1d994",
   "metadata": {},
   "source": [
    "# Syntax\n",
    "Class ClassName:\n",
    "    # Define your method\n",
    "\n",
    "# Driver Code\n",
    "Object = ClassName() # Instance\n",
    "print(Object)"
   ]
  },
  {
   "cell_type": "code",
   "execution_count": 7,
   "id": "32ea76ea",
   "metadata": {},
   "outputs": [
    {
     "name": "stdout",
     "output_type": "stream",
     "text": [
      "Hello world\n"
     ]
    }
   ],
   "source": [
    "class Addition:\n",
    "    print(\"Hello world\")\n",
    "ob = Addition()\n",
    "val = Addition()"
   ]
  },
  {
   "cell_type": "code",
   "execution_count": 8,
   "id": "af1f96a5",
   "metadata": {},
   "outputs": [
    {
     "name": "stdout",
     "output_type": "stream",
     "text": [
      "True\n",
      "True\n"
     ]
    }
   ],
   "source": [
    "print(isinstance(ob,Addition))\n",
    "print(isinstance(val,Addition))"
   ]
  },
  {
   "cell_type": "code",
   "execution_count": 15,
   "id": "ddd51874",
   "metadata": {},
   "outputs": [
    {
     "name": "stdout",
     "output_type": "stream",
     "text": [
      "My name is Atul\n",
      "Age 69\n"
     ]
    },
    {
     "data": {
      "text/plain": [
       "<__main__.Employee at 0x1c2a2fd1d50>"
      ]
     },
     "execution_count": 15,
     "metadata": {},
     "output_type": "execute_result"
    }
   ],
   "source": [
    "class Employee:\n",
    "    def __init__(self,Name, Age):\n",
    "        self.Name = Name\n",
    "        self.Age = Age\n",
    "        print(\"My name is\",Name)\n",
    "        print(\"Age\",Age)\n",
    "\n",
    "emp = Employee(\"Atul\",69)\n",
    "emp"
   ]
  },
  {
   "cell_type": "code",
   "execution_count": 12,
   "id": "c2650510",
   "metadata": {},
   "outputs": [
    {
     "name": "stdout",
     "output_type": "stream",
     "text": [
      "My name is Harish\n",
      "Age 34\n"
     ]
    }
   ],
   "source": [
    "class Employee:\n",
    "    def __init__(self,Name, Age):\n",
    "        self.Name = Name\n",
    "        self.Age = Age\n",
    "    def Dispay(self):\n",
    "        print(\"My name is\",self.Name)\n",
    "        print(\"Age\",self.Age)\n",
    "\n",
    "emp = Employee(\"Harish\",34)\n",
    "emp.Dispay()"
   ]
  },
  {
   "cell_type": "code",
   "execution_count": null,
   "id": "5c24fbdd",
   "metadata": {},
   "outputs": [
    {
     "name": "stdout",
     "output_type": "stream",
     "text": [
      "Bank Name SBI\n",
      "Bank Location Indore\n",
      "Total Staph 40\n",
      "Bank Name RBI\n",
      "Bank Location Mumbai\n",
      "Total Staph 500\n"
     ]
    }
   ],
   "source": [
    "class Banking:\n",
    "    def __init__(self,B_Name,Location,Size):\n",
    "        self.B_Name = B_Name\n",
    "        self.Location = Location\n",
    "        self.Size = Size \n",
    "    def Show(self):\n",
    "        print(\"Bank Name\",self.B_Name)\n",
    "        print(\"Bank Location\",self.Location) \n",
    "        print(\"Total Staph\",self.Size)\n",
    "\n",
    "SBI = Banking(\"SBI\",\"Indore\",40)\n",
    "SBI.Show()\n",
    "\n",
    "RBI = Banking(\"RBI\",\"Mumbai\",500)\n",
    "RBI.Show()\n"
   ]
  },
  {
   "cell_type": "code",
   "execution_count": null,
   "id": "9e2f227e",
   "metadata": {},
   "outputs": [
    {
     "name": "stdout",
     "output_type": "stream",
     "text": [
      "Employe ID DRF3452\n",
      "Age 89\n"
     ]
    }
   ],
   "source": [
    "class Mouse:\n",
    "    Name = \"Micky\"\n",
    "    City = \"NewYork\"\n",
    "    def __init__(self,Emp_id, Age):\n",
    "        self.Emp_id = Emp_id\n",
    "        self.Age = Age\n",
    "    def Display(self):\n",
    "        print(\"Employe ID\", self.Emp_id)\n",
    "        print(\"Age\",self.Age)\n",
    "\n",
    "M = Mouse(\"DRF3452\",89)\n",
    "M.Display()"
   ]
  },
  {
   "cell_type": "code",
   "execution_count": null,
   "id": "badd857b",
   "metadata": {},
   "outputs": [
    {
     "name": "stdout",
     "output_type": "stream",
     "text": [
      "Employe ID DRF3452\n",
      "Age 89\n",
      "Employee Name Micky\n",
      "NewYork\n",
      "NewYork\n"
     ]
    }
   ],
   "source": [
    "class Mouse:\n",
    "    Name = \"Micky\"\n",
    "    City = \"NewYork\"\n",
    "    def __init__(self,Emp_id, Age):\n",
    "        self.Emp_id = Emp_id\n",
    "        self.Age = Age\n",
    "    def Display(self):\n",
    "        print(\"Employe ID\", self.Emp_id)\n",
    "        print(\"Age\",self.Age)\n",
    "        print(\"Employee Name\",self.Name) # Outside or class varible\n",
    "\n",
    "M = Mouse(\"DRF3452\",89)\n",
    "M.Display()\n",
    "print(M.City) # Call a variable using Object name\n",
    "print(Mouse.City) # call a varible using Class name"
   ]
  },
  {
   "cell_type": "markdown",
   "id": "7ce0ea91",
   "metadata": {},
   "source": [
    "# Inheritance\n",
    "1) Single\n",
    "2) Multilevel\n",
    "3) Multiple\n",
    "4) Hierarchical\n",
    "5) Hybrid"
   ]
  },
  {
   "cell_type": "code",
   "execution_count": null,
   "id": "e8c15258",
   "metadata": {},
   "outputs": [
    {
     "name": "stdout",
     "output_type": "stream",
     "text": [
      "Charger adapter\n",
      "this is mobile method\n"
     ]
    }
   ],
   "source": [
    "class Base: # parent class \n",
    "    def Mobile(self):\n",
    "        print(\"this is mobile method\")\n",
    "\n",
    "class Derived(Base): # child class\n",
    "    def Charger(self):\n",
    "        print(\"Charger adapter\")\n",
    "\n",
    "dd = Derived()\n",
    "dd.Charger()\n",
    "dd.Mobile()"
   ]
  },
  {
   "cell_type": "code",
   "execution_count": 31,
   "id": "be603c64",
   "metadata": {},
   "outputs": [
    {
     "name": "stdout",
     "output_type": "stream",
     "text": [
      "this is mobile method\n"
     ]
    },
    {
     "ename": "AttributeError",
     "evalue": "'Base' object has no attribute 'Charger'",
     "output_type": "error",
     "traceback": [
      "\u001b[31m---------------------------------------------------------------------------\u001b[39m",
      "\u001b[31mAttributeError\u001b[39m                            Traceback (most recent call last)",
      "\u001b[36mCell\u001b[39m\u001b[36m \u001b[39m\u001b[32mIn[31]\u001b[39m\u001b[32m, line 3\u001b[39m\n\u001b[32m      1\u001b[39m base = Base()\n\u001b[32m      2\u001b[39m base.Mobile()\n\u001b[32m----> \u001b[39m\u001b[32m3\u001b[39m \u001b[43mbase\u001b[49m\u001b[43m.\u001b[49m\u001b[43mCharger\u001b[49m()\n",
      "\u001b[31mAttributeError\u001b[39m: 'Base' object has no attribute 'Charger'"
     ]
    }
   ],
   "source": [
    "base = Base()\n",
    "base.Mobile()\n",
    "base.Charger()"
   ]
  },
  {
   "cell_type": "code",
   "execution_count": 43,
   "id": "8825280c",
   "metadata": {},
   "outputs": [
    {
     "name": "stdout",
     "output_type": "stream",
     "text": [
      "Mammal\n",
      "Atul\n",
      "DurgaPrasad\n",
      "Raghunath Prashad\n"
     ]
    }
   ],
   "source": [
    "# Multilevel \n",
    "class GrandParents:\n",
    "    def Grand_parent(self):\n",
    "        print(\"Raghunath Prashad\")\n",
    "\n",
    "class Parents(GrandParents):\n",
    "    def parent(self):\n",
    "        print(\"DurgaPrasad\")\n",
    "\n",
    "class Child(Parents):\n",
    "    def child(self):\n",
    "        print(\"Atul\")\n",
    "\n",
    "class Sub_child(Child):\n",
    "    def infant(self):\n",
    "        print(\"Mammal\")\n",
    "\n",
    "s_child = Sub_child()\n",
    "s_child.infant()\n",
    "s_child.child()\n",
    "s_child.parent()\n",
    "s_child.Grand_parent()\n",
    "\n",
    "# cc = Child()\n",
    "# cc.child()\n",
    "# cc.parent()\n",
    "# cc.Grand_parent()\n",
    "# cc.infant()"
   ]
  },
  {
   "cell_type": "code",
   "execution_count": 36,
   "id": "6320542e",
   "metadata": {},
   "outputs": [
    {
     "name": "stdout",
     "output_type": "stream",
     "text": [
      "DurgaPrasad\n",
      "Raghunath Prashad\n"
     ]
    }
   ],
   "source": [
    "par = Parents()\n",
    "par.parent()\n",
    "par.Grand_parent()"
   ]
  },
  {
   "cell_type": "code",
   "execution_count": 48,
   "id": "91487fd5",
   "metadata": {},
   "outputs": [
    {
     "name": "stdout",
     "output_type": "stream",
     "text": [
      "Dog eat Biscuit\n",
      "Dog eat Biscuit\n",
      "All animal have eat some food\n"
     ]
    }
   ],
   "source": [
    "# method overriding\n",
    "class Animal:\n",
    "    def Eat(self):\n",
    "        print(\"All animal have eat some food\")\n",
    "class Dog(Animal):\n",
    "    def Eat(self):\n",
    "        print(\"Dog eat Biscuit\")\n",
    "\n",
    "aa = Animal()\n",
    "dd = Dog()\n",
    "dd.Eat()\n",
    "dd.Eat()\n",
    "aa.Eat()"
   ]
  },
  {
   "cell_type": "code",
   "execution_count": null,
   "id": "338a822a",
   "metadata": {},
   "outputs": [
    {
     "name": "stdout",
     "output_type": "stream",
     "text": [
      "22\n",
      "39\n"
     ]
    }
   ],
   "source": [
    "# Method overloading\n",
    "\n",
    "class Math:\n",
    "    def Add(a,b,c):\n",
    "        return b + c\n",
    "class Science(Math):\n",
    "    def Add(d,e,f,g):\n",
    "        return e + f + g\n",
    "    \n",
    "sc = Science()\n",
    "print(sc.Add(5,7,10))\n",
    "M = Math()\n",
    "print(M.Add(19,20))"
   ]
  },
  {
   "cell_type": "code",
   "execution_count": null,
   "id": "7eb6ba62",
   "metadata": {},
   "outputs": [
    {
     "name": "stdout",
     "output_type": "stream",
     "text": [
      "It is a child class of Parent and GrandFather\n",
      "DurgraPrasad\n",
      "Raghunath\n"
     ]
    }
   ],
   "source": [
    "# Multiple inheritance\n",
    "\n",
    "class GrandFather:\n",
    "    def Grand_father(self):\n",
    "        print(\"Raghunath\")\n",
    "\n",
    "class Parent:\n",
    "    def parent(self):\n",
    "        print(\"DurgraPrasad\")\n",
    "\n",
    "class Child(GrandFather,Parent):\n",
    "    def baby(self):\n",
    "        print(\"It is a child class of Parent and GrandFather\")\n",
    "    \n",
    "\n",
    "ch = Child()\n",
    "ch.baby()\n",
    "ch.parent()\n",
    "ch.Grand_father()"
   ]
  },
  {
   "cell_type": "code",
   "execution_count": null,
   "id": "97a50c85",
   "metadata": {},
   "outputs": [
    {
     "name": "stdout",
     "output_type": "stream",
     "text": [
      "High quality Camera\n",
      "Mobile display\n",
      "Mobile display\n",
      "90W Charger\n"
     ]
    }
   ],
   "source": [
    "# Hierachical Inheritance\n",
    "class Mobile:\n",
    "    def Display(self):\n",
    "        print(\"Mobile display\")\n",
    "class Vivo(Mobile):\n",
    "    def Fast_Charger(self):\n",
    "        print(\"90W Charger\")\n",
    "class Samsung(Mobile):\n",
    "    def Camera(self):\n",
    "        print(\"High quality Camera\")\n",
    "sam = Samsung()\n",
    "sam.Camera()\n",
    "sam.Display()\n",
    "\n",
    "viv = Vivo()\n",
    "viv.Display()\n",
    "viv.Fast_Charger()"
   ]
  },
  {
   "cell_type": "code",
   "execution_count": 69,
   "id": "4788c8ef",
   "metadata": {},
   "outputs": [
    {
     "name": "stdout",
     "output_type": "stream",
     "text": [
      "Mobile display\n",
      "90W Charger\n",
      "It is a child class of Parent and GrandFather\n",
      "DurgraPrasad\n"
     ]
    }
   ],
   "source": [
    "# Hybrid Inheritance\n",
    "class GrandFather:\n",
    "    def Grand_father(self):\n",
    "        print(\"Raghunath\")\n",
    "class Parent:\n",
    "    def parent(self):\n",
    "        print(\"DurgraPrasad\")\n",
    "class Child(GrandFather,Parent):\n",
    "    def baby(self):\n",
    "        print(\"It is a child class of Parent and GrandFather\")\n",
    "class Mobile:\n",
    "    def Display(self):\n",
    "        print(\"Mobile display\")\n",
    "class Vivo(Mobile):\n",
    "    def Fast_Charger(self):\n",
    "        print(\"90W Charger\")\n",
    "\n",
    "vv = Vivo()\n",
    "vv.Display()\n",
    "vv.Fast_Charger()\n",
    "\n",
    "cc = Child()\n",
    "cc.Grand_father\n",
    "cc.baby()\n",
    "cc.parent()"
   ]
  },
  {
   "cell_type": "code",
   "execution_count": 76,
   "id": "149ad1d6",
   "metadata": {},
   "outputs": [
    {
     "name": "stdout",
     "output_type": "stream",
     "text": [
      "NewDelhi\n",
      "Hindi\n",
      "----------------------------------------------------------------------------------------------------\n",
      "Beijing\n",
      "Renminbi\n",
      "----------------------------------------------------------------------------------------------------\n",
      "Paris\n",
      "French\n"
     ]
    }
   ],
   "source": [
    "# PolyMorphism\n",
    "\n",
    "class India:\n",
    "    def Capital(self):\n",
    "        print(\"NewDelhi\")\n",
    "    def Language(self):\n",
    "        print(\"Hindi\")\n",
    "class France:\n",
    "    def Capital(self):\n",
    "        print(\"Paris\")\n",
    "    def Language(self):\n",
    "        print(\"French\")\n",
    "class China:\n",
    "    def Capital(self):\n",
    "        print(\"Beijing\")\n",
    "    def Language(self):\n",
    "        print(\"Renminbi\")\n",
    "\n",
    "In = India()\n",
    "In.Capital()\n",
    "In.Language() \n",
    "print(\"--\"*50)\n",
    "CH = China()\n",
    "CH.Capital()\n",
    "CH.Language()\n",
    "print(\"--\"*50)\n",
    "Fr = France()\n",
    "Fr.Capital()\n",
    "Fr.Language()"
   ]
  },
  {
   "cell_type": "code",
   "execution_count": null,
   "id": "6d3d0f82",
   "metadata": {},
   "outputs": [],
   "source": []
  },
  {
   "cell_type": "code",
   "execution_count": null,
   "id": "77259315",
   "metadata": {},
   "outputs": [
    {
     "name": "stdout",
     "output_type": "stream",
     "text": [
      "Public Method\n",
      "Protected Method\n",
      "Private method\n"
     ]
    }
   ],
   "source": [
    "# Encapsulation\n",
    "class Duster:\n",
    "    def Pub(self):\n",
    "        print(\"Public Method\")\n",
    "    def _Protected(self):\n",
    "        print(\"Protected Method\")\n",
    "    def __Pri(self):\n",
    "        print(\"Private method\")\n",
    "\n",
    "Dst = Duster()\n",
    "Dst.Pub()\n",
    "Dst._Protected()\n",
    "#Dst.__Pri()\n",
    "Dst._Duster__Pri()"
   ]
  },
  {
   "cell_type": "code",
   "execution_count": null,
   "id": "7f5b8082",
   "metadata": {},
   "outputs": [],
   "source": []
  }
 ],
 "metadata": {
  "kernelspec": {
   "display_name": "Python 3",
   "language": "python",
   "name": "python3"
  },
  "language_info": {
   "codemirror_mode": {
    "name": "ipython",
    "version": 3
   },
   "file_extension": ".py",
   "mimetype": "text/x-python",
   "name": "python",
   "nbconvert_exporter": "python",
   "pygments_lexer": "ipython3",
   "version": "3.11.9"
  }
 },
 "nbformat": 4,
 "nbformat_minor": 5
}
